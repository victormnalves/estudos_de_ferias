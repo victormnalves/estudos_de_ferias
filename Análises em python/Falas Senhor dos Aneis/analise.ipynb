{
 "cells": [
  {
   "cell_type": "code",
   "execution_count": 1,
   "metadata": {},
   "outputs": [],
   "source": [
    "import pandas as pd\n",
    "import numpy as np\n",
    "from numpy import nan as NA\n",
    "from IPython.core.interactiveshell import InteractiveShell\n",
    "InteractiveShell.ast_node_interactivity = \"all\""
   ]
  },
  {
   "cell_type": "code",
   "execution_count": 2,
   "metadata": {},
   "outputs": [
    {
     "output_type": "execute_result",
     "data": {
      "text/plain": [
       "                           Film                 Chapter  Character    Race  \\\n",
       "0    The Fellowship Of The Ring            01: Prologue      Bilbo  Hobbit   \n",
       "1    The Fellowship Of The Ring            01: Prologue     Elrond     Elf   \n",
       "2    The Fellowship Of The Ring            01: Prologue  Galadriel     Elf   \n",
       "3    The Fellowship Of The Ring            01: Prologue     Gollum  Gollum   \n",
       "4    The Fellowship Of The Ring  02: Concerning Hobbits      Bilbo  Hobbit   \n",
       "..                          ...                     ...        ...     ...   \n",
       "726      The Return Of The King     76: The Grey Havens     Elrond     Elf   \n",
       "727      The Return Of The King     76: The Grey Havens      Frodo  Hobbit   \n",
       "728      The Return Of The King     76: The Grey Havens  Galadriel     Elf   \n",
       "729      The Return Of The King     76: The Grey Havens    Gandalf   Ainur   \n",
       "730      The Return Of The King     76: The Grey Havens        Sam  Hobbit   \n",
       "\n",
       "     Words  \n",
       "0        4  \n",
       "1        5  \n",
       "2      460  \n",
       "3       20  \n",
       "4      214  \n",
       "..     ...  \n",
       "726      6  \n",
       "727    132  \n",
       "728     17  \n",
       "729     42  \n",
       "730     14  \n",
       "\n",
       "[731 rows x 5 columns]"
      ],
      "text/html": "<div>\n<style scoped>\n    .dataframe tbody tr th:only-of-type {\n        vertical-align: middle;\n    }\n\n    .dataframe tbody tr th {\n        vertical-align: top;\n    }\n\n    .dataframe thead th {\n        text-align: right;\n    }\n</style>\n<table border=\"1\" class=\"dataframe\">\n  <thead>\n    <tr style=\"text-align: right;\">\n      <th></th>\n      <th>Film</th>\n      <th>Chapter</th>\n      <th>Character</th>\n      <th>Race</th>\n      <th>Words</th>\n    </tr>\n  </thead>\n  <tbody>\n    <tr>\n      <th>0</th>\n      <td>The Fellowship Of The Ring</td>\n      <td>01: Prologue</td>\n      <td>Bilbo</td>\n      <td>Hobbit</td>\n      <td>4</td>\n    </tr>\n    <tr>\n      <th>1</th>\n      <td>The Fellowship Of The Ring</td>\n      <td>01: Prologue</td>\n      <td>Elrond</td>\n      <td>Elf</td>\n      <td>5</td>\n    </tr>\n    <tr>\n      <th>2</th>\n      <td>The Fellowship Of The Ring</td>\n      <td>01: Prologue</td>\n      <td>Galadriel</td>\n      <td>Elf</td>\n      <td>460</td>\n    </tr>\n    <tr>\n      <th>3</th>\n      <td>The Fellowship Of The Ring</td>\n      <td>01: Prologue</td>\n      <td>Gollum</td>\n      <td>Gollum</td>\n      <td>20</td>\n    </tr>\n    <tr>\n      <th>4</th>\n      <td>The Fellowship Of The Ring</td>\n      <td>02: Concerning Hobbits</td>\n      <td>Bilbo</td>\n      <td>Hobbit</td>\n      <td>214</td>\n    </tr>\n    <tr>\n      <th>...</th>\n      <td>...</td>\n      <td>...</td>\n      <td>...</td>\n      <td>...</td>\n      <td>...</td>\n    </tr>\n    <tr>\n      <th>726</th>\n      <td>The Return Of The King</td>\n      <td>76: The Grey Havens</td>\n      <td>Elrond</td>\n      <td>Elf</td>\n      <td>6</td>\n    </tr>\n    <tr>\n      <th>727</th>\n      <td>The Return Of The King</td>\n      <td>76: The Grey Havens</td>\n      <td>Frodo</td>\n      <td>Hobbit</td>\n      <td>132</td>\n    </tr>\n    <tr>\n      <th>728</th>\n      <td>The Return Of The King</td>\n      <td>76: The Grey Havens</td>\n      <td>Galadriel</td>\n      <td>Elf</td>\n      <td>17</td>\n    </tr>\n    <tr>\n      <th>729</th>\n      <td>The Return Of The King</td>\n      <td>76: The Grey Havens</td>\n      <td>Gandalf</td>\n      <td>Ainur</td>\n      <td>42</td>\n    </tr>\n    <tr>\n      <th>730</th>\n      <td>The Return Of The King</td>\n      <td>76: The Grey Havens</td>\n      <td>Sam</td>\n      <td>Hobbit</td>\n      <td>14</td>\n    </tr>\n  </tbody>\n</table>\n<p>731 rows × 5 columns</p>\n</div>"
     },
     "metadata": {},
     "execution_count": 2
    }
   ],
   "source": [
    "# carregando os dados\n",
    "df = pd.read_csv('WordsByCharacter.csv')\n",
    "df"
   ]
  },
  {
   "cell_type": "code",
   "execution_count": 3,
   "metadata": {
    "scrolled": true
   },
   "outputs": [
    {
     "output_type": "execute_result",
     "data": {
      "text/plain": [
       "FrozenList([None])"
      ]
     },
     "metadata": {},
     "execution_count": 3
    }
   ],
   "source": [
    "df.index.names"
   ]
  },
  {
   "cell_type": "code",
   "execution_count": 4,
   "metadata": {},
   "outputs": [
    {
     "output_type": "execute_result",
     "data": {
      "text/plain": [
       "                                                                    Words\n",
       "Film                       Chapter                Race   Character       \n",
       "The Fellowship Of The Ring 01: Prologue           Hobbit Bilbo          4\n",
       "                                                  Elf    Elrond         5\n",
       "                                                         Galadriel    460\n",
       "                                                  Gollum Gollum        20\n",
       "                           02: Concerning Hobbits Hobbit Bilbo        214\n",
       "...                                                                   ...\n",
       "The Return Of The King     76: The Grey Havens    Elf    Elrond         6\n",
       "                                                  Hobbit Frodo        132\n",
       "                                                  Elf    Galadriel     17\n",
       "                                                  Ainur  Gandalf       42\n",
       "                                                  Hobbit Sam           14\n",
       "\n",
       "[731 rows x 1 columns]"
      ],
      "text/html": "<div>\n<style scoped>\n    .dataframe tbody tr th:only-of-type {\n        vertical-align: middle;\n    }\n\n    .dataframe tbody tr th {\n        vertical-align: top;\n    }\n\n    .dataframe thead th {\n        text-align: right;\n    }\n</style>\n<table border=\"1\" class=\"dataframe\">\n  <thead>\n    <tr style=\"text-align: right;\">\n      <th></th>\n      <th></th>\n      <th></th>\n      <th></th>\n      <th>Words</th>\n    </tr>\n    <tr>\n      <th>Film</th>\n      <th>Chapter</th>\n      <th>Race</th>\n      <th>Character</th>\n      <th></th>\n    </tr>\n  </thead>\n  <tbody>\n    <tr>\n      <th rowspan=\"5\" valign=\"top\">The Fellowship Of The Ring</th>\n      <th rowspan=\"4\" valign=\"top\">01: Prologue</th>\n      <th>Hobbit</th>\n      <th>Bilbo</th>\n      <td>4</td>\n    </tr>\n    <tr>\n      <th rowspan=\"2\" valign=\"top\">Elf</th>\n      <th>Elrond</th>\n      <td>5</td>\n    </tr>\n    <tr>\n      <th>Galadriel</th>\n      <td>460</td>\n    </tr>\n    <tr>\n      <th>Gollum</th>\n      <th>Gollum</th>\n      <td>20</td>\n    </tr>\n    <tr>\n      <th>02: Concerning Hobbits</th>\n      <th>Hobbit</th>\n      <th>Bilbo</th>\n      <td>214</td>\n    </tr>\n    <tr>\n      <th>...</th>\n      <th>...</th>\n      <th>...</th>\n      <th>...</th>\n      <td>...</td>\n    </tr>\n    <tr>\n      <th rowspan=\"5\" valign=\"top\">The Return Of The King</th>\n      <th rowspan=\"5\" valign=\"top\">76: The Grey Havens</th>\n      <th>Elf</th>\n      <th>Elrond</th>\n      <td>6</td>\n    </tr>\n    <tr>\n      <th>Hobbit</th>\n      <th>Frodo</th>\n      <td>132</td>\n    </tr>\n    <tr>\n      <th>Elf</th>\n      <th>Galadriel</th>\n      <td>17</td>\n    </tr>\n    <tr>\n      <th>Ainur</th>\n      <th>Gandalf</th>\n      <td>42</td>\n    </tr>\n    <tr>\n      <th>Hobbit</th>\n      <th>Sam</th>\n      <td>14</td>\n    </tr>\n  </tbody>\n</table>\n<p>731 rows × 1 columns</p>\n</div>"
     },
     "metadata": {},
     "execution_count": 4
    },
    {
     "output_type": "execute_result",
     "data": {
      "text/plain": [
       "FrozenList(['Film', 'Chapter', 'Race', 'Character'])"
      ]
     },
     "metadata": {},
     "execution_count": 4
    }
   ],
   "source": [
    "# criando um multinindex\n",
    "multi = df.set_index(['Film','Chapter','Race','Character'])\n",
    "multi\n",
    "\n",
    "#vendo os níveis\n",
    "multi.index.names"
   ]
  },
  {
   "cell_type": "code",
   "execution_count": 5,
   "metadata": {
    "scrolled": true
   },
   "outputs": [
    {
     "output_type": "execute_result",
     "data": {
      "text/plain": [
       " 'Men', 'Theoden'),\n",
       "       ('The Return Of The King', \"06: Gollum's Villany\", 'Hobbit', 'Frodo'),\n",
       "       ('The Return Of The King', \"06: Gollum's Villany\", 'Gollum', 'Gollum'),\n",
       "       ('The Return Of The King', \"06: Gollum's Villany\", 'Hobbit', 'Sam'),\n",
       "       ('The Return Of The King', \"06: Gollum's Villany\", 'Gollum', 'Smeagol'),\n",
       "       ('The Return Of The King', \"07: Eowyn's Dream\", 'Men', 'Aragorn'),\n",
       "       ('The Return Of The King', \"07: Eowyn's Dream\", 'Men', 'Eowyn'),\n",
       "       ('The Return Of The King', '08: The Palantir', 'Men', 'Aragorn'),\n",
       "       ('The Return Of The King', '08: The Palantir', 'Ainur', 'Gandalf'),\n",
       "       ('The Return Of The King', '08: The Palantir', 'Elf', 'Legolas'),\n",
       "       ('The Return Of The King', '08: The Palantir', 'Hobbit', 'Merry'),\n",
       "       ('The Return Of The King', '08: The Palantir', 'Hobbit', 'Pippin'),\n",
       "       ('The Return Of The King', '08: The Palantir', 'Men', 'Theoden'),\n",
       "       ('The Return Of The King', \"09: Arwen's Vision\", 'Elf', 'Elrond'),\n",
       "       ('The Return Of The King', \"09: Arwen's Vision\", 'Elf', 'Figwit'),\n",
       "       ('The Return Of The King', '10: The Reforging Of Narsil', 'Elf', 'Arwen'),\n",
       "       ('The Return Of The King', '10: The Reforging Of Narsil', 'Elf', 'Elrond'),\n",
       "       ('The Return Of The King', '11: Minas Tirith', 'Men', 'Denethor'),\n",
       "       ('The Return Of The King', '11: Minas Tirith', 'Ainur', 'Gandalf'),\n",
       "       ('The Return Of The King', '11: Minas Tirith', 'Hobbit', 'Pippin'),\n",
       "       ('The Return Of The King', '12: The Decline Of Gondor', 'Ainur', 'Gandalf'),\n",
       "       ('The Return Of The King', '12: The Decline Of Gondor', 'Hobbit', 'Pippin'),\n",
       "       ('The Return Of The King', '13: Cross-roads Of The Fallen King', 'Hobbit', 'Frodo'),\n",
       "       ('The Return Of The King', '13: Cross-roads Of The Fallen King', 'Gollum', 'Gollum'),\n",
       "       ('The Return Of The King', '13: Cross-roads Of The Fallen King', 'Hobbit', 'Sam'),\n",
       "       ('The Return Of The King', '14: The Deep Breath Before The Plunge', 'Ainur', 'Gandalf'),\n",
       "       ('The Return Of The King', '14: The Deep Breath Before The Plunge', 'Men', 'Gondor Man'),\n",
       "       ('The Return Of The King', '14: The Deep Breath Before The Plunge', 'Hobbit', 'Pippin'),\n",
       "       ('The Return Of The King', '15: Minas Morgul', 'Hobbit', 'Frodo'),\n",
       "       ('The Return Of The King', '15: Minas Morgul', 'Ainur', 'Gandalf'),\n",
       "       ('The Return Of The King', '15: Minas Morgul', 'Gollum', 'Gollum'),\n",
       "       ('The Return Of The King', '15: Minas Morgul', 'Hobbit', 'Sam'),\n",
       "       ('The Return Of The King', \"16: Sam's Warning\", 'Hobbit', 'Frodo'),\n",
       "       ('The Return Of The King', \"16: Sam's Warning\", 'Gollum', 'Gollum'),\n",
       "       ('The Return Of The King', \"16: Sam's Warning\", 'Hobbit', 'Sam'),\n",
       "       ('The Return Of The King', \"17: Pippin's Task\", 'Ainur', 'Gandalf'),\n",
       "       ('The Return Of The King', '18: Osgiliath Invaded', 'Men', 'Damrod'),\n",
       "       ('The Return Of The King', '18: Osgiliath Invaded', 'Men', 'Faramir'),\n",
       "       ('The Return Of The King', '18: Osgiliath Invaded', 'Men', 'Gondor Man'),\n",
       "       ('The Return Of The King', '18: Osgiliath Invaded', 'Orc', 'Gothmog'),\n",
       "       ('The Return Of The King', '18: Osgiliath Invaded', 'Men', 'Madril'),\n",
       "       ('The Return Of The King', '19: The Lighting Of The Beacons', 'Ainur', 'Gandalf'),\n",
       "       ('The Return Of The King', '19: The Lighting Of The Beacons', 'Men', 'Gondor Man'),\n",
       "       ('The Return Of The King', \"20: Theoren's Decision\", 'Men', 'Aragorn'),\n",
       "       ('The Return Of The King', \"20: Theoren's Decision\", 'Men', 'Eomer'),\n",
       "       ('The Return Of The King', \"20: Theoren's Decision\", 'Men', 'Eowyn'),\n",
       "       ('The Return Of The King', \"20: Theoren's Decision\", 'Men', 'Gamling'),\n",
       "       ('The Return Of The King', \"20: Theoren's Decision\", 'Dwarf', 'Gimli'),\n",
       "       ('The Return Of The King', \"20: Theoren's Decision\", 'Elf', 'Legolas'),\n",
       "       ('The Return Of The King', \"20: Theoren's Decision\", 'Hobbit', 'Merry'),\n",
       "       ('The Return Of The King', \"20: Theoren's Decision\", 'Men', 'Rohan Warrior'),\n",
       "       ('The Return Of The King', \"20: Theoren's Decision\", 'Men', 'Theoden'),\n",
       "       ('The Return Of The King', '21: The Fall of Osgiliath', 'Men', 'Damrod'),\n",
       "       ('The Return Of The King', '21: The Fall of Osgiliath', 'Men', 'Faramir'),\n",
       "       ('The Return Of The King', '21: The Fall of Osgiliath', 'Ainur', 'Gandalf'),\n",
       "       ('The Return Of The King', '21: The Fall of Osgiliath', 'Men', 'Gondor Man'),\n",
       "       ('The Return Of The King', '21: The Fall of Osgiliath', 'Orc', 'Gothmog'),\n",
       "       ('The Return Of The King', '21: The Fall of Osgiliath', 'Men', 'Irolas'),\n",
       "       ('The Return Of The King', '21: The Fall of Osgiliath', 'Men', 'Madril'),\n",
       "       ('The Return Of The King', '21: The Fall of Osgiliath', 'Hobbit', 'Pippin'),\n",
       "       ('The Return Of The King', \"22: The Wizard's Pupil\", 'Men', 'Denethor'),\n",
       "       ('The Return Of The King', \"22: The Wizard's Pupil\", 'Men', 'Faramir'),\n",
       "       ('The Return Of The King', '23: The Stairs Of Cirith Ungol', 'Gollum', 'Gollum'),\n",
       "       ('The Return Of The King', '23: The Stairs Of Cirith Ungol', 'Hobbit', 'Sam'),\n",
       "       ('The Return Of The King', '24: Courage Is The Best Defense', 'Ainur', 'Gandalf'),\n",
       "       ('The Return Of The King', '24: Courage Is The Best Defense', 'Men', 'Gondor Man'),\n",
       "       ('The Return Of The King', '24: Courage Is The Best Defense', 'Orc', 'Gothmog'),\n",
       "       ('The Return Of The King', '24: Courage Is The Best Defense', 'Nazgul', 'Witch King'),\n",
       "       ('The Return Of The King', '25: Peregrin Of The Tower Guard', 'Men', 'Faramir'),\n",
       "       ('The Return Of The King', '25: Peregrin Of The Tower Guard', 'Hobbit', 'Pippin'),\n",
       "       ('The Return Of The King', '26: Allegiance To Denethor', 'Men', 'Denethor'),\n",
       "       ('The Return Of The King', '26: Allegiance To Denethor', 'Men', 'Faramir'),\n",
       "       ('The Return Of The King', '26: Allegiance To Denethor', 'Hobbit', 'Pippin'),\n",
       "       ('The Return Of The King', '27: The Parting Of Sam & Frodo', 'Hobbit', 'Frodo'),\n",
       "       ('The Return Of The King', '27: The Parting Of Sam & Frodo', 'Gollum', 'Gollum'),\n",
       "       ('The Return Of The King', '27: The Parting Of Sam & Frodo', 'Hobbit', 'Sam'),\n",
       "       ('The Return Of The King', '28: The Sacrifice Of Faramir', 'Men', 'Denethor'),\n",
       "       ('The Return Of The King', '28: The Sacrifice Of Faramir', 'Men', 'Faramir'),\n",
       "       ('The Return Of The King', '28: The Sacrifice Of Faramir', 'Ainur', 'Gandalf'),\n",
       "       ('The Return Of The King', '28: The Sacrifice Of Faramir', 'Orc', 'Orc'),\n",
       "       ('The Return Of The King', '28: The Sacrifice Of Faramir', 'Hobbit', 'Pippin'),\n",
       "       ('The Return Of The King', '29: Marshalling At Dunharrow', 'Men', 'Aragorn'),\n",
       "       ('The Return Of The King', '29: Marshalling At Dunharrow', 'Men', 'Eomer'),\n",
       "       ('The Return Of The King', '29: Marshalling At Dunharrow', 'Men', 'Eowyn'),\n",
       "       ('The Return Of The King', '29: Marshalling At Dunharrow', 'Dwarf', 'Gimli'),\n",
       "       ('The Return Of The King', '29: Marshalling At Dunharrow', 'Men', 'Grimhold'),\n",
       "       ('The Return Of The King', '29: Marshalling At Dunharrow', 'Elf', 'Legolas'),\n",
       "       ('The Return Of The King', '29: Marshalling At Dunharrow', 'Hobbit', 'Merry'),\n",
       "       ('The Return Of The King', '29: Marshalling At Dunharrow', 'Men', 'Rohan Warrior'),\n",
       "       ('The Return Of The King', '29: Marshalling At Dunharrow', 'Men', 'Theoden'),\n",
       "       ('The Return Of The King', '30: Anduril - Flame Of The West', 'Men', 'Aragorn'),\n",
       "       ('The Return Of The King', '30: Anduril - Flame Of The West', 'Elf', 'Arwen'),\n",
       "       ('The Return Of The King', '30: Anduril - Flame Of The West', 'Elf', 'Elrond'),\n",
       "       ('The Return Of The King', '30: Anduril - Flame Of The West', 'Men', 'Rohan Warrior'),\n",
       "       ('The Return Of The King', '30: Anduril - Flame Of The West', 'Men', 'Theoden'),\n",
       "       ('The Return Of The King', '31: Aragorn Takes The Paths Of The Dead', 'Men', 'Aragorn'),\n",
       "       ('The Return Of The King', '31: Aragorn Takes The Paths Of The Dead', 'Men', 'Eowyn'),\n",
       "       ('The Return Of The King', '31: Aragorn Takes The Paths Of The Dead', 'Men', 'Gamling'),\n",
       "       ('The Return Of The King', '31: Aragorn Takes The Paths Of The Dead', 'Dwarf', 'Gimli'),\n",
       "       ('The Return Of The King', '31: Aragorn Takes The Paths Of The Dead', 'Elf', 'Legolas'),\n",
       "       ('The Return Of The King', '31: Aragorn Takes The Paths Of The Dead', 'Men', 'Rohan Warrior'),\n",
       "       ('The Return Of The King', '31: Aragorn Takes The Paths Of The Dead', 'Men', 'Theoden'),\n",
       "       ('The Return Of The King', '32: No More Despair', 'Men', 'Eowyn'),\n",
       "       ('The Return Of The King', '32: No More Despair', 'Men', 'Theoden'),\n",
       "       ('The Return Of The King', '33: Dwimoberg ~ The Haunted Mountain', 'Men', 'Aragorn'),\n",
       "       ('The Return Of The King', '33: Dwimoberg ~ The Haunted Mountain', 'Dwarf', 'Gimli'),\n",
       "       ('The Return Of The King', '33: Dwimoberg ~ The Haunted Mountain', 'Elf', 'Legolas'),\n",
       "       ('The Return Of The King', '34: The Muster Of Rohan', 'Men', 'Eomer'),\n",
       "       ('The Return Of The King', '34: The Muster Of Rohan', 'Men', 'Eowyn'),\n",
       "       ('The Return Of The King', '34: The Muster Of Rohan', 'Hobbit', 'Merry'),\n",
       "       ('The Return Of The King', '34: The Muster Of Rohan', 'Men', 'Theoden'),\n",
       "       ('The Return Of The King', '35: The Paths Of The Dead', 'Men', 'Aragorn'),\n",
       "       ('The Return Of The King', '35: The Paths Of The Dead', 'Dwarf', 'Gimli'),\n",
       "       ('The Return Of The King', '35: The Paths Of The Dead', 'Dead', 'King Of The Dead'),\n",
       "       ('The Return Of The King', '35: The Paths Of The Dead', 'Elf', 'Legolas'),\n",
       "       ('The Return Of The King', '36: The Siege Of Gondor', 'Men', 'Denethor'),\n",
       "       ('The Return Of The King', '36: The Siege Of Gondor', 'Ainur', 'Gandalf'),\n",
       "       ('The Return Of The King', '36: The Siege Of Gondor', 'Men', 'Gondor Man'),\n",
       "       ('The Return Of The King', '36: The Siege Of Gondor', 'Orc', 'Gothmog'),\n",
       "       ('The Return Of The King', '36: The Siege Of Gondor', 'Men', 'Irolas'),\n",
       "       ('The Return Of The King', '36: The Siege Of Gondor', 'Orc', 'Orc'),\n",
       "       ('The Return Of The King', '36: The Siege Of Gondor', 'Hobbit', 'Pippin'),\n",
       "       ('The Return Of The King', '37: The Corsairs Of Umbar', 'Men', 'Aragorn'),\n",
       "       ('The Return Of The King', '37: The Corsairs Of Umbar', 'Men', 'Boson'),\n",
       "       ('The Return Of The King', '37: The Corsairs Of Umbar', 'Dwarf', 'Gimli'),\n",
       "       ('The Return Of The King', '37: The Corsairs Of Umbar', 'Men', 'Mercenary'),\n",
       "       ('The Return Of The King', \"38: Shelob's Lair\", 'Hobbit', 'Frodo'),\n",
       "       ('The Return Of The King', \"38: Shelob's Lair\", 'Elf', 'Galadriel'),\n",
       "       ('The Return Of The King', \"38: Shelob's Lair\", 'Gollum', 'Gollum'),\n",
       "       ('The Return Of The King', \"38: Shelob's Lair\", 'Hobbit', 'Sam'),\n",
       "       ('The Return Of The King', \"38: Shelob's Lair\", 'Gollum', 'Smeagol'),\n",
       "       ('The Return Of The King', \"39: Merry's Simple Courage\", 'Men', 'Eomer'),\n",
       "       ('The Return Of The King', \"39: Merry's Simple Courage\", 'Men', 'Eowyn'),\n",
       "       ('The Return Of The King', \"39: Merry's Simple Courage\", 'Hobbit', 'Merry'),\n",
       "       ('The Return Of The King', \"39: Merry's Simple Courage\", 'Men', 'Theoden'),\n",
       "       ('The Return Of The King', '40: Grond ~ The Hammer Of The Underworld', 'Ainur', 'Gandalf'),\n",
       "       ('The Return Of The King', '41: The Tomb Of The Stewards', 'Men', 'Denethor'),\n",
       "       ('The Return Of The King', '42: Breaking The Gate Of Gondor', 'Ainur', 'Gandalf'),\n",
       "       ('The Return Of The King', '43: The Choices Of Master Samwise Gamgee', 'Orc', 'Orc'),\n",
       "       ('The Return Of The King', '43: The Choices Of Master Samwise Gamgee', 'Hobbit', 'Sam'),\n",
       "       ('The Return Of The King', '43: The Choices Of Master Samwise Gamgee', 'Orc', 'Shagrat'),\n",
       "       ('The Return Of The King', \"44: Denethor's Madness\", 'Men', 'Denethor'),\n",
       "       ('The Return Of The King', \"44: Denethor's Madness\", 'Men', 'Gondor Man'),\n",
       "       ('The Return Of The King', \"44: Denethor's Madness\", 'Hobbit', 'Pippin'),\n",
       "       ('The Return Of The King', \"45: The Witch King's Hour\", 'Ainur', 'Gandalf'),\n",
       "       ('The Return Of The King', \"45: The Witch King's Hour\", 'Men', 'Gondor Man'),\n",
       "       ('The Return Of The King', \"45: The Witch King's Hour\", 'Orc', 'Gothmog'),\n",
       "       ('The Return Of The King', \"45: The Witch King's Hour\", 'Hobbit', 'Pippin'),\n",
       "       ('The Return Of The King', \"45: The Witch King's Hour\", 'Nazgul', 'Witch King'),\n",
       "       ('The Return Of The King', '46: The Ride Of The Rohirrim', 'Men', 'Eomer'),\n",
       "       ('The Return Of The King', '46: The Ride Of The Rohirrim', 'Men', 'Eowyn'),\n",
       "       ('The Return Of The King', '46: The Ride Of The Rohirrim', 'Orc', 'Gothmog'),\n",
       "       ('The Return Of The King', '46: The Ride Of The Rohirrim', 'Hobbit', 'Merry'),\n",
       "       ('The Return Of The King', '46: The Ride Of The Rohirrim', 'Men', 'Theoden'),\n",
       "       ('The Return Of The King', '47: The Pyre Of Denethor', 'Men', 'Denethor'),\n",
       "       ('The Return Of The King', '47: The Pyre Of Denethor', 'Ainur', 'Gandalf'),\n",
       "       ('The Return Of The King', '47: The Pyre Of Denethor', 'Hobbit', 'Pippin'),\n",
       "       ('The Return Of The King', '48: The Battle Of The Pelennor Fields', 'Men', 'Eomer'),\n",
       "       ('The Return Of The King', '48: The Battle Of The Pelennor Fields', 'Men', 'Eowyn'),\n",
       "       ('The Return Of The King', '48: The Battle Of The Pelennor Fields', 'Men', 'Rohan Warrior'),\n",
       "       ('The Return Of The King', '48: The Battle Of The Pelennor Fields', 'Men', 'Theoden'),\n",
       "       ('The Return Of The King', '49: A Far Green Country', 'Ainur', 'Gandalf'),\n",
       "       ('The Return Of The King', '49: A Far Green Country', 'Hobbit', 'Pippin'),\n",
       "       ('The Return Of The King', '50: The Nazgul And His Prey', 'Men', 'Eowyn'),\n",
       "       ('The Return Of The King', '50: The Nazgul And His Prey', 'Men', 'Theoden'),\n",
       "       ('The Return Of The King', '50: The Nazgul And His Prey', 'Nazgul', 'Witch King'),\n",
       "       ('The Return Of The King', '51: The Black Ships', 'Dwarf', 'Gimli'),\n",
       "       ('The Return Of The King', '51: The Black Ships', 'Orc', 'Orc'),\n",
       "       ('The Return Of The King', '52: Shieldmaiden Of Rohan', 'Men', 'Eowyn'),\n",
       "       ('The Return Of The King', '52: Shieldmaiden Of Rohan', 'Nazgul', 'Witch King'),\n",
       "       ('The Return Of The King', '53: Victory At Minar Tirith', 'Men', 'Aragorn'),\n",
       "       ('The Return Of The King', '53: Victory At Minar Tirith', 'Men', 'Eowyn'),\n",
       "       ('The Return Of The King', '53: Victory At Minar Tirith', 'Dwarf', 'Gimli'),\n",
       "       ('The Return Of The King', '53: Victory At Minar Tirith', 'Elf', 'Legolas'),\n",
       "       ('The Return Of The King', '53: Victory At Minar Tirith', 'Orc', 'Orc'),\n",
       "       ('The Return Of The King', '54: The Passing Of Theoden', 'Men', 'Eowyn'),\n",
       "       ('The Return Of The King', '54: The Passing Of Theoden', 'Men', 'Theoden'),\n",
       "       ('The Return Of The King', '55: Oaths Fulfilled', 'Men', 'Aragorn'),\n",
       "       ('The Return Of The King', '55: Oaths Fulfilled', 'Dwarf', 'Gimli'),\n",
       "       ('The Return Of The King', '55: Oaths Fulfilled', 'Dead', 'King Of The Dead'),\n",
       "       ('The Return Of The King', '56: The Houses Of Healing', 'Men', 'Eomer'),\n",
       "       ('The Return Of The King', '56: The Houses Of Healing', 'Hobbit', 'Pippin'),\n",
       "       ('The Return Of The King', '57: Pippin Looks After Merry', 'Hobbit', 'Merry'),\n",
       "       ('The Return Of The King', '57: Pippin Looks After Merry', 'Hobbit', 'Pippin'),\n",
       "       ('The Return Of The King', '58: The Tower Of Cirith Ungol', 'Hobbit', 'Frodo'),\n",
       "       ('The Return Of The King', '58: The Tower Of Cirith Ungol', 'Orc', 'Grobag'),\n",
       "       ('The Return Of The King', '58: The Tower Of Cirith Ungol', 'Hobbit', 'Sam'),\n",
       "       ('The Return Of The King', '58: The Tower Of Cirith Ungol', 'Orc', 'Shagrat'),\n",
       "       ('The Return Of The King', '59: The Last Debate', 'Men', 'Aragorn'),\n",
       "       ('The Return Of The King', '59: The Last Debate', 'Men', 'Eomer'),\n",
       "       ('The Return Of The King', '59: The Last Debate', 'Ainur', 'Gandalf'),\n",
       "       ('The Return Of The King', '59: The Last Debate', 'Dwarf', 'Gimli'),\n",
       "       ('The Return Of The King', '59: The Last Debate', 'Elf', 'Legolas'),\n",
       "       ('The Return Of The King', '60: Aragorn Masters The Palantir', 'Men', 'Aragorn'),\n",
       "       ('The Return Of The King', '61: The Captain And The White Lady', 'Men', 'Eowyn'),\n",
       "       ('The Return Of The King', '61: The Captain And The White Lady', 'Men', 'Faramir'),\n",
       "       ('The Return Of The King', '62: In The Company Of Orcs', 'Hobbit', 'Frodo'),\n",
       "       ('The Return Of The King', '62: In The Company Of Orcs', 'Orc', 'Orc'),\n",
       "       ('The Return Of The King', '62: In The Company Of Orcs', 'Hobbit', 'Sam'),\n",
       "       ('The Return Of The King', '63: The Land Of Shadow', 'Hobbit', 'Frodo'),\n",
       "       ('The Return Of The King', '63: The Land Of Shadow', 'Hobbit', 'Sam'),\n",
       "       ('The Return Of The King', '64: The Mouth Of Sauron', 'Men', 'Aragorn'),\n",
       "       ('The Return Of The King', '64: The Mouth Of Sauron', 'Ainur', 'Gandalf'),\n",
       "       ('The Return Of The King', '64: The Mouth Of Sauron', 'Dwarf', 'Gimli'),\n",
       "       ('The Return Of The King', '64: The Mouth Of Sauron', 'Hobbit', 'Merry'),\n",
       "       ('The Return Of The King', '64: The Mouth Of Sauron', 'Orc', 'Mouth Of Sauron'),\n",
       "       ('The Return Of The King', '64: The Mouth Of Sauron', 'Hobbit', 'Pippin'),\n",
       "       ('The Return Of The King', '65: The Black Gate Opens', 'Men', 'Aragorn'),\n",
       "       ('The Return Of The King', '65: The Black Gate Opens', 'Dwarf', 'Gimli'),\n",
       "       ('The Return Of The King', '65: The Black Gate Opens', 'Elf', 'Legolas'),\n",
       "       ('The Return Of The King', '65: The Black Gate Opens', 'Hobbit', 'Sam'),\n",
       "       ('The Return Of The King', \"66: I Can't Carry It For You… But I Can Carry You\", 'Hobbit', 'Frodo'),\n",
       "       ('The Return Of The King', \"66: I Can't Carry It For You… But I Can Carry You\", 'Hobbit', 'Sam'),\n",
       "       ('The Return Of The King', '67: The Last Move', 'Men', 'Aragorn'),\n",
       "       ('The Return Of The King', '67: The Last Move', 'Ainur', 'Voice Of Sauron'),\n",
       "       ('The Return Of The King', '68: Mount Doom', 'Hobbit', 'Frodo'),\n",
       "       ('The Return Of The King', '68: Mount Doom', 'Gollum', 'Gollum'),\n",
       "       ('The Return Of The King', '68: Mount Doom', 'Hobbit', 'Sam'),\n",
       "       ('The Return Of The King', '69: The Eagles Are Coming', 'Hobbit', 'Pippin'),\n",
       "       ('The Return Of The King', '70: The Crack Of Doom', 'Hobbit', 'Frodo'),\n",
       "       ('The Return Of The King', '70: The Crack Of Doom', 'Gollum', 'Gollum'),\n",
       "       ('The Return Of The King', '70: The Crack Of Doom', 'Hobbit', 'Sam'),\n",
       "       ('The Return Of The King', '71: Sauron Defeated', 'Hobbit', 'Merry'),\n",
       "       ('The Return Of The King', '71: Sauron Defeated', 'Hobbit', 'Pippin'),\n",
       "       ('The Return Of The King', '72: The End Of All Things', 'Hobbit', 'Frodo'),\n",
       "       ('The Return Of The King', '72: The End Of All Things', 'Hobbit', 'Sam'),\n",
       "       ('The Return Of The King', '73: The Fellowship Reunited', 'Hobbit', 'Frodo'),\n",
       "       ('The Return Of The King', '73: The Fellowship Reunited', 'Dwarf', 'Gimli'),\n",
       "       ('The Return Of The King', '73: The Fellowship Reunited', 'Hobbit', 'Merry'),\n",
       "       ('The Return Of The King', '74: The Return Of The King', 'Men', 'Aragorn'),\n",
       "       ('The Return Of The King', '74: The Return Of The King', 'Ainur', 'Gandalf'),\n",
       "       ('The Return Of The King', '75: Homeward Bound', 'Hobbit', 'Frodo'),\n",
       "       ('The Return Of The King', '75: Homeward Bound', 'Hobbit', 'Hobbits'),\n",
       "       ('The Return Of The King', '75: Homeward Bound', 'Hobbit', 'Pippin'),\n",
       "       ('The Return Of The King', '75: Homeward Bound', 'Hobbit', 'Rosie'),\n",
       "       ('The Return Of The King', '75: Homeward Bound', 'Hobbit', 'Sam'),\n",
       "       ('The Return Of The King', '76: The Grey Havens', 'Hobbit', 'Bilbo'),\n",
       "       ('The Return Of The King', '76: The Grey Havens', 'Elf', 'Elrond'),\n",
       "       ('The Return Of The King', '76: The Grey Havens', 'Hobbit', 'Frodo'),\n",
       "       ('The Return Of The King', '76: The Grey Havens', 'Elf', 'Galadriel'),\n",
       "       ('The Return Of The King', '76: The Grey Havens', 'Ainur', 'Gandalf'),\n",
       "       ('The Return Of The King', '76: The Grey Havens', 'Hobbit', 'Sam')],\n",
       "      dtype=object)"
      ]
     },
     "metadata": {},
     "execution_count": 5
    }
   ],
   "source": [
    "multi.index.values"
   ]
  },
  {
   "cell_type": "code",
   "execution_count": 6,
   "metadata": {
    "scrolled": false
   },
   "outputs": [
    {
     "output_type": "execute_result",
     "data": {
      "text/plain": [
       "                                                                                               Words\n",
       "Film                       Chapter                                           Race   Character       \n",
       "The Fellowship Of The Ring 01: Prologue                                      Elf    Elrond         5\n",
       "                                                                                    Galadriel    460\n",
       "                                                                             Gollum Gollum        20\n",
       "                                                                             Hobbit Bilbo          4\n",
       "                           02: Concerning Hobbits                            Hobbit Bilbo        214\n",
       "...                                                                                              ...\n",
       "The Two Towers             65: The Battle For Middle Earth Is About To Begin Hobbit Sam           69\n",
       "                           66: Gollum's Plan                                 Gollum Gollum        75\n",
       "                                                                                    Smeagol       53\n",
       "                                                                             Hobbit Frodo         11\n",
       "                                                                                    Sam           12\n",
       "\n",
       "[731 rows x 1 columns]"
      ],
      "text/html": "<div>\n<style scoped>\n    .dataframe tbody tr th:only-of-type {\n        vertical-align: middle;\n    }\n\n    .dataframe tbody tr th {\n        vertical-align: top;\n    }\n\n    .dataframe thead th {\n        text-align: right;\n    }\n</style>\n<table border=\"1\" class=\"dataframe\">\n  <thead>\n    <tr style=\"text-align: right;\">\n      <th></th>\n      <th></th>\n      <th></th>\n      <th></th>\n      <th>Words</th>\n    </tr>\n    <tr>\n      <th>Film</th>\n      <th>Chapter</th>\n      <th>Race</th>\n      <th>Character</th>\n      <th></th>\n    </tr>\n  </thead>\n  <tbody>\n    <tr>\n      <th rowspan=\"5\" valign=\"top\">The Fellowship Of The Ring</th>\n      <th rowspan=\"4\" valign=\"top\">01: Prologue</th>\n      <th rowspan=\"2\" valign=\"top\">Elf</th>\n      <th>Elrond</th>\n      <td>5</td>\n    </tr>\n    <tr>\n      <th>Galadriel</th>\n      <td>460</td>\n    </tr>\n    <tr>\n      <th>Gollum</th>\n      <th>Gollum</th>\n      <td>20</td>\n    </tr>\n    <tr>\n      <th>Hobbit</th>\n      <th>Bilbo</th>\n      <td>4</td>\n    </tr>\n    <tr>\n      <th>02: Concerning Hobbits</th>\n      <th>Hobbit</th>\n      <th>Bilbo</th>\n      <td>214</td>\n    </tr>\n    <tr>\n      <th>...</th>\n      <th>...</th>\n      <th>...</th>\n      <th>...</th>\n      <td>...</td>\n    </tr>\n    <tr>\n      <th rowspan=\"5\" valign=\"top\">The Two Towers</th>\n      <th>65: The Battle For Middle Earth Is About To Begin</th>\n      <th>Hobbit</th>\n      <th>Sam</th>\n      <td>69</td>\n    </tr>\n    <tr>\n      <th rowspan=\"4\" valign=\"top\">66: Gollum's Plan</th>\n      <th rowspan=\"2\" valign=\"top\">Gollum</th>\n      <th>Gollum</th>\n      <td>75</td>\n    </tr>\n    <tr>\n      <th>Smeagol</th>\n      <td>53</td>\n    </tr>\n    <tr>\n      <th rowspan=\"2\" valign=\"top\">Hobbit</th>\n      <th>Frodo</th>\n      <td>11</td>\n    </tr>\n    <tr>\n      <th>Sam</th>\n      <td>12</td>\n    </tr>\n  </tbody>\n</table>\n<p>731 rows × 1 columns</p>\n</div>"
     },
     "metadata": {},
     "execution_count": 6
    }
   ],
   "source": [
    "multi = multi = df.set_index(['Film','Chapter','Race','Character']).sort_index()\n",
    "multi"
   ]
  },
  {
   "cell_type": "markdown",
   "metadata": {},
   "source": [
    "## Qual personagem mais fala no primeiro capítulo de \"A Sociedade do Anel\"?"
   ]
  },
  {
   "cell_type": "code",
   "execution_count": 7,
   "metadata": {},
   "outputs": [
    {
     "output_type": "execute_result",
     "data": {
      "text/plain": [
       "                  Words\n",
       "Race   Character       \n",
       "Elf    Elrond         5\n",
       "       Galadriel    460\n",
       "Gollum Gollum        20\n",
       "Hobbit Bilbo          4"
      ],
      "text/html": "<div>\n<style scoped>\n    .dataframe tbody tr th:only-of-type {\n        vertical-align: middle;\n    }\n\n    .dataframe tbody tr th {\n        vertical-align: top;\n    }\n\n    .dataframe thead th {\n        text-align: right;\n    }\n</style>\n<table border=\"1\" class=\"dataframe\">\n  <thead>\n    <tr style=\"text-align: right;\">\n      <th></th>\n      <th></th>\n      <th>Words</th>\n    </tr>\n    <tr>\n      <th>Race</th>\n      <th>Character</th>\n      <th></th>\n    </tr>\n  </thead>\n  <tbody>\n    <tr>\n      <th rowspan=\"2\" valign=\"top\">Elf</th>\n      <th>Elrond</th>\n      <td>5</td>\n    </tr>\n    <tr>\n      <th>Galadriel</th>\n      <td>460</td>\n    </tr>\n    <tr>\n      <th>Gollum</th>\n      <th>Gollum</th>\n      <td>20</td>\n    </tr>\n    <tr>\n      <th>Hobbit</th>\n      <th>Bilbo</th>\n      <td>4</td>\n    </tr>\n  </tbody>\n</table>\n</div>"
     },
     "metadata": {},
     "execution_count": 7
    }
   ],
   "source": [
    "# Vendo todos os personagens do nível exterior e interior\n",
    "multi.loc[('The Fellowship Of The Ring', '01: Prologue'), :]"
   ]
  },
  {
   "cell_type": "markdown",
   "metadata": {},
   "source": [
    "### Quais os três primeiros elfos a falaram em \"A Sociedade do Anel\"?"
   ]
  },
  {
   "cell_type": "code",
   "execution_count": 8,
   "metadata": {},
   "outputs": [
    {
     "output_type": "execute_result",
     "data": {
      "text/plain": [
       "                                                                  Words\n",
       "Film                       Chapter                Race Character       \n",
       "The Fellowship Of The Ring 01: Prologue           Elf  Elrond         5\n",
       "                                                       Galadriel    460\n",
       "                           21: Flight To The Ford Elf  Arwen        131"
      ],
      "text/html": "<div>\n<style scoped>\n    .dataframe tbody tr th:only-of-type {\n        vertical-align: middle;\n    }\n\n    .dataframe tbody tr th {\n        vertical-align: top;\n    }\n\n    .dataframe thead th {\n        text-align: right;\n    }\n</style>\n<table border=\"1\" class=\"dataframe\">\n  <thead>\n    <tr style=\"text-align: right;\">\n      <th></th>\n      <th></th>\n      <th></th>\n      <th></th>\n      <th>Words</th>\n    </tr>\n    <tr>\n      <th>Film</th>\n      <th>Chapter</th>\n      <th>Race</th>\n      <th>Character</th>\n      <th></th>\n    </tr>\n  </thead>\n  <tbody>\n    <tr>\n      <th rowspan=\"3\" valign=\"top\">The Fellowship Of The Ring</th>\n      <th rowspan=\"2\" valign=\"top\">01: Prologue</th>\n      <th rowspan=\"2\" valign=\"top\">Elf</th>\n      <th>Elrond</th>\n      <td>5</td>\n    </tr>\n    <tr>\n      <th>Galadriel</th>\n      <td>460</td>\n    </tr>\n    <tr>\n      <th>21: Flight To The Ford</th>\n      <th>Elf</th>\n      <th>Arwen</th>\n      <td>131</td>\n    </tr>\n  </tbody>\n</table>\n</div>"
     },
     "metadata": {},
     "execution_count": 8
    }
   ],
   "source": [
    "# Para pularmos o index Chapter usamos slice()\n",
    "multi.loc[('The Fellowship Of The Ring', slice(None),'Elf'), :].head(3)"
   ]
  },
  {
   "cell_type": "markdown",
   "metadata": {},
   "source": [
    "### Quantas vezes Satuman e Gandalf falam em \"As Duas Torres\"?"
   ]
  },
  {
   "cell_type": "code",
   "execution_count": 9,
   "metadata": {},
   "outputs": [
    {
     "output_type": "execute_result",
     "data": {
      "text/plain": [
       "                                                                                  Words\n",
       "Film           Chapter                                           Race  Character       \n",
       "The Two Towers 01: The Foundations Of Stone                      Ainur Gandalf       39\n",
       "               06: The Burning of the Westfold                   Ainur Saruman      187\n",
       "               15: The White Rider                               Ainur Gandalf      298\n",
       "               17: The Heir Of Númenor                           Ainur Gandalf      226\n",
       "               20: The King Of The Golden Hall                   Ainur Gandalf      151\n",
       "               22: Simbelmynë on the Burial Mounds               Ainur Gandalf       28\n",
       "               23: The King's Decision                           Ainur Gandalf      165\n",
       "               25: The Ring Of Barahir                           Ainur Saruman       68\n",
       "               27: Exodus From Edoras                            Ainur Saruman        4\n",
       "               36: Isengard Unleashed                            Ainur Saruman       50\n",
       "               58: Forth Eorlingas                               Ainur Gandalf       21\n",
       "               65: The Battle For Middle Earth Is About To Begin Ainur Gandalf       36"
      ],
      "text/html": "<div>\n<style scoped>\n    .dataframe tbody tr th:only-of-type {\n        vertical-align: middle;\n    }\n\n    .dataframe tbody tr th {\n        vertical-align: top;\n    }\n\n    .dataframe thead th {\n        text-align: right;\n    }\n</style>\n<table border=\"1\" class=\"dataframe\">\n  <thead>\n    <tr style=\"text-align: right;\">\n      <th></th>\n      <th></th>\n      <th></th>\n      <th></th>\n      <th>Words</th>\n    </tr>\n    <tr>\n      <th>Film</th>\n      <th>Chapter</th>\n      <th>Race</th>\n      <th>Character</th>\n      <th></th>\n    </tr>\n  </thead>\n  <tbody>\n    <tr>\n      <th rowspan=\"12\" valign=\"top\">The Two Towers</th>\n      <th>01: The Foundations Of Stone</th>\n      <th>Ainur</th>\n      <th>Gandalf</th>\n      <td>39</td>\n    </tr>\n    <tr>\n      <th>06: The Burning of the Westfold</th>\n      <th>Ainur</th>\n      <th>Saruman</th>\n      <td>187</td>\n    </tr>\n    <tr>\n      <th>15: The White Rider</th>\n      <th>Ainur</th>\n      <th>Gandalf</th>\n      <td>298</td>\n    </tr>\n    <tr>\n      <th>17: The Heir Of Númenor</th>\n      <th>Ainur</th>\n      <th>Gandalf</th>\n      <td>226</td>\n    </tr>\n    <tr>\n      <th>20: The King Of The Golden Hall</th>\n      <th>Ainur</th>\n      <th>Gandalf</th>\n      <td>151</td>\n    </tr>\n    <tr>\n      <th>22: Simbelmynë on the Burial Mounds</th>\n      <th>Ainur</th>\n      <th>Gandalf</th>\n      <td>28</td>\n    </tr>\n    <tr>\n      <th>23: The King's Decision</th>\n      <th>Ainur</th>\n      <th>Gandalf</th>\n      <td>165</td>\n    </tr>\n    <tr>\n      <th>25: The Ring Of Barahir</th>\n      <th>Ainur</th>\n      <th>Saruman</th>\n      <td>68</td>\n    </tr>\n    <tr>\n      <th>27: Exodus From Edoras</th>\n      <th>Ainur</th>\n      <th>Saruman</th>\n      <td>4</td>\n    </tr>\n    <tr>\n      <th>36: Isengard Unleashed</th>\n      <th>Ainur</th>\n      <th>Saruman</th>\n      <td>50</td>\n    </tr>\n    <tr>\n      <th>58: Forth Eorlingas</th>\n      <th>Ainur</th>\n      <th>Gandalf</th>\n      <td>21</td>\n    </tr>\n    <tr>\n      <th>65: The Battle For Middle Earth Is About To Begin</th>\n      <th>Ainur</th>\n      <th>Gandalf</th>\n      <td>36</td>\n    </tr>\n  </tbody>\n</table>\n</div>"
     },
     "metadata": {},
     "execution_count": 9
    }
   ],
   "source": [
    "multi.loc[('The Two Towers',slice(None),slice(None),['Gandalf','Saruman']), :]"
   ]
  },
  {
   "cell_type": "markdown",
   "metadata": {},
   "source": [
    "### Quantas vezes Isildur fala em todos os filmes?"
   ]
  },
  {
   "cell_type": "code",
   "execution_count": 10,
   "metadata": {},
   "outputs": [
    {
     "output_type": "execute_result",
     "data": {
      "text/plain": [
       "Words    1\n",
       "dtype: int64"
      ]
     },
     "metadata": {},
     "execution_count": 10
    },
    {
     "output_type": "execute_result",
     "data": {
      "text/plain": [
       "                                                                    Words\n",
       "Film                       Chapter                  Race Character       \n",
       "The Fellowship Of The Ring 24: The Fate Of The Ring Men  Isildur        1"
      ],
      "text/html": "<div>\n<style scoped>\n    .dataframe tbody tr th:only-of-type {\n        vertical-align: middle;\n    }\n\n    .dataframe tbody tr th {\n        vertical-align: top;\n    }\n\n    .dataframe thead th {\n        text-align: right;\n    }\n</style>\n<table border=\"1\" class=\"dataframe\">\n  <thead>\n    <tr style=\"text-align: right;\">\n      <th></th>\n      <th></th>\n      <th></th>\n      <th></th>\n      <th>Words</th>\n    </tr>\n    <tr>\n      <th>Film</th>\n      <th>Chapter</th>\n      <th>Race</th>\n      <th>Character</th>\n      <th></th>\n    </tr>\n  </thead>\n  <tbody>\n    <tr>\n      <th>The Fellowship Of The Ring</th>\n      <th>24: The Fate Of The Ring</th>\n      <th>Men</th>\n      <th>Isildur</th>\n      <td>1</td>\n    </tr>\n  </tbody>\n</table>\n</div>"
     },
     "metadata": {},
     "execution_count": 10
    }
   ],
   "source": [
    "# utilizando o método de seleção cruzada em Pandas\n",
    "multi.xs('Isildur', level='Character').sum()\n",
    "\n",
    "# utilizando .loc\n",
    "multi.loc[(slice(None),slice(None),slice(None),'Isildur'), :]"
   ]
  },
  {
   "cell_type": "markdown",
   "metadata": {},
   "source": [
    "### Quais hobbits mais falam nos três filmes?"
   ]
  },
  {
   "cell_type": "code",
   "execution_count": 11,
   "metadata": {},
   "outputs": [
    {
     "output_type": "execute_result",
     "data": {
      "text/plain": [
       "                                                 Words                         \\\n",
       "Film                        The Fellowship Of The Ring The Return Of The King   \n",
       "Race      Character                                                             \n",
       "Ainur     Gandalf                                 2360                   1504   \n",
       "          Saruman                                  480                    301   \n",
       "          Voice Of Sauron                            7                      2   \n",
       "          Voice Of The Ring                         34                      0   \n",
       "All Films                                        11225                   9575   \n",
       "...                                                ...                    ...   \n",
       "Orc       Orc                                       20                    173   \n",
       "          Shagrat                                    0                     90   \n",
       "          Snaga                                      0                      0   \n",
       "          Ugluk                                      0                      0   \n",
       "          Uruk-hai                                   0                      0   \n",
       "\n",
       "                                                      \n",
       "Film                        The Two Towers All Films  \n",
       "Race      Character                                   \n",
       "Ainur     Gandalf                      964      4828  \n",
       "          Saruman                      309      1090  \n",
       "          Voice Of Sauron                0         9  \n",
       "          Voice Of The Ring              0        34  \n",
       "All Films                            11169     31969  \n",
       "...                                    ...       ...  \n",
       "Orc       Orc                           49       242  \n",
       "          Shagrat                        0        90  \n",
       "          Snaga                         10        10  \n",
       "          Ugluk                         84        84  \n",
       "          Uruk-hai                      13        13  \n",
       "\n",
       "[75 rows x 4 columns]"
      ],
      "text/html": "<div>\n<style scoped>\n    .dataframe tbody tr th:only-of-type {\n        vertical-align: middle;\n    }\n\n    .dataframe tbody tr th {\n        vertical-align: top;\n    }\n\n    .dataframe thead tr th {\n        text-align: left;\n    }\n\n    .dataframe thead tr:last-of-type th {\n        text-align: right;\n    }\n</style>\n<table border=\"1\" class=\"dataframe\">\n  <thead>\n    <tr>\n      <th></th>\n      <th></th>\n      <th colspan=\"4\" halign=\"left\">Words</th>\n    </tr>\n    <tr>\n      <th></th>\n      <th>Film</th>\n      <th>The Fellowship Of The Ring</th>\n      <th>The Return Of The King</th>\n      <th>The Two Towers</th>\n      <th>All Films</th>\n    </tr>\n    <tr>\n      <th>Race</th>\n      <th>Character</th>\n      <th></th>\n      <th></th>\n      <th></th>\n      <th></th>\n    </tr>\n  </thead>\n  <tbody>\n    <tr>\n      <th rowspan=\"4\" valign=\"top\">Ainur</th>\n      <th>Gandalf</th>\n      <td>2360</td>\n      <td>1504</td>\n      <td>964</td>\n      <td>4828</td>\n    </tr>\n    <tr>\n      <th>Saruman</th>\n      <td>480</td>\n      <td>301</td>\n      <td>309</td>\n      <td>1090</td>\n    </tr>\n    <tr>\n      <th>Voice Of Sauron</th>\n      <td>7</td>\n      <td>2</td>\n      <td>0</td>\n      <td>9</td>\n    </tr>\n    <tr>\n      <th>Voice Of The Ring</th>\n      <td>34</td>\n      <td>0</td>\n      <td>0</td>\n      <td>34</td>\n    </tr>\n    <tr>\n      <th>All Films</th>\n      <th></th>\n      <td>11225</td>\n      <td>9575</td>\n      <td>11169</td>\n      <td>31969</td>\n    </tr>\n    <tr>\n      <th>...</th>\n      <th>...</th>\n      <td>...</td>\n      <td>...</td>\n      <td>...</td>\n      <td>...</td>\n    </tr>\n    <tr>\n      <th rowspan=\"5\" valign=\"top\">Orc</th>\n      <th>Orc</th>\n      <td>20</td>\n      <td>173</td>\n      <td>49</td>\n      <td>242</td>\n    </tr>\n    <tr>\n      <th>Shagrat</th>\n      <td>0</td>\n      <td>90</td>\n      <td>0</td>\n      <td>90</td>\n    </tr>\n    <tr>\n      <th>Snaga</th>\n      <td>0</td>\n      <td>0</td>\n      <td>10</td>\n      <td>10</td>\n    </tr>\n    <tr>\n      <th>Ugluk</th>\n      <td>0</td>\n      <td>0</td>\n      <td>84</td>\n      <td>84</td>\n    </tr>\n    <tr>\n      <th>Uruk-hai</th>\n      <td>0</td>\n      <td>0</td>\n      <td>13</td>\n      <td>13</td>\n    </tr>\n  </tbody>\n</table>\n<p>75 rows × 4 columns</p>\n</div>"
     },
     "metadata": {},
     "execution_count": 11
    }
   ],
   "source": [
    "# criando uma pivot table de df\n",
    "pivoted = df.pivot_table(index=['Race','Character'],columns='Film',\n",
    "                   aggfunc='sum',\n",
    "                   margins = True, # soma total da coluna\n",
    "                   margins_name = 'All Films', fill_value = 0).sort_index()\n",
    "pivoted\n",
    "\n",
    "\n",
    "# criando uma lista de ordens\n",
    "order = [('Words', 'The Fellowship Of The Ring'),\n",
    "         ('Words', 'The Two Towers'),\n",
    "         ('Words', 'The Return Of The King'), \n",
    "         ('Words', 'All Films')]"
   ]
  },
  {
   "cell_type": "code",
   "execution_count": 12,
   "metadata": {},
   "outputs": [
    {
     "output_type": "execute_result",
     "data": {
      "text/plain": [
       "                                                Words                 \\\n",
       "Film                       The Fellowship Of The Ring The Two Towers   \n",
       "Race      Character                                                    \n",
       "All Films                                       11225          11169   \n",
       "Ainur     Gandalf                                2360            964   \n",
       "Hobbit    Sam                                     557           1044   \n",
       "Men       Aragorn                                 920            822   \n",
       "Hobbit    Frodo                                   967            664   \n",
       "...                                               ...            ...   \n",
       "          Mrs. Bracegirdle                          2              0   \n",
       "Orc       Mauhur                                    0              2   \n",
       "Men       Eothain                                   0              2   \n",
       "Hobbit    Proudfoot                                 1              0   \n",
       "Men       Isildur                                   1              0   \n",
       "\n",
       "                                                             \n",
       "Film                       The Return Of The King All Films  \n",
       "Race      Character                                          \n",
       "All Films                                    9575     31969  \n",
       "Ainur     Gandalf                            1504      4828  \n",
       "Hobbit    Sam                                 924      2525  \n",
       "Men       Aragorn                             580      2322  \n",
       "Hobbit    Frodo                               650      2281  \n",
       "...                                           ...       ...  \n",
       "          Mrs. Bracegirdle                      0         2  \n",
       "Orc       Mauhur                                0         2  \n",
       "Men       Eothain                               0         2  \n",
       "Hobbit    Proudfoot                             0         1  \n",
       "Men       Isildur                               0         1  \n",
       "\n",
       "[75 rows x 4 columns]"
      ],
      "text/html": "<div>\n<style scoped>\n    .dataframe tbody tr th:only-of-type {\n        vertical-align: middle;\n    }\n\n    .dataframe tbody tr th {\n        vertical-align: top;\n    }\n\n    .dataframe thead tr th {\n        text-align: left;\n    }\n\n    .dataframe thead tr:last-of-type th {\n        text-align: right;\n    }\n</style>\n<table border=\"1\" class=\"dataframe\">\n  <thead>\n    <tr>\n      <th></th>\n      <th></th>\n      <th colspan=\"4\" halign=\"left\">Words</th>\n    </tr>\n    <tr>\n      <th></th>\n      <th>Film</th>\n      <th>The Fellowship Of The Ring</th>\n      <th>The Two Towers</th>\n      <th>The Return Of The King</th>\n      <th>All Films</th>\n    </tr>\n    <tr>\n      <th>Race</th>\n      <th>Character</th>\n      <th></th>\n      <th></th>\n      <th></th>\n      <th></th>\n    </tr>\n  </thead>\n  <tbody>\n    <tr>\n      <th>All Films</th>\n      <th></th>\n      <td>11225</td>\n      <td>11169</td>\n      <td>9575</td>\n      <td>31969</td>\n    </tr>\n    <tr>\n      <th>Ainur</th>\n      <th>Gandalf</th>\n      <td>2360</td>\n      <td>964</td>\n      <td>1504</td>\n      <td>4828</td>\n    </tr>\n    <tr>\n      <th>Hobbit</th>\n      <th>Sam</th>\n      <td>557</td>\n      <td>1044</td>\n      <td>924</td>\n      <td>2525</td>\n    </tr>\n    <tr>\n      <th>Men</th>\n      <th>Aragorn</th>\n      <td>920</td>\n      <td>822</td>\n      <td>580</td>\n      <td>2322</td>\n    </tr>\n    <tr>\n      <th rowspan=\"3\" valign=\"top\">Hobbit</th>\n      <th>Frodo</th>\n      <td>967</td>\n      <td>664</td>\n      <td>650</td>\n      <td>2281</td>\n    </tr>\n    <tr>\n      <th>...</th>\n      <td>...</td>\n      <td>...</td>\n      <td>...</td>\n      <td>...</td>\n    </tr>\n    <tr>\n      <th>Mrs. Bracegirdle</th>\n      <td>2</td>\n      <td>0</td>\n      <td>0</td>\n      <td>2</td>\n    </tr>\n    <tr>\n      <th>Orc</th>\n      <th>Mauhur</th>\n      <td>0</td>\n      <td>2</td>\n      <td>0</td>\n      <td>2</td>\n    </tr>\n    <tr>\n      <th>Men</th>\n      <th>Eothain</th>\n      <td>0</td>\n      <td>2</td>\n      <td>0</td>\n      <td>2</td>\n    </tr>\n    <tr>\n      <th>Hobbit</th>\n      <th>Proudfoot</th>\n      <td>1</td>\n      <td>0</td>\n      <td>0</td>\n      <td>1</td>\n    </tr>\n    <tr>\n      <th>Men</th>\n      <th>Isildur</th>\n      <td>1</td>\n      <td>0</td>\n      <td>0</td>\n      <td>1</td>\n    </tr>\n  </tbody>\n</table>\n<p>75 rows × 4 columns</p>\n</div>"
     },
     "metadata": {},
     "execution_count": 12
    }
   ],
   "source": [
    "pivoted = pivoted.sort_values(by=('Words','All Films'), ascending = False)\n",
    "pivoted = pivoted.reindex(order, axis = 1)\n",
    "pivoted"
   ]
  },
  {
   "cell_type": "code",
   "execution_count": 13,
   "metadata": {},
   "outputs": [
    {
     "output_type": "execute_result",
     "data": {
      "text/plain": [
       "                                               Words                 \\\n",
       "Film                      The Fellowship Of The Ring The Two Towers   \n",
       "Character                                                             \n",
       "Sam                                              557           1044   \n",
       "Frodo                                            967            664   \n",
       "Bilbo                                           1310              0   \n",
       "Pippin                                           274            359   \n",
       "Merry                                            323            396   \n",
       "Hobbits                                           88              0   \n",
       "Ted                                               55              0   \n",
       "Gaffer                                            21              0   \n",
       "Farmer Maggot                                     21              0   \n",
       "Sandyman                                          17              0   \n",
       "Deagol                                             0              0   \n",
       "Hobbit Kids                                       10              0   \n",
       "Lobelia Sackville-Baggins                          9              0   \n",
       "Rosie                                              3              0   \n",
       "Mrs. Bracegirdle                                   2              0   \n",
       "Proudfoot                                          1              0   \n",
       "\n",
       "                                                            \n",
       "Film                      The Return Of The King All Films  \n",
       "Character                                                   \n",
       "Sam                                          924      2525  \n",
       "Frodo                                        650      2281  \n",
       "Bilbo                                         56      1366  \n",
       "Pippin                                       628      1261  \n",
       "Merry                                        398      1117  \n",
       "Hobbits                                        4        92  \n",
       "Ted                                            0        55  \n",
       "Gaffer                                         0        21  \n",
       "Farmer Maggot                                  0        21  \n",
       "Sandyman                                       0        17  \n",
       "Deagol                                        13        13  \n",
       "Hobbit Kids                                    0        10  \n",
       "Lobelia Sackville-Baggins                      0         9  \n",
       "Rosie                                          2         5  \n",
       "Mrs. Bracegirdle                               0         2  \n",
       "Proudfoot                                      0         1  "
      ],
      "text/html": "<div>\n<style scoped>\n    .dataframe tbody tr th:only-of-type {\n        vertical-align: middle;\n    }\n\n    .dataframe tbody tr th {\n        vertical-align: top;\n    }\n\n    .dataframe thead tr th {\n        text-align: left;\n    }\n\n    .dataframe thead tr:last-of-type th {\n        text-align: right;\n    }\n</style>\n<table border=\"1\" class=\"dataframe\">\n  <thead>\n    <tr>\n      <th></th>\n      <th colspan=\"4\" halign=\"left\">Words</th>\n    </tr>\n    <tr>\n      <th>Film</th>\n      <th>The Fellowship Of The Ring</th>\n      <th>The Two Towers</th>\n      <th>The Return Of The King</th>\n      <th>All Films</th>\n    </tr>\n    <tr>\n      <th>Character</th>\n      <th></th>\n      <th></th>\n      <th></th>\n      <th></th>\n    </tr>\n  </thead>\n  <tbody>\n    <tr>\n      <th>Sam</th>\n      <td>557</td>\n      <td>1044</td>\n      <td>924</td>\n      <td>2525</td>\n    </tr>\n    <tr>\n      <th>Frodo</th>\n      <td>967</td>\n      <td>664</td>\n      <td>650</td>\n      <td>2281</td>\n    </tr>\n    <tr>\n      <th>Bilbo</th>\n      <td>1310</td>\n      <td>0</td>\n      <td>56</td>\n      <td>1366</td>\n    </tr>\n    <tr>\n      <th>Pippin</th>\n      <td>274</td>\n      <td>359</td>\n      <td>628</td>\n      <td>1261</td>\n    </tr>\n    <tr>\n      <th>Merry</th>\n      <td>323</td>\n      <td>396</td>\n      <td>398</td>\n      <td>1117</td>\n    </tr>\n    <tr>\n      <th>Hobbits</th>\n      <td>88</td>\n      <td>0</td>\n      <td>4</td>\n      <td>92</td>\n    </tr>\n    <tr>\n      <th>Ted</th>\n      <td>55</td>\n      <td>0</td>\n      <td>0</td>\n      <td>55</td>\n    </tr>\n    <tr>\n      <th>Gaffer</th>\n      <td>21</td>\n      <td>0</td>\n      <td>0</td>\n      <td>21</td>\n    </tr>\n    <tr>\n      <th>Farmer Maggot</th>\n      <td>21</td>\n      <td>0</td>\n      <td>0</td>\n      <td>21</td>\n    </tr>\n    <tr>\n      <th>Sandyman</th>\n      <td>17</td>\n      <td>0</td>\n      <td>0</td>\n      <td>17</td>\n    </tr>\n    <tr>\n      <th>Deagol</th>\n      <td>0</td>\n      <td>0</td>\n      <td>13</td>\n      <td>13</td>\n    </tr>\n    <tr>\n      <th>Hobbit Kids</th>\n      <td>10</td>\n      <td>0</td>\n      <td>0</td>\n      <td>10</td>\n    </tr>\n    <tr>\n      <th>Lobelia Sackville-Baggins</th>\n      <td>9</td>\n      <td>0</td>\n      <td>0</td>\n      <td>9</td>\n    </tr>\n    <tr>\n      <th>Rosie</th>\n      <td>3</td>\n      <td>0</td>\n      <td>2</td>\n      <td>5</td>\n    </tr>\n    <tr>\n      <th>Mrs. Bracegirdle</th>\n      <td>2</td>\n      <td>0</td>\n      <td>0</td>\n      <td>2</td>\n    </tr>\n    <tr>\n      <th>Proudfoot</th>\n      <td>1</td>\n      <td>0</td>\n      <td>0</td>\n      <td>1</td>\n    </tr>\n  </tbody>\n</table>\n</div>"
     },
     "metadata": {},
     "execution_count": 13
    }
   ],
   "source": [
    "pivoted.loc['Hobbit']"
   ]
  }
 ],
 "metadata": {
  "kernelspec": {
   "display_name": "Python 3",
   "language": "python",
   "name": "python3"
  },
  "language_info": {
   "codemirror_mode": {
    "name": "ipython",
    "version": 3
   },
   "file_extension": ".py",
   "mimetype": "text/x-python",
   "name": "python",
   "nbconvert_exporter": "python",
   "pygments_lexer": "ipython3",
   "version": "3.8.5-final"
  }
 },
 "nbformat": 4,
 "nbformat_minor": 4
}