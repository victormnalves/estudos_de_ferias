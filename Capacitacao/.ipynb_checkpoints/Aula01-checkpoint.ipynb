{
 "cells": [
  {
   "cell_type": "markdown",
   "metadata": {},
   "source": [
    "# Capacitações de Nivelamento"
   ]
  },
  {
   "cell_type": "markdown",
   "metadata": {},
   "source": [
    "## Aula 01 de Python: Primeiros passos"
   ]
  },
  {
   "cell_type": "markdown",
   "metadata": {},
   "source": [
    "### Objetivos da aula\n",
    "- [Hello World](#Hello-World)\n",
    "- [Operações matemáticas](#Operations)\n",
    "- [Tipos de variaveis](#Tipos)\n",
    "- [Strings e f-string](#string)\n",
    "- [Funções](#funcao)\n",
    "- [Condicionais](#condicionais)\n",
    "- [Laços de repetições](#repete)"
   ]
  },
  {
   "cell_type": "markdown",
   "metadata": {},
   "source": [
    "<div id='Hello-World' style={color:'black'}></div>\n",
    "\n",
    "## Hello World                                         "
   ]
  },
  {
   "cell_type": "markdown",
   "metadata": {},
   "source": [
    "- O hello world é o primeiro passo quando se inicia em uma linguagem. A ideia é mostrar para o programador a mensagem de Ola mundo na tela. Em python utilizamos o comando **print**, que segue a seguinte estrutura:\n",
    "\n",
    "### **<center>print(*texto*)</center>**"
   ]
  },
  {
   "cell_type": "code",
   "execution_count": 2,
   "metadata": {},
   "outputs": [
    {
     "name": "stdout",
     "output_type": "stream",
     "text": [
      "Olá mundo!\n"
     ]
    }
   ],
   "source": [
    "print('Olá mundo!')"
   ]
  },
  {
   "cell_type": "code",
   "execution_count": 3,
   "metadata": {},
   "outputs": [
    {
     "name": "stdout",
     "output_type": "stream",
     "text": [
      "1\n"
     ]
    }
   ],
   "source": [
    "print(1)"
   ]
  },
  {
   "cell_type": "code",
   "execution_count": 4,
   "metadata": {
    "scrolled": true
   },
   "outputs": [
    {
     "name": "stdout",
     "output_type": "stream",
     "text": [
      "2\n"
     ]
    }
   ],
   "source": [
    "print(1+1)"
   ]
  },
  {
   "cell_type": "code",
   "execution_count": 5,
   "metadata": {},
   "outputs": [
    {
     "data": {
      "text/plain": [
       "1"
      ]
     },
     "execution_count": 5,
     "metadata": {},
     "output_type": "execute_result"
    }
   ],
   "source": [
    "1"
   ]
  },
  {
   "cell_type": "markdown",
   "metadata": {},
   "source": [
    "<div id='Operations' style={color:'black'}></div>\n",
    "\n",
    "## Operações Matemáticas "
   ]
  },
  {
   "cell_type": "markdown",
   "metadata": {},
   "source": [
    "## Operações:\n",
    "- Soma **+**\n",
    "- Subtração **-**\n",
    "- Multiplicação *****\n",
    "- Divisão **/**\n",
    "- Potência ******\n",
    "- Divisão exata **//**\n",
    "- Resto da divisão **%**"
   ]
  },
  {
   "cell_type": "code",
   "execution_count": 6,
   "metadata": {},
   "outputs": [
    {
     "data": {
      "text/plain": [
       "2"
      ]
     },
     "execution_count": 6,
     "metadata": {},
     "output_type": "execute_result"
    }
   ],
   "source": [
    "# Soma\n",
    "1+1\n"
   ]
  },
  {
   "cell_type": "code",
   "execution_count": 7,
   "metadata": {},
   "outputs": [
    {
     "data": {
      "text/plain": [
       "4"
      ]
     },
     "execution_count": 7,
     "metadata": {},
     "output_type": "execute_result"
    }
   ],
   "source": [
    "# Subtração\n",
    "5-1\n"
   ]
  },
  {
   "cell_type": "code",
   "execution_count": 8,
   "metadata": {},
   "outputs": [
    {
     "data": {
      "text/plain": [
       "40"
      ]
     },
     "execution_count": 8,
     "metadata": {},
     "output_type": "execute_result"
    }
   ],
   "source": [
    "# Multiplicação\n",
    "5*8\n"
   ]
  },
  {
   "cell_type": "code",
   "execution_count": 9,
   "metadata": {},
   "outputs": [
    {
     "data": {
      "text/plain": [
       "4.0"
      ]
     },
     "execution_count": 9,
     "metadata": {},
     "output_type": "execute_result"
    }
   ],
   "source": [
    "# Divisão\n",
    "8/2\n"
   ]
  },
  {
   "cell_type": "code",
   "execution_count": 10,
   "metadata": {},
   "outputs": [
    {
     "data": {
      "text/plain": [
       "16777216"
      ]
     },
     "execution_count": 10,
     "metadata": {},
     "output_type": "execute_result"
    }
   ],
   "source": [
    "# Potência\n",
    "8**8"
   ]
  },
  {
   "cell_type": "code",
   "execution_count": 11,
   "metadata": {},
   "outputs": [
    {
     "data": {
      "text/plain": [
       "4"
      ]
     },
     "execution_count": 11,
     "metadata": {},
     "output_type": "execute_result"
    }
   ],
   "source": [
    "# Divisão exata\n",
    "48//10"
   ]
  },
  {
   "cell_type": "code",
   "execution_count": 12,
   "metadata": {},
   "outputs": [
    {
     "data": {
      "text/plain": [
       "3"
      ]
     },
     "execution_count": 12,
     "metadata": {},
     "output_type": "execute_result"
    }
   ],
   "source": [
    "# Resto da divisão\n",
    "8%5"
   ]
  },
  {
   "cell_type": "code",
   "execution_count": null,
   "metadata": {},
   "outputs": [],
   "source": [
    "# Ordem de prioridade\n",
    "\n",
    "# 1 - \n",
    "# 2 - \n",
    "# 3 - \n",
    "# 4 - \n"
   ]
  },
  {
   "cell_type": "code",
   "execution_count": null,
   "metadata": {},
   "outputs": [],
   "source": []
  },
  {
   "cell_type": "markdown",
   "metadata": {},
   "source": [
    "<div id='Tipos' style={color:'black'}></div>\n",
    "\n",
    "## Tipos de variáveis "
   ]
  },
  {
   "cell_type": "markdown",
   "metadata": {},
   "source": [
    "**Quais os tipos de variáveis existem:**\n",
    "\n",
    "- Int: Números **inteiros**\n",
    "- Float: Números **decimais** ou **Ponto flutuante**\n",
    "- Strings: textos - Sempre entre aspas **duplas(\"\")** ou **simples('')**\n",
    "- Boolean: Tipos boleano **True** ou **False**\n",
    "- Valor vazio ou nulo: Tipo **None**\n",
    "- Erro de declaração"
   ]
  },
  {
   "cell_type": "code",
   "execution_count": 13,
   "metadata": {},
   "outputs": [
    {
     "data": {
      "text/plain": [
       "int"
      ]
     },
     "execution_count": 13,
     "metadata": {},
     "output_type": "execute_result"
    }
   ],
   "source": [
    "# Int\n",
    "inteiro = 10\n",
    "type(inteiro)"
   ]
  },
  {
   "cell_type": "code",
   "execution_count": null,
   "metadata": {},
   "outputs": [],
   "source": [
    "# Float\n",
    "decimal = 2.5\n",
    "tytpe(decimal)\n"
   ]
  },
  {
   "cell_type": "code",
   "execution_count": 14,
   "metadata": {},
   "outputs": [
    {
     "data": {
      "text/plain": [
       "str"
      ]
     },
     "execution_count": 14,
     "metadata": {},
     "output_type": "execute_result"
    }
   ],
   "source": [
    "# Strings\n",
    "letra = 'abcde'\n",
    "type(letra)\n"
   ]
  },
  {
   "cell_type": "code",
   "execution_count": 15,
   "metadata": {},
   "outputs": [
    {
     "data": {
      "text/plain": [
       "bool"
      ]
     },
     "execution_count": 15,
     "metadata": {},
     "output_type": "execute_result"
    }
   ],
   "source": [
    "# Boolean\n",
    "x = False\n",
    "type(x)\n"
   ]
  },
  {
   "cell_type": "code",
   "execution_count": 16,
   "metadata": {},
   "outputs": [
    {
     "data": {
      "text/plain": [
       "NoneType"
      ]
     },
     "execution_count": 16,
     "metadata": {},
     "output_type": "execute_result"
    }
   ],
   "source": [
    "# None\n",
    "var = None\n",
    "type(var)"
   ]
  },
  {
   "cell_type": "code",
   "execution_count": 17,
   "metadata": {},
   "outputs": [
    {
     "ename": "SyntaxError",
     "evalue": "cannot assign to literal (<ipython-input-17-76f8125224b7>, line 2)",
     "output_type": "error",
     "traceback": [
      "\u001b[1;36m  File \u001b[1;32m\"<ipython-input-17-76f8125224b7>\"\u001b[1;36m, line \u001b[1;32m2\u001b[0m\n\u001b[1;33m    5 = 0\u001b[0m\n\u001b[1;37m    ^\u001b[0m\n\u001b[1;31mSyntaxError\u001b[0m\u001b[1;31m:\u001b[0m cannot assign to literal\n"
     ]
    }
   ],
   "source": [
    "# Erro"
   ]
  },
  {
   "cell_type": "markdown",
   "metadata": {},
   "source": [
    "<div id='string'></div>\n",
    "\n",
    "## Strings e f-string"
   ]
  },
  {
   "cell_type": "markdown",
   "metadata": {},
   "source": [
    "**Métodos:**\n",
    "- str(): Retorna uma string\n",
    "- str.format(): Formata uma frase do tipo string \n",
    "- str.capitalize(): Retorna a palavra com a primeira letra da frase em caixa alta\n",
    "- str.lower(): Retorna a palavra inteira em caixa baixa\n",
    "- str.upper(): Retorna a palavra inteira em caixa alta\n",
    "- str.title(): Retorna a frase com a primeira letra de cada frase em caixa alta\n",
    "- str.find(): Retorna o indice da palavra solicitada, caso não exista retorna -1\n",
    "- str.split(): Retorna uma lista com as palavras cortadas pelo separador definido\n",
    "- str.strip(): Retorna a palavra sem espaços no inicio e fim\n",
    "- str.replace(): Retorna a palavra com a troca solicitada\n",
    "\n",
    "**Para mais métodos de string: https://docs.python.org/3/library/stdtypes.html#string-methods**"
   ]
  },
  {
   "cell_type": "code",
   "execution_count": null,
   "metadata": {},
   "outputs": [],
   "source": [
    "# String\n",
    "entidade = str('Insper')\n",
    "\n"
   ]
  },
  {
   "cell_type": "code",
   "execution_count": 18,
   "metadata": {},
   "outputs": [
    {
     "name": "stdout",
     "output_type": "stream",
     "text": [
      "meu nome é victor\n"
     ]
    }
   ],
   "source": [
    "# Format\n",
    "\n",
    "nome = 'victor'\n",
    "\n",
    "print('meu nome é {}'.format(nome))\n"
   ]
  },
  {
   "cell_type": "code",
   "execution_count": 19,
   "metadata": {},
   "outputs": [
    {
     "name": "stdout",
     "output_type": "stream",
     "text": [
      "Meu nome é victor\n"
     ]
    }
   ],
   "source": [
    "# f'String\n",
    "print(f'Meu nome é {nome}')"
   ]
  },
  {
   "cell_type": "code",
   "execution_count": 20,
   "metadata": {},
   "outputs": [
    {
     "data": {
      "text/plain": [
       "'Capacitação'"
      ]
     },
     "execution_count": 20,
     "metadata": {},
     "output_type": "execute_result"
    }
   ],
   "source": [
    "# Capitalize\n",
    "frase = 'capacitação'\n",
    "frase.capitalize()"
   ]
  },
  {
   "cell_type": "code",
   "execution_count": 22,
   "metadata": {},
   "outputs": [
    {
     "data": {
      "text/plain": [
       "'capacitação'"
      ]
     },
     "execution_count": 22,
     "metadata": {},
     "output_type": "execute_result"
    }
   ],
   "source": [
    "# Lower\n",
    "frase.lower()"
   ]
  },
  {
   "cell_type": "code",
   "execution_count": 23,
   "metadata": {},
   "outputs": [
    {
     "data": {
      "text/plain": [
       "'CAPACITAÇÃO'"
      ]
     },
     "execution_count": 23,
     "metadata": {},
     "output_type": "execute_result"
    }
   ],
   "source": [
    "# Upper\n",
    "frase.upper()"
   ]
  },
  {
   "cell_type": "code",
   "execution_count": 24,
   "metadata": {},
   "outputs": [
    {
     "data": {
      "text/plain": [
       "'Capacitação'"
      ]
     },
     "execution_count": 24,
     "metadata": {},
     "output_type": "execute_result"
    }
   ],
   "source": [
    "# Title\n",
    "frase.title()"
   ]
  },
  {
   "cell_type": "code",
   "execution_count": 26,
   "metadata": {},
   "outputs": [
    {
     "data": {
      "text/plain": [
       "2"
      ]
     },
     "execution_count": 26,
     "metadata": {},
     "output_type": "execute_result"
    }
   ],
   "source": [
    "# Find\n",
    "frase.find('paci')"
   ]
  },
  {
   "cell_type": "code",
   "execution_count": 27,
   "metadata": {},
   "outputs": [
    {
     "data": {
      "text/plain": [
       "['PAPAPA.', 'ALALA.']"
      ]
     },
     "execution_count": 27,
     "metadata": {},
     "output_type": "execute_result"
    }
   ],
   "source": [
    "# Split\n",
    "frase2 = 'PAPAPA. ALALA.'\n",
    "frase2.split()"
   ]
  },
  {
   "cell_type": "code",
   "execution_count": 29,
   "metadata": {},
   "outputs": [
    {
     "data": {
      "text/plain": [
       "'BABABA. ALALA.'"
      ]
     },
     "execution_count": 29,
     "metadata": {},
     "output_type": "execute_result"
    }
   ],
   "source": [
    "# Replace\n",
    "frase2.replace('PAPAPA.','BABABA.')"
   ]
  },
  {
   "cell_type": "code",
   "execution_count": null,
   "metadata": {},
   "outputs": [],
   "source": []
  },
  {
   "cell_type": "code",
   "execution_count": null,
   "metadata": {},
   "outputs": [],
   "source": []
  },
  {
   "cell_type": "markdown",
   "metadata": {},
   "source": [
    "<div id='funcao'></div>\n",
    "\n",
    "## Funções"
   ]
  },
  {
   "cell_type": "markdown",
   "metadata": {},
   "source": [
    "- Assim como as funções matemáticas, as funções em python recebem valores, os tratam e geram um resultado.\n",
    "\n",
    "<center><strong>def</strong> \"nome da função\" (parâmetros)<strong>:</strong></center>"
   ]
  },
  {
   "cell_type": "code",
   "execution_count": 30,
   "metadata": {},
   "outputs": [],
   "source": [
    "# Função matemática\n",
    "def f(x):\n",
    "    return (2 * x**2) + (7*x) * 9"
   ]
  },
  {
   "cell_type": "code",
   "execution_count": 35,
   "metadata": {},
   "outputs": [
    {
     "data": {
      "text/plain": [
       "'Insper Data'"
      ]
     },
     "execution_count": 35,
     "metadata": {},
     "output_type": "execute_result"
    }
   ],
   "source": [
    "# Função sem parâmetro\n",
    "def printar_entidade():\n",
    "    return 'Insper Data'\n",
    "    \n",
    "printar_entidade()"
   ]
  },
  {
   "cell_type": "code",
   "execution_count": 36,
   "metadata": {},
   "outputs": [
    {
     "name": "stdout",
     "output_type": "stream",
     "text": [
      "insper data\n"
     ]
    }
   ],
   "source": [
    "def printar_return():\n",
    "    print('insper data')\n",
    "    return None\n",
    "\n",
    "printar_return()"
   ]
  },
  {
   "cell_type": "code",
   "execution_count": 37,
   "metadata": {},
   "outputs": [
    {
     "data": {
      "text/plain": [
       "'Essa ação vai Cair'"
      ]
     },
     "execution_count": 37,
     "metadata": {},
     "output_type": "execute_result"
    }
   ],
   "source": [
    "\n",
    "# Função com parâmetro\n",
    "def sinal(sentido):\n",
    "    return ('Essa ação vai {}'.format(sentido))\n",
    "\n",
    "sinal('cair')"
   ]
  },
  {
   "cell_type": "code",
   "execution_count": 38,
   "metadata": {},
   "outputs": [
    {
     "name": "stdout",
     "output_type": "stream",
     "text": [
      "A ação da Vale vai cair\n"
     ]
    }
   ],
   "source": [
    "def sinal2(nome, sentido):\n",
    "    print (f'A ação da {nome} vai {sentido}')\n",
    "    return None\n",
    "\n",
    "sinal2('Vale', 'cair')"
   ]
  },
  {
   "cell_type": "code",
   "execution_count": null,
   "metadata": {},
   "outputs": [],
   "source": []
  },
  {
   "cell_type": "markdown",
   "metadata": {},
   "source": [
    "<div id='condicionais'></div>\n",
    "\n",
    "## Condicionais\n",
    "- **if**\n",
    "- **elif**\n",
    "- **else**\n",
    "\n",
    "### Operadores lógicos:\n",
    "\n",
    "- Maior: **>**\n",
    "- Menor: **<**\n",
    "- Maior igual: **>=**\n",
    "- Menor igual: **<=**\n",
    "- Igual : **==**\n",
    "- Diferente: **!=**\n",
    "- E : **and**\n",
    "- OU : **or**"
   ]
  },
  {
   "cell_type": "code",
   "execution_count": 39,
   "metadata": {},
   "outputs": [
    {
     "name": "stdout",
     "output_type": "stream",
     "text": [
      "venda\n"
     ]
    }
   ],
   "source": [
    "# if\n",
    "\n",
    "petr4 = 28.7\n",
    "\n",
    "if petr4 > 28:\n",
    "    print('venda')\n",
    "else:\n",
    "    print('compra')\n"
   ]
  },
  {
   "cell_type": "code",
   "execution_count": null,
   "metadata": {},
   "outputs": [],
   "source": [
    "# if and else\n"
   ]
  },
  {
   "cell_type": "code",
   "execution_count": null,
   "metadata": {},
   "outputs": [],
   "source": [
    "# if, elif, else\n"
   ]
  },
  {
   "cell_type": "code",
   "execution_count": null,
   "metadata": {},
   "outputs": [],
   "source": [
    "# Testes lógicos\n"
   ]
  },
  {
   "cell_type": "code",
   "execution_count": null,
   "metadata": {},
   "outputs": [],
   "source": []
  },
  {
   "cell_type": "code",
   "execution_count": null,
   "metadata": {},
   "outputs": [],
   "source": []
  },
  {
   "cell_type": "code",
   "execution_count": null,
   "metadata": {},
   "outputs": [],
   "source": []
  },
  {
   "cell_type": "code",
   "execution_count": null,
   "metadata": {},
   "outputs": [],
   "source": []
  },
  {
   "cell_type": "code",
   "execution_count": null,
   "metadata": {},
   "outputs": [],
   "source": []
  },
  {
   "cell_type": "markdown",
   "metadata": {},
   "source": [
    "<div id='repete'></div>\n",
    "\n",
    "## Laços de repetição"
   ]
  },
  {
   "cell_type": "markdown",
   "metadata": {},
   "source": [
    "- São responsáveis por repetir uma execução várias vezes. Suas estruturas são:\n",
    "\n",
    "<center><strong>while </strong>\"condição\" :</center>\n",
    "<center><strong>for </strong>\"variável\" <strong>in</strong> <strong>___</strong>:</center>"
   ]
  },
  {
   "cell_type": "code",
   "execution_count": null,
   "metadata": {},
   "outputs": [],
   "source": [
    "# While\n"
   ]
  },
  {
   "cell_type": "code",
   "execution_count": null,
   "metadata": {},
   "outputs": [],
   "source": [
    "# For usando Range\n"
   ]
  },
  {
   "cell_type": "code",
   "execution_count": null,
   "metadata": {},
   "outputs": [],
   "source": [
    "# For usando Collections\n"
   ]
  },
  {
   "cell_type": "code",
   "execution_count": 96,
   "metadata": {},
   "outputs": [],
   "source": [
    "# Desafio\n",
    "\n",
    "# Fazer uma função que avalie o preço de abertura e encerramento da ação no dia e printe se \n",
    "# a ação subiu ou desceu. Além disso, a função deve dizer que devo comprar a ação caso essa \n",
    "# variação seja maior que +2% ou vender caso seja menor que -2%.\n",
    "\n",
    "# Dados do desafio\n",
    "nome_acao = \"petr4\"\n",
    "abertura_PETR4 = 56.8\n",
    "fechamento_PETR4 = 60\n",
    "\n",
    "# Função:\n",
    "\n",
    "def avaliador(nome, abertura, fechamento):   \n",
    "    delta = fechamento - abertura\n",
    "    \n",
    "    if fechamento > abertura :\n",
    "        print('A ação {} subiu'.format(nome))\n",
    "    elif abertura == fechamento:\n",
    "        print('A ação {} andou de lado'.format(nome))\n",
    "    else:\n",
    "        print('A ação {} desceu'.format(nome))          \n",
    "    \n",
    "    if 100 * (fechamento - abertura) / fechamento > 0.02:\n",
    "        print('Comprar')\n",
    "    elif 100 * (fechamento - abertura) / fechamento < -0.02 :\n",
    "        print('Venda')\n",
    "    else:\n",
    "        print('Nâo faça nada')"
   ]
  },
  {
   "cell_type": "code",
   "execution_count": 97,
   "metadata": {
    "scrolled": true
   },
   "outputs": [
    {
     "name": "stdout",
     "output_type": "stream",
     "text": [
      "A ação petr4 subiu\n",
      "Comprar\n"
     ]
    }
   ],
   "source": [
    "avaliador(nome_acao, abertura_PETR4, fechamento_PETR4)"
   ]
  },
  {
   "cell_type": "code",
   "execution_count": null,
   "metadata": {},
   "outputs": [],
   "source": []
  }
 ],
 "metadata": {
  "kernelspec": {
   "display_name": "Python 3",
   "language": "python",
   "name": "python3"
  },
  "language_info": {
   "codemirror_mode": {
    "name": "ipython",
    "version": 3
   },
   "file_extension": ".py",
   "mimetype": "text/x-python",
   "name": "python",
   "nbconvert_exporter": "python",
   "pygments_lexer": "ipython3",
   "version": "3.8.5"
  }
 },
 "nbformat": 4,
 "nbformat_minor": 4
}
