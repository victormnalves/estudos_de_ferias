{
 "cells": [
  {
   "cell_type": "markdown",
   "metadata": {},
   "source": [
    "# Capacitações de nivelamento"
   ]
  },
  {
   "cell_type": "markdown",
   "metadata": {},
   "source": [
    "## Aula 02 de Python : Coleções em Python"
   ]
  },
  {
   "cell_type": "markdown",
   "metadata": {},
   "source": [
    "### Objetivos da aula\n",
    "- [Listas](#Listas)\n",
    "- [Tuplas](#tupla)\n",
    "- [Set](#set)\n",
    "- [Dicionarios](#dicionario)\n"
   ]
  },
  {
   "cell_type": "markdown",
   "metadata": {},
   "source": [
    "<div id='Listas'></div>\n",
    "\n",
    "## Listas"
   ]
  },
  {
   "cell_type": "markdown",
   "metadata": {},
   "source": [
    "- É uma estrutura de dados ordenada e iteravel, ou seja os termos são identificados por posições(index) e podem ser alterados.\n",
    "- É identificado por ser formada por colchetes \"[]\"\n",
    "\n",
    "**Principais métodos**\n",
    "- List() - Cria uma lista vazia\n",
    "- list.append() - Adiciona um item no **fim** da lista\n",
    "- list.insert() - Recebe dois parâmetros: Índice e valor a ser inserido na lista\n",
    "- list.remove() - Remove o primeiro item da lista cujo o valor é igual o parametro passado \n",
    "- list.clear() - Remove todos os itens da lista\n",
    "- list.count() - Devolve o numero de vezes que o item aparece na lista \n",
    "- list.sort() - Ordena os itens na lista\n",
    "- list.extend() - Usado para dar merge com elementos de outra lista\n",
    "- list.pop() - Remove e retorna o último elemento da lista\n",
    "\n",
    "**Documentação:**https://docs.python.org/3/tutorial/datastructures.html"
   ]
  },
  {
   "cell_type": "code",
   "execution_count": 88,
   "metadata": {},
   "outputs": [],
   "source": [
    "# Criando listas\n",
    "\n",
    "lista = list()\n",
    "\n",
    "# Ou\n",
    "\n",
    "lista = []"
   ]
  },
  {
   "cell_type": "code",
   "execution_count": 89,
   "metadata": {
    "scrolled": true
   },
   "outputs": [
    {
     "name": "stdout",
     "output_type": "stream",
     "text": [
      "['I', 'n', 's', 'p', 'e', 'r']\n",
      "['pão', 'queijo', 'iogurte', 'cereal']\n",
      "pão\n",
      "['pão', 'queijo']\n",
      "['iogurte', 'cereal']\n",
      "['pão', 'queijo', 'iogurte', 'cereal']\n",
      "['cereal', 'iogurte', 'queijo', 'pão']\n"
     ]
    }
   ],
   "source": [
    "# Particularidade da função list()\n",
    "lista = list(\"Insper\")\n",
    "print(lista)\n",
    "\n",
    "# Iniciando lista com valores\n",
    "compras = [\"pão\", \"queijo\", \"iogurte\", \"cereal\"]\n",
    "print(compras)\n",
    "\n",
    "# Acessando valores\n",
    "print(compras[0])\n",
    "print(compras[0:2])\n",
    "print(compras[2:])\n",
    "print(compras[::])\n",
    "print(compras[::-1]) # também funciona com strings"
   ]
  },
  {
   "cell_type": "code",
   "execution_count": 90,
   "metadata": {},
   "outputs": [
    {
     "name": "stdout",
     "output_type": "stream",
     "text": [
      "['acerola']\n"
     ]
    },
    {
     "data": {
      "text/plain": [
       "['pão', 'queijo', 'iogurte', 'cereal', 'acerola', 'laranja', 'goiaba']"
      ]
     },
     "execution_count": 90,
     "metadata": {},
     "output_type": "execute_result"
    }
   ],
   "source": [
    "# Append()\n",
    "frutas = []\n",
    "frutas.append(\"acerola\")\n",
    "\n",
    "# Só funciona com 1 argumento\n",
    "# frutas.append(\"laranja\", \"goiaba\") # isso gera um erro\n",
    "frutas.append([\"laranja\", \"goiaba\"])\n",
    "frutas\n",
    "\n",
    "# Como resolver\n",
    "\n",
    "# clear - Remove todos os elementos da lista\n",
    "frutas.clear()\n",
    "frutas.append(\"acerola\")\n",
    "print(frutas)\n",
    "\n",
    "#Comando extend\n",
    "frutas.extend([\"laranja\", \"goiaba\"])\n",
    "frutas\n",
    "\n",
    "# Podemos usar com listas também\n",
    "compras.extend(frutas)\n",
    "compras"
   ]
  },
  {
   "cell_type": "code",
   "execution_count": 91,
   "metadata": {},
   "outputs": [
    {
     "name": "stdout",
     "output_type": "stream",
     "text": [
      "['acerola', 'laranja', 'goiaba']\n",
      "None\n"
     ]
    }
   ],
   "source": [
    "# Insert() - Permite escolher o índice onde queremos adicionar elemento\n",
    "print(frutas)\n",
    "print(frutas.insert(0, \"abacate\"))\n",
    "\n",
    "# Também funciona com listas e outros objetos"
   ]
  },
  {
   "cell_type": "code",
   "execution_count": 92,
   "metadata": {},
   "outputs": [
    {
     "name": "stdout",
     "output_type": "stream",
     "text": [
      "['abacate', 'acerola', 'laranja', 'goiaba']\n",
      "['acerola', 'laranja', 'goiaba']\n",
      "goiaba\n"
     ]
    },
    {
     "data": {
      "text/plain": [
       "['acerola', 'laranja']"
      ]
     },
     "execution_count": 92,
     "metadata": {},
     "output_type": "execute_result"
    }
   ],
   "source": [
    "# Remove() - retorna lista sem o elemento\n",
    "print(frutas)\n",
    "frutas.remove(\"abacate\")\n",
    "print(frutas)\n",
    "\n",
    "# Pop() - Remove o último elemento e retorna ele\n",
    "print(frutas.pop())\n",
    "frutas"
   ]
  },
  {
   "cell_type": "code",
   "execution_count": 111,
   "metadata": {},
   "outputs": [
    {
     "name": "stdout",
     "output_type": "stream",
     "text": [
      "2\n",
      "11\n",
      "['pão', 'queijo', 'iogurte', 'cereal', 'acerola', 'laranja', 'goiaba']\n",
      "2\n"
     ]
    }
   ],
   "source": [
    "# Outras métodos (len(), count(), index())\n",
    "numeros = [1,2,3,4,5,1,2,3,5,1,1]\n",
    "\n",
    "print(numeros.count(2))\n",
    "\n",
    "# tamanho da lista\n",
    "print(len(numeros))\n",
    "\n",
    "# descobrir índice de algum componente da lista\n",
    "print(compras)\n",
    "print(compras.index(\"iogurte\"))"
   ]
  },
  {
   "cell_type": "code",
   "execution_count": 118,
   "metadata": {},
   "outputs": [
    {
     "name": "stdout",
     "output_type": "stream",
     "text": [
      "[3, 6, 2, 0]\n",
      "[0, 2, 3, 6]\n",
      "[6, 3, 2, 0]\n"
     ]
    }
   ],
   "source": [
    "# Sort\n",
    "numeros = [3, 6, 2, 0]\n",
    "print(numeros)\n",
    "\n",
    "# Ordem crescente\n",
    "numeros.sort()\n",
    "print(numeros)\n",
    "\n",
    "# Ordem decrescente\n",
    "numeros.sort(reverse=True)\n",
    "print(numeros)\n"
   ]
  },
  {
   "cell_type": "markdown",
   "metadata": {},
   "source": [
    "<div id='tupla'></div>\n",
    "\n",
    "## Tuplas"
   ]
  },
  {
   "cell_type": "markdown",
   "metadata": {},
   "source": [
    "- É uma estrutura de dados ordenada e não mutável, ou seja os termos são identificados por posições(index) e não podem ser alterados.\n",
    "- É identificada por ser formada por parenteses \"()\"\n",
    "- Valores podem ser acessados da mesma forma que uma lista, porem não podem ser alterados\n",
    "\n",
    "**Operações possiveis**\n",
    "- tuple() - Cria uma tupla\n",
    "\n",
    "**Documentação:**https://docs.python.org/3/tutorial/datastructures.html"
   ]
  },
  {
   "cell_type": "code",
   "execution_count": 121,
   "metadata": {},
   "outputs": [
    {
     "name": "stdout",
     "output_type": "stream",
     "text": [
      "<class 'tuple'>\n"
     ]
    },
    {
     "data": {
      "text/plain": [
       "('macroeconomia', 'cálculo II', 'Microeconomia III')"
      ]
     },
     "execution_count": 121,
     "metadata": {},
     "output_type": "execute_result"
    }
   ],
   "source": [
    "# Criar tupla\n",
    "materias = (\"macroeconomia\", \"cálculo II\", \"Microeconomia III\")\n",
    "print(type(materias))\n",
    "materias"
   ]
  },
  {
   "cell_type": "code",
   "execution_count": 123,
   "metadata": {
    "scrolled": true
   },
   "outputs": [
    {
     "ename": "TypeError",
     "evalue": "'tuple' object does not support item assignment",
     "output_type": "error",
     "traceback": [
      "\u001b[0;31m---------------------------------------------------------------------------\u001b[0m",
      "\u001b[0;31mTypeError\u001b[0m                                 Traceback (most recent call last)",
      "\u001b[0;32m<ipython-input-123-f4dd7b9eeee8>\u001b[0m in \u001b[0;36m<module>\u001b[0;34m\u001b[0m\n\u001b[1;32m      3\u001b[0m \u001b[0;34m\u001b[0m\u001b[0m\n\u001b[1;32m      4\u001b[0m \u001b[0;31m# Designação de variáveis não funciona\u001b[0m\u001b[0;34m\u001b[0m\u001b[0;34m\u001b[0m\u001b[0;34m\u001b[0m\u001b[0m\n\u001b[0;32m----> 5\u001b[0;31m \u001b[0mmaterias\u001b[0m\u001b[0;34m[\u001b[0m\u001b[0;36m0\u001b[0m\u001b[0;34m]\u001b[0m \u001b[0;34m=\u001b[0m \u001b[0;34m\"contabilidade\"\u001b[0m\u001b[0;34m\u001b[0m\u001b[0;34m\u001b[0m\u001b[0m\n\u001b[0m",
      "\u001b[0;31mTypeError\u001b[0m: 'tuple' object does not support item assignment"
     ]
    }
   ],
   "source": [
    "# Valores podem ser acessados da mesma forma que uma lista\n",
    "materias[0]\n",
    "\n",
    "# Designação de variáveis não funciona\n",
    "materias[0] = \"contabilidade\""
   ]
  },
  {
   "cell_type": "markdown",
   "metadata": {},
   "source": [
    "<div id='set'></div>\n",
    "\n",
    "## Sets"
   ]
  },
  {
   "cell_type": "markdown",
   "metadata": {},
   "source": [
    "- Conhecidos como conjuntos\n",
    "- É uma estrutura de dados desordenados e não permite itens repetidos\n",
    "- Construido por **set()** e identificado por **{}**\n",
    "- São otimizados para calcular intersecções e correspondências entre sets\n",
    "\n",
    "**Documentação:**https://docs.python.org/3/library/stdtypes.html?highlight=set#set"
   ]
  },
  {
   "cell_type": "code",
   "execution_count": 143,
   "metadata": {},
   "outputs": [
    {
     "data": {
      "text/plain": [
       "{'Juiz de Fora', 'Pindamonhangaba', 'São Paulo'}"
      ]
     },
     "execution_count": 143,
     "metadata": {},
     "output_type": "execute_result"
    }
   ],
   "source": [
    "# Exemplo\n",
    "set_vazio = set() # {} gera um dicionário vazio e não um set\n",
    "cidades = {\"Pindamonhangaba\", \"Juiz de Fora\", \"São Paulo\", \"São Paulo\"}\n",
    "cidades"
   ]
  },
  {
   "cell_type": "code",
   "execution_count": 144,
   "metadata": {},
   "outputs": [
    {
     "ename": "TypeError",
     "evalue": "'set' object is not subscriptable",
     "output_type": "error",
     "traceback": [
      "\u001b[0;31m---------------------------------------------------------------------------\u001b[0m",
      "\u001b[0;31mTypeError\u001b[0m                                 Traceback (most recent call last)",
      "\u001b[0;32m<ipython-input-144-40c3e74fce88>\u001b[0m in \u001b[0;36m<module>\u001b[0;34m\u001b[0m\n\u001b[1;32m      1\u001b[0m \u001b[0;31m# Valores não possuem índices, portanto não é possível acessá-los\u001b[0m\u001b[0;34m\u001b[0m\u001b[0;34m\u001b[0m\u001b[0;34m\u001b[0m\u001b[0m\n\u001b[0;32m----> 2\u001b[0;31m \u001b[0mcidades\u001b[0m\u001b[0;34m[\u001b[0m\u001b[0;36m0\u001b[0m\u001b[0;34m]\u001b[0m\u001b[0;34m\u001b[0m\u001b[0;34m\u001b[0m\u001b[0m\n\u001b[0m",
      "\u001b[0;31mTypeError\u001b[0m: 'set' object is not subscriptable"
     ]
    }
   ],
   "source": [
    "# Valores não possuem índices, portanto não é possível acessá-los\n",
    "cidades[0]"
   ]
  },
  {
   "cell_type": "code",
   "execution_count": 146,
   "metadata": {},
   "outputs": [
    {
     "name": "stdout",
     "output_type": "stream",
     "text": [
      "Juiz de Fora\n",
      "Pindamonhangaba\n",
      "São Paulo\n"
     ]
    }
   ],
   "source": [
    "# É possível acessar todos os valores com um for loop\n",
    "for i in cidades:\n",
    "    print(i)"
   ]
  },
  {
   "cell_type": "markdown",
   "metadata": {},
   "source": [
    "<div id='dicionario'></div>\n",
    "\n",
    "## Dicionários"
   ]
  },
  {
   "cell_type": "markdown",
   "metadata": {},
   "source": [
    "- É uma estrutura de dados ordenada por chaves e iteravel, ou seja ao invés de index o dicionário ordena os itens por chaves de identificação e esses itens podem ser alterados\n",
    "- Também é conhecido por ser construido por {}\n",
    "\n",
    "**Métodos**\n",
    "\n",
    "- dict() - Cria um dicionário vazio\n",
    "- dict[key] = value - Cria uma chave com valor dentro do dicionario\n",
    "- dict.clear()\n",
    "- del dict[key] - deleta item atribuido a chave\n",
    "- dict.pop(key) - deleta chave e retorna seu valor \n",
    "- dict.get() - Retorna o valor da chave passada como parametro\n",
    "- dict.items() - Retorna tupla com (chave, valor)\n",
    "- dict.keys() - Retorna as chaves do dicionarios\n",
    "- dict.values() - Retorna os valores do dicionarios\n",
    "- dict.update() - Adiciona e altera o valor de diversas keys simultaneamente\n",
    "\n",
    "**Documentação:** https://docs.python.org/pt-br/3/library/stdtypes.html#typesmapping"
   ]
  },
  {
   "cell_type": "code",
   "execution_count": 159,
   "metadata": {},
   "outputs": [
    {
     "data": {
      "text/plain": [
       "{}"
      ]
     },
     "execution_count": 159,
     "metadata": {},
     "output_type": "execute_result"
    }
   ],
   "source": [
    "# Inicializando dicionário em branco\n",
    "dicionario = {}\n",
    "dicionario"
   ]
  },
  {
   "cell_type": "code",
   "execution_count": 160,
   "metadata": {
    "scrolled": true
   },
   "outputs": [
    {
     "data": {
      "text/plain": [
       "{'nome': 'João',\n",
       " 'idade': 23,\n",
       " 'faculdade': 'Insper',\n",
       " 'materias': ['microeconomia', 'cálculo', 'estatística']}"
      ]
     },
     "execution_count": 160,
     "metadata": {},
     "output_type": "execute_result"
    }
   ],
   "source": [
    "# Exemplo\n",
    "aluno = {\"nome\": \"João\", \"idade\": 23, \"faculdade\": \"Insper\", \"materias\": [\"microeconomia\", \"cálculo\", \"estatística\"]}\n",
    "aluno"
   ]
  },
  {
   "cell_type": "code",
   "execution_count": 161,
   "metadata": {},
   "outputs": [
    {
     "name": "stdout",
     "output_type": "stream",
     "text": [
      "João\n",
      "None\n"
     ]
    }
   ],
   "source": [
    "# Acessando valores\n",
    "aluno[\"nome\"]\n",
    "\n",
    "# Erro acontece quando chave(key) não existe\n",
    "# aluno[\"email\"]\n",
    "\n",
    "# Método get() resolve esse problema\n",
    "print(aluno.get(\"nome\"))\n",
    "print(aluno.get(\"email\"))"
   ]
  },
  {
   "cell_type": "code",
   "execution_count": 162,
   "metadata": {},
   "outputs": [
    {
     "name": "stdout",
     "output_type": "stream",
     "text": [
      "aluno@insper.edu.br\n",
      "{'nome': 'João', 'idade': 23, 'faculdade': 'Insper', 'materias': ['microeconomia', 'cálculo', 'estatística'], 'email': 'aluno@insper.edu.br'}\n"
     ]
    }
   ],
   "source": [
    "# Adicionando Valores\n",
    "aluno[\"email\"] = \"aluno@insper.edu.br\"\n",
    "print(aluno.get(\"email\"))\n",
    "print(aluno)"
   ]
  },
  {
   "cell_type": "code",
   "execution_count": 163,
   "metadata": {},
   "outputs": [
    {
     "name": "stdout",
     "output_type": "stream",
     "text": [
      "Pedro\n",
      "{'nome': 'Maria', 'idade': 23, 'faculdade': 'FGV', 'materias': ['microeconomia', 'cálculo', 'estatística'], 'email': 'aluno@insper.edu.br', 'telefone': '987654321'}\n"
     ]
    }
   ],
   "source": [
    "# Método Update - Alterar, adicionar valores e juntar dicionários\n",
    "\n",
    "# Poderíamos adicionar e alterar valores individualmente, porém seria algo ineficiente\n",
    "aluno[\"nome\"] = \"Pedro\"\n",
    "print(aluno[\"nome\"])\n",
    "\n",
    "# Método update resolve isso\n",
    "aluno.update({\"nome\": \"Maria\", \"faculdade\": \"FGV\", \"telefone\": \"987654321\"}) # Leva dicionário como argumento\n",
    "print(aluno)"
   ]
  },
  {
   "cell_type": "code",
   "execution_count": 164,
   "metadata": {},
   "outputs": [
    {
     "name": "stdout",
     "output_type": "stream",
     "text": [
      "{'nome': 'Maria', 'idade': 23, 'faculdade': 'FGV', 'materias': ['microeconomia', 'cálculo', 'estatística'], 'email': 'aluno@insper.edu.br', 'telefone': '987654321'}\n",
      "{'nome': 'Maria', 'idade': 23, 'faculdade': 'FGV', 'materias': ['microeconomia', 'cálculo', 'estatística'], 'email': 'aluno@insper.edu.br'}\n",
      "{'nome': 'Maria', 'idade': 23, 'faculdade': 'FGV', 'materias': ['microeconomia', 'cálculo', 'estatística']}\n"
     ]
    }
   ],
   "source": [
    "# Removendo chaves (keys)\n",
    "print(aluno)\n",
    "\n",
    "# Del\n",
    "del aluno[\"telefone\"]\n",
    "print(aluno)\n",
    "\n",
    "# Pop()\n",
    "aluno.pop(\"email\")\n",
    "print(aluno)"
   ]
  },
  {
   "cell_type": "code",
   "execution_count": 165,
   "metadata": {},
   "outputs": [
    {
     "data": {
      "text/plain": [
       "dict_keys(['nome', 'idade', 'faculdade', 'materias'])"
      ]
     },
     "execution_count": 165,
     "metadata": {},
     "output_type": "execute_result"
    }
   ],
   "source": [
    "# Acessando todas as chaves (keys) de um dicionário\n",
    "aluno.keys()"
   ]
  },
  {
   "cell_type": "code",
   "execution_count": 166,
   "metadata": {},
   "outputs": [
    {
     "data": {
      "text/plain": [
       "dict_values(['Maria', 23, 'FGV', ['microeconomia', 'cálculo', 'estatística']])"
      ]
     },
     "execution_count": 166,
     "metadata": {},
     "output_type": "execute_result"
    }
   ],
   "source": [
    "# Acessando todos os valores (values) de um dicionário\n",
    "aluno.values()"
   ]
  },
  {
   "cell_type": "code",
   "execution_count": 168,
   "metadata": {},
   "outputs": [
    {
     "data": {
      "text/plain": [
       "dict_items([('nome', 'Maria'), ('idade', 23), ('faculdade', 'FGV'), ('materias', ['microeconomia', 'cálculo', 'estatística'])])"
      ]
     },
     "execution_count": 168,
     "metadata": {},
     "output_type": "execute_result"
    }
   ],
   "source": [
    "# Acessando todas as chaves e valores de um dicionário\n",
    "aluno.items()"
   ]
  },
  {
   "cell_type": "code",
   "execution_count": 169,
   "metadata": {},
   "outputs": [
    {
     "name": "stdout",
     "output_type": "stream",
     "text": [
      "nome\n",
      "idade\n",
      "faculdade\n",
      "materias\n"
     ]
    }
   ],
   "source": [
    "## Como iterar por um dicionário\n",
    "\n",
    "# Se repetirmos o método utilizado para listas obteremos apenas as chaves (keys)\n",
    "\n",
    "for i in aluno:\n",
    "    print(i)"
   ]
  },
  {
   "cell_type": "code",
   "execution_count": 170,
   "metadata": {},
   "outputs": [
    {
     "name": "stdout",
     "output_type": "stream",
     "text": [
      "nome Maria\n",
      "idade 23\n",
      "faculdade FGV\n",
      "materias ['microeconomia', 'cálculo', 'estatística']\n"
     ]
    }
   ],
   "source": [
    "# Por esse motivo devemos utilizar o método items():\n",
    "\n",
    "for a, b in aluno.items():\n",
    "    print(a, b)"
   ]
  },
  {
   "cell_type": "markdown",
   "metadata": {},
   "source": [
    "## Desafio\n",
    "https://www.codewars.com/kata/5f8a15c06dbd530016be0c19/train/python"
   ]
  },
  {
   "cell_type": "code",
   "execution_count": null,
   "metadata": {},
   "outputs": [],
   "source": [
    "def duplicate_sandwich(arr):\n",
    "    \n",
    "    for i in arr:\n",
    "        if arr.count(i) > 1:\n",
    "            tam = len(arr)\n",
    "            pos_1 = arr.index(i)\n",
    "            pos_2 = tam - arr[::-1].index(i)\n",
    "    \n",
    "    return arr[pos_1+1:pos_2-1]\n"
   ]
  }
 ],
 "metadata": {
  "kernelspec": {
   "display_name": "Python 3",
   "language": "python",
   "name": "python3"
  },
  "language_info": {
   "codemirror_mode": {
    "name": "ipython",
    "version": 3
   },
   "file_extension": ".py",
   "mimetype": "text/x-python",
   "name": "python",
   "nbconvert_exporter": "python",
   "pygments_lexer": "ipython3",
   "version": "3.8.5"
  }
 },
 "nbformat": 4,
 "nbformat_minor": 4
}
