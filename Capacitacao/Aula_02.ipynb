{
 "cells": [
  {
   "cell_type": "markdown",
   "metadata": {},
   "source": [
    "# Capacitações de nivelamento"
   ]
  },
  {
   "cell_type": "markdown",
   "metadata": {},
   "source": [
    "## Aula 02 de Python : Coleções em python"
   ]
  },
  {
   "cell_type": "markdown",
   "metadata": {},
   "source": [
    "### Objetivos da aula\n",
    "- [Listas](#Listas)\n",
    "- [Tuplas](#tupla)\n",
    "- [Set](#set)\n",
    "- [Dicionarios](#dicionario)\n"
   ]
  },
  {
   "cell_type": "markdown",
   "metadata": {},
   "source": [
    "<div id='Listas'></div>\n",
    "\n",
    "## Listas"
   ]
  },
  {
   "cell_type": "markdown",
   "metadata": {},
   "source": [
    "- É uma estrutura de dados ordenada e iteravel, ou seja os termos são identificados por posições(index) e podem ser alterados.\n",
    "- É identificado por ser formada por colchetes \"[]\"\n",
    "\n",
    "**Principais métodos**\n",
    "- List() - Cria uma lista vazia\n",
    "- list.append() - Adiciona um item no **fim** da lista\n",
    "- list.insert() - Recebe dois parâmetros: Índice e valor a ser inserido na lista\n",
    "- list.remove() - Remove o primeiro item da lista cujo o valor é igual o parametro passado \n",
    "- list.clear() - Remove todos os itens da lista\n",
    "- list.count() - Devolve o numero de vezes que o item aparece na lista \n",
    "- list.sort() - Ordena os itens na lista\n",
    "- list.extend() - Usado para dar merge com elementos de outra lista\n",
    "- list.pop() - Remove e retorna o último elemento da lista\n",
    "- list.reverse() - Inverte a ordem da lista\n",
    "\n",
    "**Documentação:**https://docs.python.org/3/tutorial/datastructures.html"
   ]
  },
  {
   "cell_type": "code",
   "execution_count": null,
   "metadata": {},
   "outputs": [],
   "source": [
    "# iniciando uma lista\n",
    "lista_vazia = list() # com função lista\n",
    "lista_vazia = [] # por sintaxe\n",
    "print(lista_vazia)"
   ]
  },
  {
   "cell_type": "code",
   "execution_count": 46,
   "metadata": {},
   "outputs": [
    {
     "data": {
      "text/plain": [
       "['pão', 'queijo', 'iogurte', 'batata']"
      ]
     },
     "execution_count": 46,
     "metadata": {},
     "output_type": "execute_result"
    }
   ],
   "source": [
    "# adicionando elementos\n",
    "compras = ['pão','queijo','iogurte','batata']\n",
    "compras"
   ]
  },
  {
   "cell_type": "code",
   "execution_count": 26,
   "metadata": {},
   "outputs": [
    {
     "data": {
      "text/plain": [
       "['batata', 'iogurte', 'queijo', 'pão']"
      ]
     },
     "execution_count": 26,
     "metadata": {},
     "output_type": "execute_result"
    }
   ],
   "source": [
    "# acessando valores\n",
    "compras[0]\n",
    "compras[0:3]\n",
    "compras[2::]\n",
    "\n",
    "#invertendo uma lista\n",
    "compras[::-1]"
   ]
  },
  {
   "cell_type": "code",
   "execution_count": 27,
   "metadata": {},
   "outputs": [
    {
     "data": {
      "text/plain": [
       "'pedro'"
      ]
     },
     "execution_count": 27,
     "metadata": {},
     "output_type": "execute_result"
    }
   ],
   "source": [
    "#cortando uma string \n",
    "nome = ['pedro']\n",
    "nome[0]"
   ]
  },
  {
   "cell_type": "code",
   "execution_count": 47,
   "metadata": {},
   "outputs": [
    {
     "data": {
      "text/plain": [
       "['pão', 'queijo', 'iogurte', 'batata', 'carne']"
      ]
     },
     "execution_count": 47,
     "metadata": {},
     "output_type": "execute_result"
    }
   ],
   "source": [
    "# método append() - adicionando elementos a uma lista existente\n",
    "compras.append('carne')\n",
    "compras"
   ]
  },
  {
   "cell_type": "code",
   "execution_count": 48,
   "metadata": {},
   "outputs": [
    {
     "data": {
      "text/plain": [
       "['pão',\n",
       " 'queijo',\n",
       " 'iogurte',\n",
       " 'batata',\n",
       " 'carne',\n",
       " 'morango',\n",
       " 'banana',\n",
       " 'abacate',\n",
       " 'laranja']"
      ]
     },
     "execution_count": 48,
     "metadata": {},
     "output_type": "execute_result"
    }
   ],
   "source": [
    "# método extend() - adicionando vários elementos a uma lista existente\n",
    "frutas = ['morango','banana','abacate','laranja']\n",
    "compras.extend(frutas)\n",
    "compras"
   ]
  },
  {
   "cell_type": "code",
   "execution_count": 50,
   "metadata": {},
   "outputs": [
    {
     "data": {
      "text/plain": [
       "['pão',\n",
       " 'queijo',\n",
       " 'iogurte',\n",
       " 'batata',\n",
       " 'carne',\n",
       " 'acerola',\n",
       " 'acerola',\n",
       " 'morango',\n",
       " 'banana',\n",
       " 'abacate',\n",
       " 'laranja']"
      ]
     },
     "execution_count": 50,
     "metadata": {},
     "output_type": "execute_result"
    }
   ],
   "source": [
    "# método insert() - adicionando um elemento a um indice especifico\n",
    "compras.insert(5, 'acerola')\n",
    "compras"
   ]
  },
  {
   "cell_type": "code",
   "execution_count": 53,
   "metadata": {},
   "outputs": [
    {
     "data": {
      "text/plain": [
       "['pão',\n",
       " 'queijo',\n",
       " 'iogurte',\n",
       " 'batata',\n",
       " 'carne',\n",
       " 'morango',\n",
       " 'banana',\n",
       " 'abacate',\n",
       " 'laranja']"
      ]
     },
     "execution_count": 53,
     "metadata": {},
     "output_type": "execute_result"
    }
   ],
   "source": [
    "# método remove() - removendo elementos\n",
    "compras.remove('acerola')\n",
    "compras"
   ]
  },
  {
   "cell_type": "code",
   "execution_count": 54,
   "metadata": {},
   "outputs": [
    {
     "data": {
      "text/plain": [
       "'laranja'"
      ]
     },
     "execution_count": 54,
     "metadata": {},
     "output_type": "execute_result"
    }
   ],
   "source": [
    "# método pop() - removendo o último elemento de uma lista e o retorna\n",
    "compras.pop()"
   ]
  },
  {
   "cell_type": "code",
   "execution_count": 58,
   "metadata": {},
   "outputs": [
    {
     "data": {
      "text/plain": [
       "['queijo', 'pão', 'morango', 'iogurte', 'carne', 'batata', 'banana', 'abacate']"
      ]
     },
     "execution_count": 58,
     "metadata": {},
     "output_type": "execute_result"
    }
   ],
   "source": [
    "# ordenando uma lista\n",
    "compras.sort()\n",
    "compras\n",
    "\n",
    "compras.sort(reverse=True)\n",
    "compras"
   ]
  },
  {
   "cell_type": "markdown",
   "metadata": {},
   "source": [
    "<div id='tupla'></div>\n",
    "\n",
    "## Tuplas"
   ]
  },
  {
   "cell_type": "markdown",
   "metadata": {},
   "source": [
    "- É uma estrutura de dados ordenada e não mutável, ou seja os termos são identificados por posições(index) e não podem ser alterados.\n",
    "- É identificada por ser formada por parenteses \"()\"\n",
    "- Valores podem ser acessados da mesma forma que uma lista, porem não podem ser alterados\n",
    "\n",
    "**Operações possiveis**\n",
    "- tuple() - Cria uma tupla\n",
    "\n",
    "**Documentação:**https://docs.python.org/3/tutorial/datastructures.html"
   ]
  },
  {
   "cell_type": "code",
   "execution_count": 59,
   "metadata": {},
   "outputs": [],
   "source": [
    "#criando uma tupla \n",
    "materias = ()"
   ]
  },
  {
   "cell_type": "code",
   "execution_count": 63,
   "metadata": {},
   "outputs": [
    {
     "data": {
      "text/plain": [
       "('microeconomia', 'macroeconomia', 'econometria', 'estatística')"
      ]
     },
     "execution_count": 63,
     "metadata": {},
     "output_type": "execute_result"
    }
   ],
   "source": [
    "#elementos em uma tupla\n",
    "materias = ('microeconomia','macroeconomia','econometria','estatística')\n",
    "materias"
   ]
  },
  {
   "cell_type": "code",
   "execution_count": 65,
   "metadata": {
    "scrolled": true
   },
   "outputs": [
    {
     "data": {
      "text/plain": [
       "('macroeconomia',)"
      ]
     },
     "execution_count": 65,
     "metadata": {},
     "output_type": "execute_result"
    }
   ],
   "source": [
    "# acessando elementos\n",
    "materias[1]\n",
    "materias[1:2]\n"
   ]
  },
  {
   "cell_type": "markdown",
   "metadata": {},
   "source": [
    "<div id='set'></div>\n",
    "\n",
    "## Set"
   ]
  },
  {
   "cell_type": "markdown",
   "metadata": {},
   "source": [
    "- Conhecidos como conjuntos\n",
    "- É uma estrutura de dados desordenados e não permite itens repetidos\n",
    "- Construido por **set()** e identificado por **{}**\n",
    "- São otimizados para calcular intersecções e correspondências entre sets\n",
    "\n",
    "**Documentação:**https://docs.python.org/3/library/stdtypes.html?highlight=set#set"
   ]
  },
  {
   "cell_type": "code",
   "execution_count": null,
   "metadata": {},
   "outputs": [],
   "source": [
    "# criando um set vazio\n",
    "meu_set = set{}"
   ]
  },
  {
   "cell_type": "code",
   "execution_count": 70,
   "metadata": {},
   "outputs": [
    {
     "data": {
      "text/plain": [
       "{0, 1, 2, 3, 4, 5, 6, 7, 8, 9}"
      ]
     },
     "execution_count": 70,
     "metadata": {},
     "output_type": "execute_result"
    }
   ],
   "source": [
    "set_a = {1,2,3,4,5,6,7,8}\n",
    "set_b = {2,9,0,6}\n",
    "\n",
    "set.intersection(set_a,set_b)\n",
    "set.union(set_a,set_b)"
   ]
  },
  {
   "cell_type": "code",
   "execution_count": 71,
   "metadata": {},
   "outputs": [
    {
     "name": "stdout",
     "output_type": "stream",
     "text": [
      "1\n",
      "2\n",
      "3\n",
      "4\n",
      "5\n",
      "6\n",
      "7\n",
      "8\n"
     ]
    }
   ],
   "source": [
    "for i in set_a:\n",
    "    print(i)"
   ]
  },
  {
   "cell_type": "markdown",
   "metadata": {},
   "source": [
    "NÃO SE ACESSA ELEMENTOS DE UM SET"
   ]
  },
  {
   "cell_type": "markdown",
   "metadata": {},
   "source": [
    "<div id='dicionario'></div>\n",
    "\n",
    "## Dicionarios"
   ]
  },
  {
   "cell_type": "markdown",
   "metadata": {},
   "source": [
    "- É uma estrutura de dados ordenada por chaves e iteravel, ou seja ao invés de index o dicionário ordena os itens por chaves de identificação e esses itens podem ser alterados\n",
    "- Também é conhecido por ser construido por {}\n",
    "\n",
    "**Métodos**\n",
    "\n",
    "- dict() - Cria um dicionário vazio\n",
    "- dict[key] = value - Cria uma chave com valor dentro do dicionario\n",
    "- dict.clear()\n",
    "- del dict[key] - deleta item atribuido a chave\n",
    "- dict.pop(key) - deleta chave e retorna seu valor \n",
    "- dict.get() - Retorna o valor da chave passada como parametro\n",
    "- dict.items() - Retorna tupla com (chave, valor)\n",
    "- dict.keys() - Retorna as chaves do dicionarios\n",
    "- dict.values() - Retorna os valores do dicionarios\n",
    "- dict.update() - Adiciona e altera o valor de diversas keys simultaneamente\n",
    "\n",
    "**Documentação:** https://docs.python.org/pt-br/3/library/stdtypes.html#typesmapping"
   ]
  },
  {
   "cell_type": "code",
   "execution_count": null,
   "metadata": {},
   "outputs": [],
   "source": [
    "# criando um dicionário vazio\n",
    "dicionario = {}"
   ]
  },
  {
   "cell_type": "code",
   "execution_count": 76,
   "metadata": {},
   "outputs": [
    {
     "data": {
      "text/plain": [
       "{'nomes': ['João', 'Roberto', 'Ana', 'Maria'], 'idades': [18, 20, 18, 19]}"
      ]
     },
     "execution_count": 76,
     "metadata": {},
     "output_type": "execute_result"
    }
   ],
   "source": [
    "# exemplos\n",
    "alunos = {'nomes':['João','Roberto','Ana','Maria'],'idades':[18,20,18,19]}\n",
    "alunos"
   ]
  },
  {
   "cell_type": "code",
   "execution_count": 77,
   "metadata": {},
   "outputs": [
    {
     "data": {
      "text/plain": [
       "{'nomes': ['João', 'Roberto', 'Ana', 'Maria', 'Saulo'],\n",
       " 'idades': [18, 20, 18, 19],\n",
       " 'cidades': ['São Paulo', 'Brasília', 'Porto Alegre', 'Rio de Janeiro']}"
      ]
     },
     "execution_count": 77,
     "metadata": {},
     "output_type": "execute_result"
    }
   ],
   "source": [
    "# adiocionando um elemmento\n",
    "alunos['cidades'] = ['São Paulo','Brasília','Porto Alegre','Rio de Janeiro']\n",
    "alunos\n",
    "alunos['nomes'].append('Saulo') \n",
    "alunos"
   ]
  },
  {
   "cell_type": "code",
   "execution_count": 82,
   "metadata": {
    "scrolled": true
   },
   "outputs": [
    {
     "data": {
      "text/plain": [
       "['João', 'Roberto', 'Ana', 'Maria', 'Saulo']"
      ]
     },
     "execution_count": 82,
     "metadata": {},
     "output_type": "execute_result"
    }
   ],
   "source": [
    "# método get()\n",
    "alunos.get('nomes')"
   ]
  },
  {
   "cell_type": "code",
   "execution_count": 84,
   "metadata": {},
   "outputs": [
    {
     "data": {
      "text/plain": [
       "{'nomes': ['João', 'Roberto', 'Fabiana', 'Maria'],\n",
       " 'idades': [18, 20, 18, 19],\n",
       " 'cidades': ['São Paulo', 'São Paulo', 'São Paulo', 'São Paulo'],\n",
       " 'Faculdade': ['FGV', 'Insper', 'FGV', 'Insper']}"
      ]
     },
     "execution_count": 84,
     "metadata": {},
     "output_type": "execute_result"
    }
   ],
   "source": [
    "# método update()\n",
    "alunos.update({'nomes':['João','Roberto','Fabiana','Maria'],'Faculdade':['FGV','Insper','FGV','Insper'],\n",
    "               'cidades':['São Paulo','São Paulo','São Paulo','São Paulo']})\n",
    "alunos"
   ]
  },
  {
   "cell_type": "code",
   "execution_count": 85,
   "metadata": {},
   "outputs": [
    {
     "data": {
      "text/plain": [
       "dict_keys(['nomes', 'idades', 'cidades', 'Faculdade'])"
      ]
     },
     "execution_count": 85,
     "metadata": {},
     "output_type": "execute_result"
    }
   ],
   "source": [
    "# acessando todas as chaves\n",
    "alunos.keys()"
   ]
  },
  {
   "cell_type": "code",
   "execution_count": 86,
   "metadata": {},
   "outputs": [
    {
     "data": {
      "text/plain": [
       "dict_values([['João', 'Roberto', 'Fabiana', 'Maria'], [18, 20, 18, 19], ['São Paulo', 'São Paulo', 'São Paulo', 'São Paulo'], ['FGV', 'Insper', 'FGV', 'Insper']])"
      ]
     },
     "execution_count": 86,
     "metadata": {},
     "output_type": "execute_result"
    }
   ],
   "source": [
    "# acessando todos os valores\n",
    "alunos.values()"
   ]
  },
  {
   "cell_type": "code",
   "execution_count": 87,
   "metadata": {
    "scrolled": true
   },
   "outputs": [
    {
     "data": {
      "text/plain": [
       "dict_items([('nomes', ['João', 'Roberto', 'Fabiana', 'Maria']), ('idades', [18, 20, 18, 19]), ('cidades', ['São Paulo', 'São Paulo', 'São Paulo', 'São Paulo']), ('Faculdade', ['FGV', 'Insper', 'FGV', 'Insper'])])"
      ]
     },
     "execution_count": 87,
     "metadata": {},
     "output_type": "execute_result"
    }
   ],
   "source": [
    "# acessando valores e itens\n",
    "alunos.items()"
   ]
  },
  {
   "cell_type": "code",
   "execution_count": 90,
   "metadata": {
    "scrolled": true
   },
   "outputs": [
    {
     "name": "stdout",
     "output_type": "stream",
     "text": [
      "['João', 'Roberto', 'Fabiana', 'Maria'] nomes\n",
      "[18, 20, 18, 19] idades\n",
      "['São Paulo', 'São Paulo', 'São Paulo', 'São Paulo'] cidades\n",
      "['FGV', 'Insper', 'FGV', 'Insper'] Faculdade\n"
     ]
    }
   ],
   "source": [
    "# iterando um dicionário\n",
    "for values, keys in alunos.items():\n",
    "    print(keys, values)"
   ]
  },
  {
   "cell_type": "markdown",
   "metadata": {},
   "source": [
    "### DESAFIO"
   ]
  },
  {
   "cell_type": "code",
   "execution_count": 106,
   "metadata": {},
   "outputs": [],
   "source": [
    "lista = [0,1,2,3,4,5,6,7,4,8,9]"
   ]
  },
  {
   "cell_type": "code",
   "execution_count": 120,
   "metadata": {},
   "outputs": [
    {
     "data": {
      "text/plain": [
       "[5, 6, 7]"
      ]
     },
     "execution_count": 120,
     "metadata": {},
     "output_type": "execute_result"
    }
   ],
   "source": [
    "def funcao(lista):  \n",
    "    for j in lista:\n",
    "        if lista.count(j) > 1:\n",
    "            x1 = lista.index(j)\n",
    "            x2 = len(lista) - lista[::-1].index(j)\n",
    "    return lista[x1+1:x2-1]\n",
    "\n",
    "funcao(lista)"
   ]
  },
  {
   "cell_type": "code",
   "execution_count": null,
   "metadata": {},
   "outputs": [],
   "source": []
  }
 ],
 "metadata": {
  "kernelspec": {
   "display_name": "Python 3",
   "language": "python",
   "name": "python3"
  },
  "language_info": {
   "codemirror_mode": {
    "name": "ipython",
    "version": 3
   },
   "file_extension": ".py",
   "mimetype": "text/x-python",
   "name": "python",
   "nbconvert_exporter": "python",
   "pygments_lexer": "ipython3",
   "version": "3.8.5"
  }
 },
 "nbformat": 4,
 "nbformat_minor": 4
}
