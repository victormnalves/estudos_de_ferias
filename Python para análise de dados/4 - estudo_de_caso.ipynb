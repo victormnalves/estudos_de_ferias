{
 "cells": [
  {
   "cell_type": "markdown",
   "metadata": {},
   "source": [
    "# Estudo de caso: passeios aleatórios"
   ]
  },
  {
   "cell_type": "code",
   "execution_count": 32,
   "metadata": {},
   "outputs": [],
   "source": [
    "import random\n",
    "import numpy as np\n",
    "import matplotlib.pyplot as plt\n",
    "\n",
    "#gerando um passeio aleatório com passo de 1 e -1 com mesma probabilidade\n",
    "position = 0\n",
    "walk = [position]\n",
    "steps = 1000\n",
    "\n",
    "for i in range(steps):\n",
    "    step = 1 if random.randint(0,1) else -1 #expression_if_true if condition else expression_if_false\n",
    "    position += step\n",
    "    walk.append(position)"
   ]
  },
  {
   "cell_type": "code",
   "execution_count": 33,
   "metadata": {},
   "outputs": [
    {
     "data": {
      "text/plain": [
       "[<matplotlib.lines.Line2D at 0x1bf7fd4ab50>]"
      ]
     },
     "execution_count": 33,
     "metadata": {},
     "output_type": "execute_result"
    },
    {
     "data": {
      "image/png": "[encoded data removed]",
      "text/plain": [
       "<Figure size 432x288 with 1 Axes>"
      ]
     },
     "metadata": {
      "needs_background": "light"
     },
     "output_type": "display_data"
    }
   ],
   "source": [
    "plt.plot(walk[:100])"
   ]
  },
  {
   "cell_type": "code",
   "execution_count": 27,
   "metadata": {},
   "outputs": [],
   "source": [
    "nsteps = 1000\n",
    "draws = np.random.randint(0,2,size = nsteps)\n",
    "steps = np.where(draws > 0, 1, -1)\n",
    "walk = steps.cumsum()"
   ]
  },
  {
   "cell_type": "code",
   "execution_count": 11,
   "metadata": {},
   "outputs": [
    {
     "data": {
      "text/plain": [
       "8"
      ]
     },
     "execution_count": 11,
     "metadata": {},
     "output_type": "execute_result"
    }
   ],
   "source": [
    "walk.min()\n",
    "walk.max()"
   ]
  },
  {
   "cell_type": "code",
   "execution_count": 21,
   "metadata": {},
   "outputs": [
    {
     "data": {
      "text/plain": [
       "array([ 1,  0,  1,  0,  1,  0,  1,  0,  1,  0,  1,  0,  1,  0,  1,  0,  1,\n",
       "        2,  1,  0,  1,  2,  1,  2,  1,  0,  1,  2,  3,  2,  1,  0,  1,  2,\n",
       "        3,  2,  1,  0,  1,  2,  3,  4,  5,  6,  5,  6,  7,  8,  7,  8,  9,\n",
       "       10,  9,  8,  9,  8,  7,  6,  5,  6,  7,  6,  7,  6,  5,  6,  5,  4,\n",
       "        5,  6,  7,  8,  7,  8,  9,  8,  9,  8,  7,  6,  7,  8,  9, 10,  9,\n",
       "       10,  9,  8,  9,  8,  7,  8,  9,  8,  9,  8,  9, 10,  9, 10,  9, 10,\n",
       "       11, 10,  9,  8,  9, 10, 11, 10, 11, 10,  9,  8,  9, 10, 11, 12, 11,\n",
       "       10,  9,  8,  7,  8,  7,  6,  7,  6,  5,  4,  3,  4,  5,  6,  7,  8,\n",
       "        9,  8,  9,  8,  9, 10,  9,  8,  9, 10,  9,  8,  7,  8,  7,  6,  7,\n",
       "        6,  7,  8,  9, 10, 11, 10,  9,  8,  7,  8,  9, 10, 11, 12, 13, 14,\n",
       "       15, 16, 15, 14, 13, 12, 11, 12, 13, 14, 13, 12, 13, 14, 13, 12, 11,\n",
       "       12, 13, 12, 11, 12, 13, 14, 15, 14, 15, 16, 15, 14, 15, 14, 15, 14,\n",
       "       15, 16, 17, 16, 15, 14, 15, 14, 15, 14, 13, 14, 15, 14, 15, 16, 15,\n",
       "       14, 13, 14, 15, 14, 13, 14, 15, 16, 15, 14, 15, 14, 15, 16, 15, 16,\n",
       "       17, 18, 17, 16, 17, 18, 17, 18, 19, 18, 17, 18, 19, 20, 19, 18, 17,\n",
       "       18, 17, 16, 15, 16, 15, 16, 17, 16, 15, 14, 13, 12, 11, 12, 13, 14,\n",
       "       15, 16, 17, 16, 15, 14, 15, 14, 15, 14, 13, 12, 13, 14, 15, 16, 15,\n",
       "       16, 17, 16, 15, 16, 17, 16, 15, 14, 15, 16, 17, 18, 19, 18, 19, 20,\n",
       "       21, 20, 19, 20, 19, 20, 21, 22, 21, 22, 23, 24, 25, 26, 25, 24, 25,\n",
       "       24, 23, 22, 21, 22, 23, 24, 25, 26, 27, 26, 25, 24, 25, 26, 27, 28,\n",
       "       27, 26, 25, 26, 25, 26, 25, 26, 25, 24, 23, 22, 21, 22, 21, 20, 21,\n",
       "       20, 21, 22, 23, 24, 25, 26, 27, 26, 25, 24, 25, 26, 25, 24, 25, 26,\n",
       "       27, 26, 25, 24, 23, 22, 23, 24, 23, 22, 23, 24, 23, 24, 23, 22, 23,\n",
       "       24, 23, 22, 23, 22, 23, 22, 21, 22, 21, 20, 21, 22, 21, 22, 23, 24,\n",
       "       23, 22, 21, 20, 19, 20, 21, 22, 23, 24, 25, 24, 25, 24, 25, 24, 23,\n",
       "       22, 21, 22, 21, 20, 19, 20, 21, 20, 21, 22, 21, 22, 21, 20, 19, 18,\n",
       "       19, 20, 21, 20, 21, 20, 21, 20, 21, 22, 23, 24, 25, 24, 23, 22, 21,\n",
       "       20, 19, 18, 17, 16, 17, 16, 17, 18, 17, 16, 17, 18, 19, 18, 17, 18,\n",
       "       17, 16, 15, 14, 15, 14, 15, 14, 15, 14, 13, 14, 13, 12, 13, 14, 13,\n",
       "       12, 11, 10, 11, 10,  9,  8,  9, 10,  9,  8,  7,  8,  7,  6,  7,  6,\n",
       "        7,  6,  7,  6,  5,  4,  5,  4,  3,  2,  3,  2,  1,  0,  1,  0,  1,\n",
       "        2,  3,  2,  1,  0,  1,  2,  1,  0,  1,  0,  1,  2,  3,  4,  3,  4,\n",
       "        3,  4,  3,  2,  3,  4,  5,  6,  5,  4,  3,  2,  1,  2,  3,  4,  3,\n",
       "        4,  5,  6,  5,  4,  3,  2,  3,  2,  1,  2,  1,  2,  3,  2,  1,  0,\n",
       "        1,  2,  3,  4,  5,  4,  5,  6,  7,  8,  9,  8,  7,  8,  7,  8,  7,\n",
       "        8,  7,  6,  5,  6,  7,  6,  5,  4,  3,  2,  3,  4,  3,  4,  5,  4,\n",
       "        3,  2,  3,  2,  1,  2,  3,  4,  5,  6,  7,  8,  7,  8,  7,  8,  7,\n",
       "        6,  7,  6,  5,  4,  5,  6,  5,  4,  3,  4,  3,  4,  3,  2,  3,  4,\n",
       "        5,  4,  3,  4,  3,  4,  3,  2,  1,  0,  1,  0,  1,  0,  1,  0,  1,\n",
       "        2,  1,  0,  1,  0,  1,  2,  1,  0,  1,  2,  1,  2,  3,  2,  3,  4,\n",
       "        3,  4,  5,  6,  5,  4,  3,  2,  1,  0,  1,  0,  1,  2,  1,  2,  1,\n",
       "        0,  1,  0,  1,  0,  1,  2,  3,  2,  3,  4,  5,  4,  5,  6,  5,  6,\n",
       "        7,  6,  5,  6,  5,  4,  3,  2,  3,  4,  5,  4,  3,  4,  5,  6,  5,\n",
       "        4,  5,  4,  5,  6,  7,  8,  7,  8,  7,  6,  5,  4,  5,  4,  5,  4,\n",
       "        5,  4,  5,  4,  5,  6,  5,  6,  5,  4,  3,  4,  5,  6,  7,  6,  5,\n",
       "        4,  5,  4,  3,  2,  3,  2,  3,  4,  3,  2,  1,  0,  1,  0,  1,  2,\n",
       "        1,  0,  1,  0,  1,  0,  1,  0,  1,  2,  1,  2,  3,  4,  3,  2,  1,\n",
       "        0,  1,  2,  3,  4,  5,  6,  5,  4,  3,  2,  1,  0,  1,  2,  1,  2,\n",
       "        1,  2,  1,  0,  1,  2,  3,  4,  5,  6,  5,  6,  5,  6,  7,  8,  9,\n",
       "       10, 11, 10, 11, 12, 11, 10, 11, 10,  9,  8,  9, 10, 11, 10, 11, 10,\n",
       "        9, 10,  9,  8,  7,  8,  7,  8,  9,  8,  7,  6,  7,  8,  7,  6,  5,\n",
       "        6,  5,  4,  5,  6,  5,  6,  7,  8,  9,  8,  7,  6,  5,  4,  3,  4,\n",
       "        5,  4,  3,  2,  1,  2,  1,  2,  1,  0,  1,  2,  1,  0,  1,  0,  1,\n",
       "        2,  3,  2,  3,  4,  3,  2,  1,  0,  1,  2,  1,  2,  1,  2,  1,  2,\n",
       "        3,  2,  1,  0,  1,  0,  1,  0,  1,  2,  3,  4,  5,  4,  3,  4,  3,\n",
       "        4,  3,  2,  1,  0,  1,  2,  1,  2,  3,  2,  3,  2,  1,  2,  1,  2,\n",
       "        1,  2,  3,  2,  1,  0,  1,  2,  3,  2,  3,  2,  1,  2,  3,  4,  5,\n",
       "        4,  3,  4,  5,  4,  3,  4,  3,  2,  3,  2,  1,  2,  1,  0,  1,  2,\n",
       "        1,  2,  1,  2,  1,  0,  1,  0,  1,  0,  1,  0,  1,  0],\n",
       "      dtype=int32)"
      ]
     },
     "execution_count": 21,
     "metadata": {},
     "output_type": "execute_result"
    }
   ],
   "source": [
    "(np.abs(walk))"
   ]
  },
  {
   "cell_type": "code",
   "execution_count": 23,
   "metadata": {},
   "outputs": [
    {
     "data": {
      "text/plain": [
       "28"
      ]
     },
     "execution_count": 23,
     "metadata": {},
     "output_type": "execute_result"
    }
   ],
   "source": [
    "np.max(np.abs(walk))"
   ]
  },
  {
   "cell_type": "code",
   "execution_count": 22,
   "metadata": {},
   "outputs": [
    {
     "data": {
      "text/plain": [
       "339"
      ]
     },
     "execution_count": 22,
     "metadata": {},
     "output_type": "execute_result"
    }
   ],
   "source": [
    "(np.abs(walk)).argmax()"
   ]
  }
 ],
 "metadata": {
  "kernelspec": {
   "display_name": "Python 3",
   "language": "python",
   "name": "python3"
  },
  "language_info": {
   "codemirror_mode": {
    "name": "ipython",
    "version": 3
   },
   "file_extension": ".py",
   "mimetype": "text/x-python",
   "name": "python",
   "nbconvert_exporter": "python",
   "pygments_lexer": "ipython3",
   "version": "3.8.5"
  }
 },
 "nbformat": 4,
 "nbformat_minor": 4
}
