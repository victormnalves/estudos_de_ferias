{
 "cells": [
  {
   "cell_type": "markdown",
   "metadata": {},
   "source": [
    "# PANDAS"
   ]
  },
  {
   "cell_type": "code",
   "execution_count": 2,
   "metadata": {},
   "outputs": [],
   "source": [
    "import pandas as pd #por convenção\n",
    "import numpy as np"
   ]
  },
  {
   "cell_type": "markdown",
   "metadata": {},
   "source": [
    "## Introdução às estruturas de dados"
   ]
  },
  {
   "cell_type": "code",
   "execution_count": 7,
   "metadata": {},
   "outputs": [
    {
     "data": {
      "text/plain": [
       "Bob      4\n",
       "Steve    7\n",
       "Jeff    -5\n",
       "Ryan     3\n",
       "dtype: int64"
      ]
     },
     "execution_count": 7,
     "metadata": {},
     "output_type": "execute_result"
    }
   ],
   "source": [
    "## Series em Pandas\n",
    "obj = pd.Series([4,7,-5,3])\n",
    "obj.values #verifica valores\n",
    "obj.index #verifica os indices \n",
    "\n",
    "obj2 = pd.Series([4,7,-5,3], index=['d','b','a','c']) #cria uma série com index \"forçado\"\n",
    "obj2['a'] #chamamos o valor com index \"a\".\n",
    "obj2['d'] = 6 #a chave \"d\" recebe 6\n",
    "obj2[['c','a','d']] #printa as chaves na \"lista de indíces\"\n",
    "obj2[obj2 > 0] #valores maiores que 0\n",
    "obj2 * 2 #multiplica todos os valores internos por 2\n",
    "np.exp(obj2) #exponencial dos valores internos\n",
    "'b' in obj2 #verifica se o indice/valor está na Series\n",
    "\n",
    "# transformando dicionário em Series\n",
    "sdata = {'Ohio': 35000,  'Texas': 71000, 'Oregon': 16000, 'Utah': 5000}\n",
    "obj3 = pd.Series(sdata) # transformar estrutura de dados pré existente em Series (em dics as chaves são os indices)\n",
    "\n",
    "states = ['California', 'Ohio', 'Oregon', 'Texas'] \n",
    "obj4 = pd.Series(sdata, index = states) # define uma lista como index e aloca os que estão de acordo com os pré-existentes\n",
    "\n",
    "# verificação de nulos\n",
    "pd.isnull(obj4)\n",
    "pd.notnull(obj4)\n",
    "obj4.isnull()\n",
    "\n",
    "# alinhamento pelo rótulo\n",
    "obj3 + obj4 # soma dos valores de index semelhante\n",
    "\n",
    "obj4.name = 'population' # dá um nome ao objeto\n",
    "obj4.index.name = 'state' #dá nome ao header dos index\n",
    "\n",
    "# mudando o nome de índices\n",
    "obj\n",
    "obj.index = ['Bob', 'Steve', 'Jeff', 'Ryan']\n",
    "obj"
   ]
  },
  {
   "cell_type": "code",
   "execution_count": null,
   "metadata": {},
   "outputs": [],
   "source": [
    "## DataFrame em Pandas"
   ]
  }
 ],
 "metadata": {
  "kernelspec": {
   "display_name": "Python 3",
   "language": "python",
   "name": "python3"
  },
  "language_info": {
   "codemirror_mode": {
    "name": "ipython",
    "version": 3
   },
   "file_extension": ".py",
   "mimetype": "text/x-python",
   "name": "python",
   "nbconvert_exporter": "python",
   "pygments_lexer": "ipython3",
   "version": "3.8.5"
  }
 },
 "nbformat": 4,
 "nbformat_minor": 4
}
