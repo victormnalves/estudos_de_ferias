{
 "cells": [
  {
   "cell_type": "code",
   "execution_count": null,
   "metadata": {},
   "outputs": [],
   "source": [
    "################# NDARRAYS ######################"
   ]
  },
  {
   "cell_type": "code",
   "execution_count": 1,
   "metadata": {},
   "outputs": [],
   "source": [
    "import numpy as np #por convenção usa-se np\n",
    "\n",
    "#arrays são mais eficientes que listas puras\n",
    "my_array = np.arange(100000)\n",
    "my_list = list(range(100000))"
   ]
  },
  {
   "cell_type": "code",
   "execution_count": null,
   "metadata": {},
   "outputs": [],
   "source": [
    "#exemplo de manipulação com array\n",
    "data = np.random.randn(2,3) #array aleatorio 2 por 3\n",
    "data\n",
    "\n",
    "data * 10\n",
    "data + data\n",
    "\n",
    "data.shape #retorna a ordem\n",
    "data.type #retorna o tipo"
   ]
  },
  {
   "cell_type": "code",
   "execution_count": null,
   "metadata": {},
   "outputs": [],
   "source": [
    "#exemplo de uma lista para vetor unidimensional\n",
    "data1 = [6, 7.5, 8, 0, 1]\n",
    "array1 = np.array(data1)\n",
    "array1\n",
    "\n",
    "#lista de listas para vetor bidmensional\n",
    "data2 = [[1,2,3,4],[5,6,7,8]] #uma lista de listas\n",
    "array2 = np.array(data2)\n",
    "array2\n",
    "\n",
    "array2.ndim #retorna a dimensão\n",
    "array.shape #retorna a ordem"
   ]
  },
  {
   "cell_type": "code",
   "execution_count": null,
   "metadata": {},
   "outputs": [],
   "source": [
    "#funções para criação de arrays\n",
    "\n",
    "np.zeros(10) #array com 10 vezes o número 0\n",
    "np.zeros((3,6)) #array 3 por 6 com o número 0. Observe a preseça de uma tupla no argumento.\n",
    "np.empty((2,3,2)) #array \"vazio\" 2 por 3 repetido 2 vezes."
   ]
  },
  {
   "cell_type": "code",
   "execution_count": null,
   "metadata": {},
   "outputs": [],
   "source": [
    "#tipo de dado / dtype\n",
    "array3 = np.array([1,2,3], dtype = np.float64)\n",
    "array4 = np.array([1,2,3], dtype = np.int32)\n",
    "\n",
    "array3.type\n",
    "array4.type\n",
    "\n",
    "#transformando o dado de um array\n",
    "arr = np.array([1,2,3,4,5])\n",
    "arr.dtype\n",
    "\n",
    "float_arr = arr.astype(np.float64)\n",
    "float_arr.dtype\n",
    "\n",
    "float_arr2 = np.array([3.7,-2.6,0.5,12.6,10.1])\n",
    "float_arr2.astype(np.int32)\n",
    "float_arr2\n",
    "\n",
    "numeric_string = np.array(['1.25','-9.6','42'], dtype=np.string_)\n",
    "numeric_string.astype(np.float64)\n",
    "numeric_string\n",
    "\n",
    "#podemos passar um vetor como o tipo de dado para outro vetor, assim o np assumirá o tipo de dado do vetor passado\n",
    "int_array = np.arange(10)\n",
    "caliber = np.array([.22,.270,.357,.380,.44,.50], dtype = np.float64)\n",
    "int_array.astype(caliber)\n",
    "int_array"
   ]
  },
  {
   "cell_type": "code",
   "execution_count": null,
   "metadata": {},
   "outputs": [],
   "source": [
    "#Aritmética com array\n",
    "\n",
    "array5 = np.array([[1.,2.,3.],[4.,5.,6.]])\n",
    "array5\n",
    "\n",
    "array5 * array5\n",
    "array5 - array5\n",
    "1/array5\n",
    "array5 ** 0.5\n",
    "\n",
    "#conseguimos comparar vetores\n",
    "array6 = np.array([[0.,4.,1.],[7.,2.,12.]])\n",
    "array6 > array5 #retornará verdadeiro ou falso"
   ]
  }
 ],
 "metadata": {
  "kernelspec": {
   "display_name": "Python 3",
   "language": "python",
   "name": "python3"
  },
  "language_info": {
   "codemirror_mode": {
    "name": "ipython",
    "version": 3
   },
   "file_extension": ".py",
   "mimetype": "text/x-python",
   "name": "python",
   "nbconvert_exporter": "python",
   "pygments_lexer": "ipython3",
   "version": "3.8.5"
  }
 },
 "nbformat": 4,
 "nbformat_minor": 4
}
