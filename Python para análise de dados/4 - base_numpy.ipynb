{
 "cells": [
  {
   "cell_type": "markdown",
   "metadata": {},
   "source": [
    "## NDARRAYS"
   ]
  },
  {
   "cell_type": "code",
   "execution_count": 83,
   "metadata": {},
   "outputs": [],
   "source": [
    "import numpy as np #por convenção usa-se np\n",
    "import matplotlib.pyplot as plt #será explicado futuramente, mas por convenção usa-se plt\n",
    "from numpy.linalg import inv, qr #biblioteca algebra linear\n",
    "from IPython.core.interactiveshell import InteractiveShell\n",
    "InteractiveShell.ast_node_interactivity = \"all\"\n",
    "\n",
    "#arrays são mais eficientes que listas puras\n",
    "my_array = np.arange(100000)\n",
    "my_list = list(range(100000))"
   ]
  },
  {
   "cell_type": "code",
   "execution_count": 84,
   "metadata": {},
   "outputs": [
    {
     "data": {
      "text/plain": [
       "array([[-0.0259242 , -1.1316317 , -0.13666726],\n",
       "       [-0.17983945, -0.2317485 ,  0.29724076]])"
      ]
     },
     "execution_count": 84,
     "metadata": {},
     "output_type": "execute_result"
    },
    {
     "data": {
      "text/plain": [
       "array([[ -0.25924199, -11.316317  ,  -1.36667264],\n",
       "       [ -1.79839455,  -2.31748503,   2.9724076 ]])"
      ]
     },
     "execution_count": 84,
     "metadata": {},
     "output_type": "execute_result"
    },
    {
     "data": {
      "text/plain": [
       "array([[-0.0518484 , -2.2632634 , -0.27333453],\n",
       "       [-0.35967891, -0.46349701,  0.59448152]])"
      ]
     },
     "execution_count": 84,
     "metadata": {},
     "output_type": "execute_result"
    },
    {
     "data": {
      "text/plain": [
       "(2, 3)"
      ]
     },
     "execution_count": 84,
     "metadata": {},
     "output_type": "execute_result"
    },
    {
     "data": {
      "text/plain": [
       "dtype('float64')"
      ]
     },
     "execution_count": 84,
     "metadata": {},
     "output_type": "execute_result"
    }
   ],
   "source": [
    "#exemplo de manipulação com array\n",
    "data = np.random.randn(2,3) #array aleatorio 2 por 3\n",
    "data\n",
    "\n",
    "data * 10\n",
    "data + data\n",
    "\n",
    "data.shape #retorna a ordem\n",
    "data.dtype #retorna o tipo"
   ]
  },
  {
   "cell_type": "code",
   "execution_count": 85,
   "metadata": {},
   "outputs": [
    {
     "data": {
      "text/plain": [
       "array([6. , 7.5, 8. , 0. , 1. ])"
      ]
     },
     "execution_count": 85,
     "metadata": {},
     "output_type": "execute_result"
    },
    {
     "data": {
      "text/plain": [
       "array([[1, 2, 3, 4],\n",
       "       [5, 6, 7, 8]])"
      ]
     },
     "execution_count": 85,
     "metadata": {},
     "output_type": "execute_result"
    },
    {
     "data": {
      "text/plain": [
       "2"
      ]
     },
     "execution_count": 85,
     "metadata": {},
     "output_type": "execute_result"
    },
    {
     "data": {
      "text/plain": [
       "(2, 4)"
      ]
     },
     "execution_count": 85,
     "metadata": {},
     "output_type": "execute_result"
    }
   ],
   "source": [
    "#exemplo de uma lista para vetor unidimensional\n",
    "data1 = [6, 7.5, 8, 0, 1]\n",
    "array1 = np.array(data1)\n",
    "array1\n",
    "\n",
    "#lista de listas para vetor bidmensional\n",
    "data2 = [[1,2,3,4],[5,6,7,8]] #uma lista de listas\n",
    "array2 = np.array(data2)\n",
    "array2\n",
    "\n",
    "array2.ndim #retorna a dimensão\n",
    "array2.shape #retorna a ordem"
   ]
  },
  {
   "cell_type": "code",
   "execution_count": 86,
   "metadata": {},
   "outputs": [
    {
     "data": {
      "text/plain": [
       "array([0., 0., 0., 0., 0., 0., 0., 0., 0., 0.])"
      ]
     },
     "execution_count": 86,
     "metadata": {},
     "output_type": "execute_result"
    },
    {
     "data": {
      "text/plain": [
       "array([[0., 0., 0., 0., 0., 0.],\n",
       "       [0., 0., 0., 0., 0., 0.],\n",
       "       [0., 0., 0., 0., 0., 0.]])"
      ]
     },
     "execution_count": 86,
     "metadata": {},
     "output_type": "execute_result"
    },
    {
     "data": {
      "text/plain": [
       "array([[[5., 5.],\n",
       "        [5., 5.],\n",
       "        [3., 3.]],\n",
       "\n",
       "       [[3., 3.],\n",
       "        [7., 7.],\n",
       "        [7., 7.]]])"
      ]
     },
     "execution_count": 86,
     "metadata": {},
     "output_type": "execute_result"
    }
   ],
   "source": [
    "# funções para criação de arrays\n",
    "\n",
    "np.zeros(10) #array com 10 vezes o número 0\n",
    "np.zeros((3,6)) #array 3 por 6 com o número 0. Observe a preseça de uma tupla no argumento.\n",
    "np.empty((2,3,2)) #array \"vazio\" 2 por 3 repetido 2 vezes."
   ]
  },
  {
   "cell_type": "markdown",
   "metadata": {},
   "source": [
    "### Tipos de dados para ndarrays"
   ]
  },
  {
   "cell_type": "code",
   "execution_count": 87,
   "metadata": {},
   "outputs": [
    {
     "data": {
      "text/plain": [
       "dtype('float64')"
      ]
     },
     "execution_count": 87,
     "metadata": {},
     "output_type": "execute_result"
    },
    {
     "data": {
      "text/plain": [
       "dtype('int32')"
      ]
     },
     "execution_count": 87,
     "metadata": {},
     "output_type": "execute_result"
    }
   ],
   "source": [
    "# tipo de dado / dtype\n",
    "array3 = np.array([1,2,3], dtype = np.float64)\n",
    "array4 = np.array([1,2,3], dtype = np.int32)\n",
    "\n",
    "array3.dtype\n",
    "array4.dtype"
   ]
  },
  {
   "cell_type": "code",
   "execution_count": 88,
   "metadata": {},
   "outputs": [
    {
     "data": {
      "text/plain": [
       "dtype('int32')"
      ]
     },
     "execution_count": 88,
     "metadata": {},
     "output_type": "execute_result"
    },
    {
     "data": {
      "text/plain": [
       "dtype('float64')"
      ]
     },
     "execution_count": 88,
     "metadata": {},
     "output_type": "execute_result"
    },
    {
     "data": {
      "text/plain": [
       "array([ 3, -2,  0, 12, 10])"
      ]
     },
     "execution_count": 88,
     "metadata": {},
     "output_type": "execute_result"
    },
    {
     "data": {
      "text/plain": [
       "array([ 3.7, -2.6,  0.5, 12.6, 10.1])"
      ]
     },
     "execution_count": 88,
     "metadata": {},
     "output_type": "execute_result"
    },
    {
     "data": {
      "text/plain": [
       "array([ 1.25, -9.6 , 42.  ])"
      ]
     },
     "execution_count": 88,
     "metadata": {},
     "output_type": "execute_result"
    },
    {
     "data": {
      "text/plain": [
       "array([b'1.25', b'-9.6', b'42'], dtype='|S4')"
      ]
     },
     "execution_count": 88,
     "metadata": {},
     "output_type": "execute_result"
    }
   ],
   "source": [
    "# transformando o dado de um array\n",
    "\n",
    "arr = np.array([1,2,3,4,5])\n",
    "arr.dtype\n",
    "\n",
    "float_arr = arr.astype(np.float64)\n",
    "float_arr.dtype\n",
    "\n",
    "float_arr2 = np.array([3.7,-2.6,0.5,12.6,10.1])\n",
    "float_arr2.astype(np.int32)\n",
    "float_arr2\n",
    "\n",
    "numeric_string = np.array(['1.25','-9.6','42'], dtype=np.string_)\n",
    "numeric_string.astype(np.float64)\n",
    "numeric_string"
   ]
  },
  {
   "cell_type": "code",
   "execution_count": 89,
   "metadata": {},
   "outputs": [
    {
     "data": {
      "text/plain": [
       "array([0., 1., 2., 3., 4., 5., 6., 7., 8., 9.])"
      ]
     },
     "execution_count": 89,
     "metadata": {},
     "output_type": "execute_result"
    },
    {
     "data": {
      "text/plain": [
       "array([0, 1, 2, 3, 4, 5, 6, 7, 8, 9])"
      ]
     },
     "execution_count": 89,
     "metadata": {},
     "output_type": "execute_result"
    }
   ],
   "source": [
    "# podemos passar um vetor como o tipo de dado para outro vetor, assim o np assumirá o tipo de dado do vetor passado\n",
    "int_array = np.arange(10)\n",
    "calibers = np.array([.22,.270,.357,.380,.44,.50], dtype = np.float64)\n",
    "int_array.astype(calibers.dtype)\n",
    "int_array"
   ]
  },
  {
   "cell_type": "markdown",
   "metadata": {},
   "source": [
    "### Aritmética com array"
   ]
  },
  {
   "cell_type": "code",
   "execution_count": 90,
   "metadata": {},
   "outputs": [
    {
     "data": {
      "text/plain": [
       "array([[1., 2., 3.],\n",
       "       [4., 5., 6.]])"
      ]
     },
     "execution_count": 90,
     "metadata": {},
     "output_type": "execute_result"
    },
    {
     "data": {
      "text/plain": [
       "array([[ 1.,  4.,  9.],\n",
       "       [16., 25., 36.]])"
      ]
     },
     "execution_count": 90,
     "metadata": {},
     "output_type": "execute_result"
    },
    {
     "data": {
      "text/plain": [
       "array([[0., 0., 0.],\n",
       "       [0., 0., 0.]])"
      ]
     },
     "execution_count": 90,
     "metadata": {},
     "output_type": "execute_result"
    },
    {
     "data": {
      "text/plain": [
       "array([[1.        , 0.5       , 0.33333333],\n",
       "       [0.25      , 0.2       , 0.16666667]])"
      ]
     },
     "execution_count": 90,
     "metadata": {},
     "output_type": "execute_result"
    },
    {
     "data": {
      "text/plain": [
       "array([[1.        , 1.41421356, 1.73205081],\n",
       "       [2.        , 2.23606798, 2.44948974]])"
      ]
     },
     "execution_count": 90,
     "metadata": {},
     "output_type": "execute_result"
    },
    {
     "data": {
      "text/plain": [
       "array([[False,  True, False],\n",
       "       [ True, False,  True]])"
      ]
     },
     "execution_count": 90,
     "metadata": {},
     "output_type": "execute_result"
    }
   ],
   "source": [
    "array5 = np.array([[1.,2.,3.],[4.,5.,6.]])\n",
    "array5\n",
    "\n",
    "array5 * array5\n",
    "array5 - array5\n",
    "1/array5\n",
    "array5 ** 0.5\n",
    "\n",
    "#conseguimos comparar vetores\n",
    "array6 = np.array([[0.,4.,1.],[7.,2.,12.]])\n",
    "array6 > array5 #retornará verdadeiro ou falso"
   ]
  },
  {
   "cell_type": "markdown",
   "metadata": {},
   "source": [
    "### Indexando e fatiando "
   ]
  },
  {
   "cell_type": "code",
   "execution_count": 91,
   "metadata": {},
   "outputs": [
    {
     "data": {
      "text/plain": [
       "5"
      ]
     },
     "execution_count": 91,
     "metadata": {},
     "output_type": "execute_result"
    },
    {
     "data": {
      "text/plain": [
       "array([5, 6, 7])"
      ]
     },
     "execution_count": 91,
     "metadata": {},
     "output_type": "execute_result"
    }
   ],
   "source": [
    "array7 = np.arange(10)\n",
    "array7[5] #seleciona o elemento 5 do vetor unidimensional\n",
    "array7[5:8]\n",
    "array7[5:8] = 12 #atribuição de valor\n",
    "array_slice = array7[5:8] #podemos armazenar uma fatia em uma variável\n",
    "array_slice[1] = 123 #se alterarmos este array, também alteramos o array original(array7) \n",
    "array_slice[:] = 64 #atribui um valor para todos os elementos do array\n",
    "\n",
    "#se quisermos copiar sem alterar os valores, criando realmente um novo array\n",
    "array7_copy = array7[5:8].copy"
   ]
  },
  {
   "cell_type": "code",
   "execution_count": 92,
   "metadata": {},
   "outputs": [
    {
     "data": {
      "text/plain": [
       "array([7, 8, 9])"
      ]
     },
     "execution_count": 92,
     "metadata": {},
     "output_type": "execute_result"
    },
    {
     "data": {
      "text/plain": [
       "3"
      ]
     },
     "execution_count": 92,
     "metadata": {},
     "output_type": "execute_result"
    },
    {
     "data": {
      "text/plain": [
       "3"
      ]
     },
     "execution_count": 92,
     "metadata": {},
     "output_type": "execute_result"
    }
   ],
   "source": [
    "# caso de multidimensional\n",
    "array8 = np.array([[1,2,3],[4,5,6],[7,8,9]])\n",
    "array8[2] #retorna a localização 2, ou seja, a última lista\n",
    "array8[0][2] #retorna o valor na linha 0 e coluna 2\n",
    "array8[0,2] #retorna o valor na linha 0 e coluna 2"
   ]
  },
  {
   "cell_type": "code",
   "execution_count": 93,
   "metadata": {},
   "outputs": [
    {
     "data": {
      "text/plain": [
       "array([[[ 1,  2,  3],\n",
       "        [ 4,  5,  6]],\n",
       "\n",
       "       [[ 7,  8,  9],\n",
       "        [10, 11, 12]]])"
      ]
     },
     "execution_count": 93,
     "metadata": {},
     "output_type": "execute_result"
    },
    {
     "data": {
      "text/plain": [
       "array([7, 8, 9])"
      ]
     },
     "execution_count": 93,
     "metadata": {},
     "output_type": "execute_result"
    }
   ],
   "source": [
    "# o mesmo serve para grandes arrays multdimensionais\n",
    "array3d = np.array([[[1,2,3],[4,5,6]],[[7,8,9],[10,11,12]]])\n",
    "array3d\n",
    "array3d[1,0] #retorna o \"segundo\" array interno e sua primeira linha"
   ]
  },
  {
   "cell_type": "code",
   "execution_count": 94,
   "metadata": {},
   "outputs": [
    {
     "data": {
      "text/plain": [
       "array([ 0,  1,  2,  3,  4, 64, 64, 64,  8,  9])"
      ]
     },
     "execution_count": 94,
     "metadata": {},
     "output_type": "execute_result"
    },
    {
     "data": {
      "text/plain": [
       "array([ 1,  2,  3,  4, 64])"
      ]
     },
     "execution_count": 94,
     "metadata": {},
     "output_type": "execute_result"
    },
    {
     "data": {
      "text/plain": [
       "array([[1, 2, 3],\n",
       "       [4, 5, 6]])"
      ]
     },
     "execution_count": 94,
     "metadata": {},
     "output_type": "execute_result"
    },
    {
     "data": {
      "text/plain": [
       "array([[2, 3],\n",
       "       [5, 6]])"
      ]
     },
     "execution_count": 94,
     "metadata": {},
     "output_type": "execute_result"
    },
    {
     "data": {
      "text/plain": [
       "array([[1],\n",
       "       [4],\n",
       "       [7]])"
      ]
     },
     "execution_count": 94,
     "metadata": {},
     "output_type": "execute_result"
    }
   ],
   "source": [
    "# indexação com fatias\n",
    "array7\n",
    "array7[1:6] #fatiar do elemento 1 ao 6\n",
    "array8[:2] #fatiar as linhas até a linha de locação 2 (3ª)\n",
    "array8[:2,1:] # #fatiar as linhas até a linha de locação 2 (3ª) e a partir da coluna de locação 1 (2ª)\n",
    "array8[:, :1] #fatiar todas as linhas e até a segunda coluna"
   ]
  },
  {
   "cell_type": "code",
   "execution_count": 95,
   "metadata": {},
   "outputs": [
    {
     "data": {
      "text/plain": [
       "array([ True, False, False,  True, False, False, False])"
      ]
     },
     "execution_count": 95,
     "metadata": {},
     "output_type": "execute_result"
    },
    {
     "data": {
      "text/plain": [
       "array([[-1.31464625, -0.41474395,  0.46191225,  0.26984913],\n",
       "       [ 0.28481397,  0.44247001, -0.94361458,  0.21702625]])"
      ]
     },
     "execution_count": 95,
     "metadata": {},
     "output_type": "execute_result"
    },
    {
     "data": {
      "text/plain": [
       "array([[ 0.46191225,  0.26984913],\n",
       "       [-0.94361458,  0.21702625]])"
      ]
     },
     "execution_count": 95,
     "metadata": {},
     "output_type": "execute_result"
    }
   ],
   "source": [
    "# indexação com booleanos\n",
    "names = np.array(['Bob', 'Joe', 'Will', 'Bob','Will','Joe','Joe'])\n",
    "data = np.random.randn(7,4)\n",
    "\n",
    "names == 'Bob' #retorna se os valores em names são ou não iguais a Bob\n",
    "data[names == 'Bob'] #toma os valores de index onde tem 'Bob' em names e imprime esses index em data\n",
    "\n",
    "data[names == 'Bob', 2:] #toma os valores da terceira coluna em diante que têm o mesmo index de linha que 'Bob'."
   ]
  },
  {
   "cell_type": "code",
   "execution_count": 96,
   "metadata": {},
   "outputs": [
    {
     "data": {
      "text/plain": [
       "array([False,  True,  True, False,  True,  True,  True])"
      ]
     },
     "execution_count": 96,
     "metadata": {},
     "output_type": "execute_result"
    },
    {
     "data": {
      "text/plain": [
       "array([[ 0.05887467, -0.05737342, -0.9540116 ,  0.88853014],\n",
       "       [ 1.00770439, -0.7929293 , -1.513489  ,  1.39991997],\n",
       "       [-1.68807724,  1.28921995, -0.62592323, -1.25618178],\n",
       "       [-0.25922937, -2.0107582 ,  0.16949012,  0.19668207],\n",
       "       [-0.13055677, -0.41037064,  0.13655882,  2.08892197]])"
      ]
     },
     "execution_count": 96,
     "metadata": {},
     "output_type": "execute_result"
    },
    {
     "data": {
      "text/plain": [
       "array([[ 0.05887467, -0.05737342, -0.9540116 ,  0.88853014],\n",
       "       [ 1.00770439, -0.7929293 , -1.513489  ,  1.39991997],\n",
       "       [-1.68807724,  1.28921995, -0.62592323, -1.25618178],\n",
       "       [-0.25922937, -2.0107582 ,  0.16949012,  0.19668207],\n",
       "       [-0.13055677, -0.41037064,  0.13655882,  2.08892197]])"
      ]
     },
     "execution_count": 96,
     "metadata": {},
     "output_type": "execute_result"
    },
    {
     "data": {
      "text/plain": [
       "array([[-1.31464625, -0.41474395,  0.46191225,  0.26984913],\n",
       "       [ 1.00770439, -0.7929293 , -1.513489  ,  1.39991997],\n",
       "       [ 0.28481397,  0.44247001, -0.94361458,  0.21702625],\n",
       "       [-1.68807724,  1.28921995, -0.62592323, -1.25618178]])"
      ]
     },
     "execution_count": 96,
     "metadata": {},
     "output_type": "execute_result"
    }
   ],
   "source": [
    "names != 'Bob' #retorna se os valores são ou não diferentes de 'Bob'.\n",
    "data[~(names == 'Bob')] #retorna negando os valores indexados iguais a 'Bob'\n",
    "cond = names == 'Bob'\n",
    "data[~cond] #retorna indexando com uma variável condicionada\n",
    "mask = (names == 'Bob') | (names == 'Will') #não podemos usar o operador 'or' aqui usamos |.Para \"and\" usamos \"&\"\n",
    "data[mask]\n",
    "\n",
    "data[data < 0] = 0 #os index onde há valores negativos receberão 0\n",
    "data[names != 'Joe'] = 7 #os index onde há valores diferentes dos index que 'Joe' receberão 7"
   ]
  },
  {
   "cell_type": "code",
   "execution_count": 97,
   "metadata": {},
   "outputs": [
    {
     "data": {
      "text/plain": [
       "array([[0., 0., 0., 0.],\n",
       "       [1., 1., 1., 1.],\n",
       "       [2., 2., 2., 2.],\n",
       "       [3., 3., 3., 3.],\n",
       "       [4., 4., 4., 4.],\n",
       "       [5., 5., 5., 5.],\n",
       "       [6., 6., 6., 6.],\n",
       "       [7., 7., 7., 7.]])"
      ]
     },
     "execution_count": 97,
     "metadata": {},
     "output_type": "execute_result"
    },
    {
     "data": {
      "text/plain": [
       "array([[4., 4., 4., 4.],\n",
       "       [3., 3., 3., 3.],\n",
       "       [0., 0., 0., 0.],\n",
       "       [6., 6., 6., 6.]])"
      ]
     },
     "execution_count": 97,
     "metadata": {},
     "output_type": "execute_result"
    },
    {
     "data": {
      "text/plain": [
       "array([[5., 5., 5., 5.],\n",
       "       [3., 3., 3., 3.],\n",
       "       [7., 7., 7., 7.]])"
      ]
     },
     "execution_count": 97,
     "metadata": {},
     "output_type": "execute_result"
    },
    {
     "data": {
      "text/plain": [
       "array([[ 0,  1,  2,  3],\n",
       "       [ 4,  5,  6,  7],\n",
       "       [ 8,  9, 10, 11],\n",
       "       [12, 13, 14, 15],\n",
       "       [16, 17, 18, 19],\n",
       "       [20, 21, 22, 23],\n",
       "       [24, 25, 26, 27],\n",
       "       [28, 29, 30, 31]])"
      ]
     },
     "execution_count": 97,
     "metadata": {},
     "output_type": "execute_result"
    },
    {
     "data": {
      "text/plain": [
       "array([[ 4,  7,  5,  6],\n",
       "       [20, 23, 21, 22],\n",
       "       [28, 31, 29, 30],\n",
       "       [ 8, 11,  9, 10]])"
      ]
     },
     "execution_count": 97,
     "metadata": {},
     "output_type": "execute_result"
    }
   ],
   "source": [
    "# indexação sofisticada (indexar com inteiros)\n",
    "array9 = np.empty((8,4))\n",
    "\n",
    "for i in range(8):\n",
    "    array9[i] = i\n",
    "array9\n",
    "\n",
    "array9[[4,3,0,6]] #passamos uma lista para printarmos as linhas numa desejada ordem\n",
    "array9[[-3,-5,7]]\n",
    "\n",
    "array9 = np.arange(32).reshape((8,4))\n",
    "array9\n",
    "array9[[1,5,7,2]][:,[0,3,1,2]] #para indexarmos vários index devemos passar eles separados."
   ]
  },
  {
   "cell_type": "markdown",
   "metadata": {},
   "source": [
    "### Transposição de arrays e troca de eixos \n"
   ]
  },
  {
   "cell_type": "code",
   "execution_count": 98,
   "metadata": {},
   "outputs": [
    {
     "data": {
      "text/plain": [
       "array([[ 0,  5, 10],\n",
       "       [ 1,  6, 11],\n",
       "       [ 2,  7, 12],\n",
       "       [ 3,  8, 13],\n",
       "       [ 4,  9, 14]])"
      ]
     },
     "execution_count": 98,
     "metadata": {},
     "output_type": "execute_result"
    },
    {
     "data": {
      "text/plain": [
       "array([[ 4.78343189,  0.49979907, -0.63141513],\n",
       "       [ 0.49979907, 13.91576159, -5.20809933],\n",
       "       [-0.63141513, -5.20809933,  2.96768222]])"
      ]
     },
     "execution_count": 98,
     "metadata": {},
     "output_type": "execute_result"
    }
   ],
   "source": [
    "array10 = np.arange(15).reshape((3,5))\n",
    "array10.T #transpões a matriz\n",
    "\n",
    "# produto de matrizes\n",
    "array10 = np.random.randn(6,3) \n",
    "np.dot(array10.T, array10) #calcula o produto"
   ]
  },
  {
   "cell_type": "code",
   "execution_count": 99,
   "metadata": {},
   "outputs": [
    {
     "data": {
      "text/plain": [
       "array([[[ 0,  1,  2,  3],\n",
       "        [ 8,  9, 10, 11]],\n",
       "\n",
       "       [[ 4,  5,  6,  7],\n",
       "        [12, 13, 14, 15]]])"
      ]
     },
     "execution_count": 99,
     "metadata": {},
     "output_type": "execute_result"
    },
    {
     "data": {
      "text/plain": [
       "array([[[ 0,  4],\n",
       "        [ 1,  5],\n",
       "        [ 2,  6],\n",
       "        [ 3,  7]],\n",
       "\n",
       "       [[ 8, 12],\n",
       "        [ 9, 13],\n",
       "        [10, 14],\n",
       "        [11, 15]]])"
      ]
     },
     "execution_count": 99,
     "metadata": {},
     "output_type": "execute_result"
    }
   ],
   "source": [
    "# transposição no caso de grandes dimensões\n",
    "array10 = np.arange(16).reshape((2,2,4))\n",
    "array10.transpose((1,0,2)) #esse método coloca o segundo eixo em primeiro, o primeiro em segundo e o último se mantem.\n",
    "\n",
    "# método swapaxes para troca de eixos\n",
    "array10.swapaxes(1,2) #transpõe os dados e os dispõe de acordo à ordem argumentada"
   ]
  },
  {
   "cell_type": "markdown",
   "metadata": {},
   "source": [
    "## Funções aplicavéis em todos elementos de um array"
   ]
  },
  {
   "cell_type": "code",
   "execution_count": 100,
   "metadata": {},
   "outputs": [
    {
     "data": {
      "text/plain": [
       "array([0.        , 1.        , 1.41421356, 1.73205081, 2.        ,\n",
       "       2.23606798, 2.44948974, 2.64575131, 2.82842712, 3.        ])"
      ]
     },
     "execution_count": 100,
     "metadata": {},
     "output_type": "execute_result"
    },
    {
     "data": {
      "text/plain": [
       "array([1.00000000e+00, 2.71828183e+00, 7.38905610e+00, 2.00855369e+01,\n",
       "       5.45981500e+01, 1.48413159e+02, 4.03428793e+02, 1.09663316e+03,\n",
       "       2.98095799e+03, 8.10308393e+03])"
      ]
     },
     "execution_count": 100,
     "metadata": {},
     "output_type": "execute_result"
    },
    {
     "data": {
      "text/plain": [
       "array([0.81772667, 0.88563038, 0.42642767, 0.39299763, 0.22450471,\n",
       "       0.74572113, 0.57235832, 0.31568722])"
      ]
     },
     "execution_count": 100,
     "metadata": {},
     "output_type": "execute_result"
    }
   ],
   "source": [
    "#funções uteis\n",
    "array = np.arange(10)\n",
    "\n",
    "np.sqrt(array) #raiz quadrada de todos os elementos\n",
    "np.exp(array) #exponencial de todos os elementos\n",
    "\n",
    "x = np.random.randn(8)\n",
    "y = np.random.rand(8)\n",
    "np.maximum(x, y) #máximo entre x e y\n",
    "\n",
    "#unfuns devolvem vários vetores:\n",
    "\n",
    "array = np.random.rand(7)*5\n",
    "remain, whole = np.modf(array) #coloca a parte inteira e decimal do número em dois vetores"
   ]
  },
  {
   "cell_type": "markdown",
   "metadata": {},
   "source": [
    "## Programação orientada a arrays"
   ]
  },
  {
   "cell_type": "markdown",
   "metadata": {},
   "source": [
    "### Orientando arrays"
   ]
  },
  {
   "cell_type": "code",
   "execution_count": 101,
   "metadata": {},
   "outputs": [
    {
     "data": {
      "text/plain": [
       "<matplotlib.image.AxesImage at 0x28ace77c100>"
      ]
     },
     "execution_count": 101,
     "metadata": {},
     "output_type": "execute_result"
    },
    {
     "data": {
      "text/plain": [
       "<matplotlib.colorbar.Colorbar at 0x28ace327a00>"
      ]
     },
     "execution_count": 101,
     "metadata": {},
     "output_type": "execute_result"
    },
    {
     "data": {
      "text/plain": [
       "Text(0.5, 1.0, 'Image plot of $\\\\sqrt{x^2+y^2} for a grid of values')"
      ]
     },
     "execution_count": 101,
     "metadata": {},
     "output_type": "execute_result"
    },
    {
     "data": {
      "image/png": "[encoded data removed]",
      "text/plain": [
       "<Figure size 432x288 with 2 Axes>"
      ]
     },
     "metadata": {
      "needs_background": "light"
     },
     "output_type": "display_data"
    }
   ],
   "source": [
    "points = np.arange(-5, 5, 0.01) #pontos no intervalo [-5,5] ao passo 0.01\n",
    "\n",
    "xs,ys = np.meshgrid(points, points) #criando um grid retangular com x = points e y = points\n",
    "z = np.sqrt(xs ** 2, ys ** 2)\n",
    "\n",
    "plt.imshow(z, cmap=plt.cm.gray); plt.colorbar()\n",
    "plt.title(\"Image plot of $\\sqrt{x^2+y^2} for a grid of values\")"
   ]
  },
  {
   "cell_type": "markdown",
   "metadata": {},
   "source": [
    "### Lógica condicional como arryas"
   ]
  },
  {
   "cell_type": "code",
   "execution_count": 102,
   "metadata": {},
   "outputs": [],
   "source": [
    "xarr = np.array([1.1,1.2,1.3,1.4,1.5])\n",
    "yarr = np .array([2.1,2.2,2.3,2.4,2.5])\n",
    "cond = np.array([True, False, True, True, False])"
   ]
  },
  {
   "cell_type": "code",
   "execution_count": 103,
   "metadata": {},
   "outputs": [
    {
     "data": {
      "text/plain": [
       "[1.1, 2.2, 1.3, 1.4, 2.5]"
      ]
     },
     "execution_count": 103,
     "metadata": {},
     "output_type": "execute_result"
    }
   ],
   "source": [
    "#utilizando condicional if em list comprehension para testarmos, mas não é rápido!!!!\n",
    "result = [(x if c else y)\n",
    "          for x, y, c in zip(xarr, yarr, cond)]\n",
    "result"
   ]
  },
  {
   "cell_type": "code",
   "execution_count": 104,
   "metadata": {},
   "outputs": [
    {
     "data": {
      "text/plain": [
       "array([1.1, 2.2, 1.3, 1.4, 2.5])"
      ]
     },
     "execution_count": 104,
     "metadata": {},
     "output_type": "execute_result"
    },
    {
     "data": {
      "text/plain": [
       "array([[ 2,  2,  2, -2],\n",
       "       [-2,  2, -2, -2],\n",
       "       [ 2, -2, -2,  2],\n",
       "       [-2,  2, -2,  2]])"
      ]
     },
     "execution_count": 104,
     "metadata": {},
     "output_type": "execute_result"
    },
    {
     "data": {
      "text/plain": [
       "array([[ 2.        ,  2.        ,  2.        , -0.4126361 ],\n",
       "       [-0.01332245,  2.        , -0.11502292, -1.0898944 ],\n",
       "       [ 2.        , -0.19567912, -0.29737436,  2.        ],\n",
       "       [-1.05718906,  2.        , -0.62568846,  2.        ]])"
      ]
     },
     "execution_count": 104,
     "metadata": {},
     "output_type": "execute_result"
    }
   ],
   "source": [
    "#utilizando a função np.where(), bem mais rápida!!!\n",
    "result = np.where(cond, xarr, yarr) #se cond xarr senão yarr. Os últimos argumentos não precisam ser vetores!\n",
    "result\n",
    "\n",
    "arr = np.random.randn(4,4)\n",
    "np.where(arr > 0, 2, -2) #inserindo 2 onde são positivos e -2 onde são negativos\n",
    "np.where(arr > 0, 2, arr) #insere apenas 2 onde é positivo e mantém onde é negativo"
   ]
  },
  {
   "cell_type": "markdown",
   "metadata": {},
   "source": [
    "### Matemática e estatístca"
   ]
  },
  {
   "cell_type": "code",
   "execution_count": 105,
   "metadata": {},
   "outputs": [
    {
     "data": {
      "text/plain": [
       "<function ndarray.mean>"
      ]
     },
     "execution_count": 105,
     "metadata": {},
     "output_type": "execute_result"
    },
    {
     "data": {
      "text/plain": [
       "0.08353037878194047"
      ]
     },
     "execution_count": 105,
     "metadata": {},
     "output_type": "execute_result"
    },
    {
     "data": {
      "text/plain": [
       "<function ndarray.sum>"
      ]
     },
     "execution_count": 105,
     "metadata": {},
     "output_type": "execute_result"
    },
    {
     "data": {
      "text/plain": [
       "array([ 0.65882719, -0.58838343,  0.78667997,  0.11716936, -0.5566412 ])"
      ]
     },
     "execution_count": 105,
     "metadata": {},
     "output_type": "execute_result"
    },
    {
     "data": {
      "text/plain": [
       "array([ 1.67819857, -2.2239088 ,  0.79975858,  1.41655922])"
      ]
     },
     "execution_count": 105,
     "metadata": {},
     "output_type": "execute_result"
    },
    {
     "data": {
      "text/plain": [
       "<function ndarray.cumsum>"
      ]
     },
     "execution_count": 105,
     "metadata": {},
     "output_type": "execute_result"
    },
    {
     "data": {
      "text/plain": [
       "<function ndarray.cumprod>"
      ]
     },
     "execution_count": 105,
     "metadata": {},
     "output_type": "execute_result"
    },
    {
     "data": {
      "text/plain": [
       "array([[ 0,  1,  2],\n",
       "       [ 3,  5,  7],\n",
       "       [ 9, 12, 15]], dtype=int32)"
      ]
     },
     "execution_count": 105,
     "metadata": {},
     "output_type": "execute_result"
    },
    {
     "data": {
      "text/plain": [
       "array([[  0,   0,   0],\n",
       "       [  3,  12,  60],\n",
       "       [  6,  42, 336]], dtype=int32)"
      ]
     },
     "execution_count": 105,
     "metadata": {},
     "output_type": "execute_result"
    }
   ],
   "source": [
    "arr = np.random.randn(5,4)\n",
    "\n",
    "arr.mean #média\n",
    "np.mean(arr) #média\n",
    "arr.sum #somatório\n",
    "\n",
    "arr.mean(axis = 1) #média pela COLUNA selecionada\n",
    "arr.sum(axis = 0) #soma pela LINHA selecionada\n",
    "\n",
    "arr = np.array([0,1,2,3,4,5,6,7])\n",
    "arr.cumsum #soma acumulada\n",
    "arr.cumprod #produto acumulado\n",
    "\n",
    "arr = np.array([[0,1,2],[3,4,5],[6,7,8]])\n",
    "arr.cumsum(axis = 0) #soma pela LINHA\n",
    "arr.cumprod(axis = 1) #produto acumulado pela COLUNA\n"
   ]
  },
  {
   "cell_type": "code",
   "execution_count": 106,
   "metadata": {},
   "outputs": [
    {
     "data": {
      "text/plain": [
       "46"
      ]
     },
     "execution_count": 106,
     "metadata": {},
     "output_type": "execute_result"
    },
    {
     "data": {
      "text/plain": [
       "True"
      ]
     },
     "execution_count": 106,
     "metadata": {},
     "output_type": "execute_result"
    },
    {
     "data": {
      "text/plain": [
       "True"
      ]
     },
     "execution_count": 106,
     "metadata": {},
     "output_type": "execute_result"
    }
   ],
   "source": [
    "#método para array booleano\n",
    "\n",
    "arr = np.random.randn(100)\n",
    "(arr>0).sum() #soma dos positivos\n",
    "\n",
    "bools = np.array([False, False, True, False])\n",
    "bools.any() #verifica se há algum valor True\n",
    "bools.any() #verifica se todos os valores são True"
   ]
  },
  {
   "cell_type": "markdown",
   "metadata": {},
   "source": [
    "### Ordenação "
   ]
  },
  {
   "cell_type": "code",
   "execution_count": 107,
   "metadata": {},
   "outputs": [],
   "source": [
    "arr = np.random.randn(6)\n",
    "arr.sort() #ordena in-place\n",
    "\n",
    "arr = np.random.rand(5,3)\n",
    "arr.sort(1) #ordena apenas o eixo selecionado"
   ]
  },
  {
   "cell_type": "markdown",
   "metadata": {},
   "source": [
    "### Unicidade"
   ]
  },
  {
   "cell_type": "code",
   "execution_count": 108,
   "metadata": {},
   "outputs": [
    {
     "data": {
      "text/plain": [
       "array(['Bob', 'Joe', 'Will'], dtype='<U4')"
      ]
     },
     "execution_count": 108,
     "metadata": {},
     "output_type": "execute_result"
    },
    {
     "data": {
      "text/plain": [
       "array([ True, False, False,  True,  True, False,  True])"
      ]
     },
     "execution_count": 108,
     "metadata": {},
     "output_type": "execute_result"
    }
   ],
   "source": [
    "names = np.array(['Bob','Joe','Will','Bob','Will','Joe','Joe'])\n",
    "np.unique(names) #retorna os valores de forma unica e ordenada\n",
    "\n",
    "values = np.array([6,0,0,3,2,5,6])\n",
    "np.in1d(values, [2,3,6]) #verifica se os valores passados estão no vetor retornando um vetor booleano"
   ]
  },
  {
   "cell_type": "markdown",
   "metadata": {},
   "source": [
    "## Entrada e saída de arquivos"
   ]
  },
  {
   "cell_type": "code",
   "execution_count": 109,
   "metadata": {},
   "outputs": [
    {
     "data": {
      "text/plain": [
       "array([0, 1, 2, 3, 4, 5, 6, 7, 8, 9])"
      ]
     },
     "execution_count": 109,
     "metadata": {},
     "output_type": "execute_result"
    },
    {
     "data": {
      "text/plain": [
       "array([0, 1, 2, 3, 4, 5, 6, 7, 8, 9])"
      ]
     },
     "execution_count": 109,
     "metadata": {},
     "output_type": "execute_result"
    }
   ],
   "source": [
    "#trabalhando com arquivos \n",
    "arr = np.arange(10)\n",
    "\n",
    "np.save('some_array',arr) #salvando um arquivo\n",
    "np.load('some_array.npy') #se não estiver em npy, a extensão será concatenada\n",
    "np.savez('array_archive.npz',a=arr,b=arr) #salva vários arquivos em um sem compactar\n",
    "\n",
    "arch = np.load('array_archive.npz')\n",
    "arch['b'] #retorna a parte b do arquivo\n",
    "\n",
    "np.savez_compressed('arrays_compressed.npz', a=arr, b=arr) #salva compactado"
   ]
  },
  {
   "cell_type": "markdown",
   "metadata": {},
   "source": [
    "## Algebra linear"
   ]
  },
  {
   "cell_type": "code",
   "execution_count": 110,
   "metadata": {},
   "outputs": [
    {
     "data": {
      "text/plain": [
       "array([[ 28.,  64.],\n",
       "       [ 67., 181.]])"
      ]
     },
     "execution_count": 110,
     "metadata": {},
     "output_type": "execute_result"
    },
    {
     "data": {
      "text/plain": [
       "array([[ 28.,  64.],\n",
       "       [ 67., 181.]])"
      ]
     },
     "execution_count": 110,
     "metadata": {},
     "output_type": "execute_result"
    },
    {
     "data": {
      "text/plain": [
       "array([ 6., 15.])"
      ]
     },
     "execution_count": 110,
     "metadata": {},
     "output_type": "execute_result"
    },
    {
     "data": {
      "text/plain": [
       "array([ 6., 15.])"
      ]
     },
     "execution_count": 110,
     "metadata": {},
     "output_type": "execute_result"
    }
   ],
   "source": [
    "x = np.array([[1.,2.,3.],[4.,5.,6.]])\n",
    "y = np.array([[6.,23.],[-1,7],[8,9]])\n",
    "\n",
    "x.dot(y) #produto x e y\n",
    "np.dot(x,y) #produto x e y\n",
    "np.dot(x, np.ones(3))\n",
    "x @ np.ones(3) #o operador @ realiza uma multiplicação"
   ]
  },
  {
   "cell_type": "code",
   "execution_count": 111,
   "metadata": {},
   "outputs": [
    {
     "data": {
      "text/plain": [
       "array([[ 1922.03057052,  4765.42020276,  2812.22855718, -2579.53567653,\n",
       "         2622.8068791 ],\n",
       "       [ 4765.42020276, 11819.35296273,  6974.37607738, -6397.23861317,\n",
       "         6505.24448822],\n",
       "       [ 2812.22855718,  6974.37607738,  4115.96633778, -3775.03014511,\n",
       "         3838.81651302],\n",
       "       [-2579.53567653, -6397.23861317, -3775.03014511,  3462.92763974,\n",
       "        -3521.17315   ],\n",
       "       [ 2622.8068791 ,  6505.24448822,  3838.81651302, -3521.17315   ,\n",
       "         3580.99741001]])"
      ]
     },
     "execution_count": 111,
     "metadata": {},
     "output_type": "execute_result"
    },
    {
     "data": {
      "text/plain": [
       "array([[ 1.00000000e+00,  3.63400194e-13, -1.57700794e-13,\n",
       "         5.77752166e-13, -2.58227895e-13],\n",
       "       [-7.09195838e-15,  1.00000000e+00, -5.75807870e-13,\n",
       "        -1.17461838e-12,  4.95604941e-13],\n",
       "       [-1.23575194e-12, -2.65651110e-12,  1.00000000e+00,\n",
       "         2.42764086e-12, -1.36862074e-12],\n",
       "       [-1.79707160e-12,  1.96486574e-13, -2.73879266e-12,\n",
       "         1.00000000e+00,  5.10074771e-13],\n",
       "       [-8.11036479e-13,  1.11891390e-12, -1.21001734e-12,\n",
       "         2.47283506e-12,  1.00000000e+00]])"
      ]
     },
     "execution_count": 111,
     "metadata": {},
     "output_type": "execute_result"
    }
   ],
   "source": [
    "X = np.random.randn(5,5)\n",
    "mat = X.T.dot(X)\n",
    "\n",
    "inv(mat) #inversa\n",
    "mat.dot(inv(mat))\n",
    "\n",
    "q, r = qr(mat) #decomposição QR"
   ]
  },
  {
   "cell_type": "markdown",
   "metadata": {},
   "source": [
    "## Pseudoaleatórios"
   ]
  },
  {
   "cell_type": "code",
   "execution_count": 112,
   "metadata": {},
   "outputs": [
    {
     "data": {
      "text/plain": [
       "array([[ 0.68519002,  2.33374575,  1.06616472,  0.08603028],\n",
       "       [-0.18981147,  1.47805834,  0.88226635, -0.99116747],\n",
       "       [ 0.17601328, -0.42022194,  0.30826266,  1.21680974],\n",
       "       [-0.85569704, -0.71911397, -0.28582211, -0.60905093]])"
      ]
     },
     "execution_count": 112,
     "metadata": {},
     "output_type": "execute_result"
    }
   ],
   "source": [
    "#módulo np.random\n",
    "\n",
    "samples = np.random.normal(size = (4,4))\n",
    "samples"
   ]
  }
 ],
 "metadata": {
  "kernelspec": {
   "display_name": "Python 3",
   "language": "python",
   "name": "python3"
  },
  "language_info": {
   "codemirror_mode": {
    "name": "ipython",
    "version": 3
   },
   "file_extension": ".py",
   "mimetype": "text/x-python",
   "name": "python",
   "nbconvert_exporter": "python",
   "pygments_lexer": "ipython3",
   "version": "3.8.5"
  }
 },
 "nbformat": 4,
 "nbformat_minor": 4
}
