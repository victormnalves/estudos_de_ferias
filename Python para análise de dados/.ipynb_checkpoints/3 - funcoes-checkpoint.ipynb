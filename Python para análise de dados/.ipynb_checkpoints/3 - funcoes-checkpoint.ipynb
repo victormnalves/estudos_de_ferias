{
 "cells": [
  {
   "cell_type": "markdown",
   "metadata": {},
   "source": [
    "## FUNÇÕES"
   ]
  },
  {
   "cell_type": "code",
   "execution_count": 1,
   "metadata": {},
   "outputs": [],
   "source": [
    "from IPython.core.interactiveshell import InteractiveShell\n",
    "InteractiveShell.ast_node_interactivity = \"all\""
   ]
  },
  {
   "cell_type": "code",
   "execution_count": 9,
   "metadata": {},
   "outputs": [
    {
     "data": {
      "text/plain": [
       "0.06363636363636363"
      ]
     },
     "execution_count": 9,
     "metadata": {},
     "output_type": "execute_result"
    },
    {
     "data": {
      "text/plain": [
       "59.5"
      ]
     },
     "execution_count": 9,
     "metadata": {},
     "output_type": "execute_result"
    },
    {
     "data": {
      "text/plain": [
       "15.0"
      ]
     },
     "execution_count": 9,
     "metadata": {},
     "output_type": "execute_result"
    }
   ],
   "source": [
    "#criando uma função\n",
    "def my_function(x, y, z = 1.5): #uma função pode ter argumentos variáveis ou pré definidos\n",
    "    if z > 1:\n",
    "        return z * (x + y)\n",
    "    else:\n",
    "        return z / (x + y)\n",
    "\n",
    "#chamando sua função\n",
    "my_function(x=5, y=6, z=0.7) #podemos chamar com os argumentos explicitamente\n",
    "my_function(10, 7,3.5) #podemos chamar com os argumentos implicitamente\n",
    "my_function(2,8) #não precisamos definir todos os argumentos"
   ]
  },
  {
   "cell_type": "code",
   "execution_count": 3,
   "metadata": {},
   "outputs": [],
   "source": [
    "#globais e locais\n",
    "\n",
    "def func1():\n",
    "    a = [] #local\n",
    "    for i in range(5):\n",
    "        a.append(i)\n",
    "\n",
    "a = [] #global\n",
    "def func2():\n",
    "    for i in range(5):\n",
    "        a.append(i)\n",
    "\n",
    "#global na forma abrangente\n",
    "comp_list = []\n",
    "def func3(n):\n",
    "    comp_list = [i for i in range(n)]\n",
    "    return comp_list\n",
    "\n",
    "#forma não recomendada de trabalho com globais\n",
    "def bind_variable():\n",
    "    global a\n",
    "    a = []\n",
    "    for i in range(5):\n",
    "        a.append(i)"
   ]
  },
  {
   "cell_type": "code",
   "execution_count": 4,
   "metadata": {},
   "outputs": [
    {
     "data": {
      "text/plain": [
       "(5, 6, 7)"
      ]
     },
     "execution_count": 4,
     "metadata": {},
     "output_type": "execute_result"
    },
    {
     "data": {
      "text/plain": [
       "{'a': 5, 'b': 6, 'c': 7}"
      ]
     },
     "execution_count": 4,
     "metadata": {},
     "output_type": "execute_result"
    }
   ],
   "source": [
    "#retornando uma tupla\n",
    "def f():\n",
    "    a = 5\n",
    "    b = 6\n",
    "    c = 7 \n",
    "    return a, b, c\n",
    "\n",
    "a, b, c = f() #isso é um tupla\n",
    "\n",
    "return_value = f() #isso também é uma tupla\n",
    "return_value\n",
    "\n",
    "#retornando um dicionário\n",
    "def g():\n",
    "    a = 5\n",
    "    b = 6\n",
    "    c = 7 \n",
    "    return {'a': a, 'b': b, 'c': c}\n",
    "g()"
   ]
  },
  {
   "cell_type": "code",
   "execution_count": 5,
   "metadata": {},
   "outputs": [
    {
     "data": {
      "text/plain": [
       "['Alabama',\n",
       " 'Georgia',\n",
       " 'Georgia',\n",
       " 'Georgia',\n",
       " 'Florida',\n",
       " 'South Carolina',\n",
       " 'West Virginia']"
      ]
     },
     "execution_count": 5,
     "metadata": {},
     "output_type": "execute_result"
    }
   ],
   "source": [
    "#exemplo limpeza\n",
    "states = ['Alabama', 'Georgia!', 'Georgia', 'georgia', 'FlOrida', 'south carolina##', 'West virginia?']\n",
    "\n",
    "import re\n",
    "\n",
    "def clean_strings(strings):\n",
    "    result = []\n",
    "    for value in strings:\n",
    "        value = value.strip()\n",
    "        value = re.sub('[!#?]', '', value)\n",
    "        value = value.title()\n",
    "        result.append(value)\n",
    "    return result\n",
    "clean_strings(states)"
   ]
  },
  {
   "cell_type": "code",
   "execution_count": 6,
   "metadata": {},
   "outputs": [
    {
     "data": {
      "text/plain": [
       "[8, 0, 2, 10, 12]"
      ]
     },
     "execution_count": 6,
     "metadata": {},
     "output_type": "execute_result"
    }
   ],
   "source": [
    "#funções lambda\n",
    "ints = [4,0,1,5,6]\n",
    "\n",
    "def short_function(x):\n",
    "    return x * 2\n",
    "equiv_anon = lambda x: x*2\n",
    "\n",
    "#podemos escrevê-las como\n",
    "def apply_to_function(lista, f):\n",
    "    return[f(x) for x in lista]\n",
    "\n",
    "apply_to_function(ints, lambda x: x*2 )"
   ]
  },
  {
   "cell_type": "code",
   "execution_count": 7,
   "metadata": {},
   "outputs": [
    {
     "name": "stdout",
     "output_type": "stream",
     "text": [
      "a\n",
      "b\n",
      "c\n",
      "Gerando números de 1 até 100\n",
      "1 4 9 16 25 36 49 64 81 100 0 1 4 9 16 25 36 49 64 81 100 121 144 169 196 225 256 289 324 361 400 441 484 529 576 625 676 729 784 841 900 961 1024 1089 1156 1225 1296 1369 1444 1521 1600 1681 1764 1849 1936 2025 2116 2209 2304 2401 2500 2601 2704 2809 2916 3025 3136 3249 3364 3481 3600 3721 3844 3969 4096 4225 4356 4489 4624 4761 4900 5041 5184 5329 5476 5625 5776 5929 6084 6241 6400 6561 6724 6889 7056 7225 7396 7569 7744 7921 8100 8281 8464 8649 8836 9025 9216 9409 9604 9801 "
     ]
    }
   ],
   "source": [
    "#ITERADOR E GERADOR\n",
    "\n",
    "#exemplo de iterador\n",
    "some_dict = {'a':1, 'b': 2, 'c': 3}\n",
    "for key in some_dict:\n",
    "    print(key)\n",
    "\n",
    "#criando um gerador\n",
    "def squares(n=10):\n",
    "    print('Gerando números de 1 até {}'.format(n**2))\n",
    "    for i in range(1,n+1):\n",
    "        yield i ** 2\n",
    "\n",
    "gen = squares()\n",
    "\n",
    "#printando todos os elementos do gerador\n",
    "for x in gen:\n",
    "    print(x, end = ' ')\n",
    "    \n",
    "#geradores mais concisos\n",
    "gerador = (x**2 for x in range(100))\n",
    "\n",
    "for x in gerador:\n",
    "    print(x, end = ' ')"
   ]
  },
  {
   "cell_type": "code",
   "execution_count": 8,
   "metadata": {},
   "outputs": [
    {
     "name": "stdout",
     "output_type": "stream",
     "text": [
      "A ['Alan', 'Adam']\n",
      "W ['Wes', 'Will']\n",
      "A ['Albert']\n",
      "S ['Steven']\n"
     ]
    }
   ],
   "source": [
    "#módulo itertools (biblioteca de geradores)\n",
    "\n",
    "import itertools\n",
    "\n",
    "first = lambda x: x[0] #função para selecionar primeiro elemento de um vetor (lembre que uma palavra é um vetor de strings)\n",
    "\n",
    "names = ['Alan', 'Adam', 'Wes', 'Will', 'Albert', 'Steven']\n",
    "\n",
    "for letter, names in itertools.groupby(names, first): #cria tupla letter, names e seleciona como contador a primeira letra\n",
    "    print(letter, list(names)) #printa o iterador e a lista agrupando-a pela letra"
   ]
  }
 ],
 "metadata": {
  "kernelspec": {
   "display_name": "Python 3",
   "language": "python",
   "name": "python3"
  },
  "language_info": {
   "codemirror_mode": {
    "name": "ipython",
    "version": 3
   },
   "file_extension": ".py",
   "mimetype": "text/x-python",
   "name": "python",
   "nbconvert_exporter": "python",
   "pygments_lexer": "ipython3",
   "version": "3.8.5"
  }
 },
 "nbformat": 4,
 "nbformat_minor": 4
}
