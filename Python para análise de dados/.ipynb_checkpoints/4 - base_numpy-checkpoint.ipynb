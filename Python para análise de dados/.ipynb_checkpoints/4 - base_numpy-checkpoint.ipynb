{
 "cells": [
  {
   "cell_type": "markdown",
   "metadata": {},
   "source": [
    "## NDARRAYS"
   ]
  },
  {
   "cell_type": "code",
   "execution_count": 1,
   "metadata": {},
   "outputs": [],
   "source": [
    "import numpy as np #por convenção usa-se np\n",
    "import matplotlib.pyplot as plt #será explicado futuramente, mas por convenção usa-se plt\n",
    "from numpy.linalg import inv, qr #biblioteca algebra linear\n",
    "from IPython.core.interactiveshell import InteractiveShell\n",
    "InteractiveShell.ast_node_interactivity = \"all\"\n",
    "\n",
    "#arrays são mais eficientes que listas puras\n",
    "my_array = np.arange(100000)\n",
    "my_list = list(range(100000))"
   ]
  },
  {
   "cell_type": "code",
   "execution_count": 2,
   "metadata": {},
   "outputs": [
    {
     "data": {
      "text/plain": [
       "array([[-0.75411043, -0.99351828, -0.02713779],\n",
       "       [ 2.24854832,  1.43974141,  0.68890473]])"
      ]
     },
     "execution_count": 2,
     "metadata": {},
     "output_type": "execute_result"
    },
    {
     "data": {
      "text/plain": [
       "array([[-7.5411043 , -9.93518276, -0.27137793],\n",
       "       [22.48548322, 14.39741406,  6.88904733]])"
      ]
     },
     "execution_count": 2,
     "metadata": {},
     "output_type": "execute_result"
    },
    {
     "data": {
      "text/plain": [
       "array([[-1.50822086, -1.98703655, -0.05427559],\n",
       "       [ 4.49709664,  2.87948281,  1.37780947]])"
      ]
     },
     "execution_count": 2,
     "metadata": {},
     "output_type": "execute_result"
    },
    {
     "data": {
      "text/plain": [
       "(2, 3)"
      ]
     },
     "execution_count": 2,
     "metadata": {},
     "output_type": "execute_result"
    },
    {
     "ename": "AttributeError",
     "evalue": "'numpy.ndarray' object has no attribute 'type'",
     "output_type": "error",
     "traceback": [
      "\u001b[1;31m---------------------------------------------------------------------------\u001b[0m",
      "\u001b[1;31mAttributeError\u001b[0m                            Traceback (most recent call last)",
      "\u001b[1;32m<ipython-input-2-448fcefe49a7>\u001b[0m in \u001b[0;36m<module>\u001b[1;34m\u001b[0m\n\u001b[0;32m      7\u001b[0m \u001b[1;33m\u001b[0m\u001b[0m\n\u001b[0;32m      8\u001b[0m \u001b[0mdata\u001b[0m\u001b[1;33m.\u001b[0m\u001b[0mshape\u001b[0m \u001b[1;31m#retorna a ordem\u001b[0m\u001b[1;33m\u001b[0m\u001b[1;33m\u001b[0m\u001b[0m\n\u001b[1;32m----> 9\u001b[1;33m \u001b[0mdata\u001b[0m\u001b[1;33m.\u001b[0m\u001b[0mtype\u001b[0m \u001b[1;31m#retorna o tipo\u001b[0m\u001b[1;33m\u001b[0m\u001b[1;33m\u001b[0m\u001b[0m\n\u001b[0m",
      "\u001b[1;31mAttributeError\u001b[0m: 'numpy.ndarray' object has no attribute 'type'"
     ]
    }
   ],
   "source": [
    "#exemplo de manipulação com array\n",
    "data = np.random.randn(2,3) #array aleatorio 2 por 3\n",
    "data\n",
    "\n",
    "data * 10\n",
    "data + data\n",
    "\n",
    "data.shape #retorna a ordem\n",
    "data.type #retorna o tipo"
   ]
  },
  {
   "cell_type": "code",
   "execution_count": 22,
   "metadata": {},
   "outputs": [
    {
     "data": {
      "text/plain": [
       "array([6. , 7.5, 8. , 0. , 1. ])"
      ]
     },
     "execution_count": 22,
     "metadata": {},
     "output_type": "execute_result"
    },
    {
     "data": {
      "text/plain": [
       "array([[1, 2, 3, 4],\n",
       "       [5, 6, 7, 8]])"
      ]
     },
     "execution_count": 22,
     "metadata": {},
     "output_type": "execute_result"
    },
    {
     "data": {
      "text/plain": [
       "2"
      ]
     },
     "execution_count": 22,
     "metadata": {},
     "output_type": "execute_result"
    },
    {
     "data": {
      "text/plain": [
       "(2, 4)"
      ]
     },
     "execution_count": 22,
     "metadata": {},
     "output_type": "execute_result"
    }
   ],
   "source": [
    "#exemplo de uma lista para vetor unidimensional\n",
    "data1 = [6, 7.5, 8, 0, 1]\n",
    "array1 = np.array(data1)\n",
    "array1\n",
    "\n",
    "#lista de listas para vetor bidmensional\n",
    "data2 = [[1,2,3,4],[5,6,7,8]] #uma lista de listas\n",
    "array2 = np.array(data2)\n",
    "array2\n",
    "\n",
    "array2.ndim #retorna a dimensão\n",
    "array2.shape #retorna a ordem"
   ]
  },
  {
   "cell_type": "code",
   "execution_count": 4,
   "metadata": {},
   "outputs": [
    {
     "data": {
      "text/plain": [
       "array([0., 0., 0., 0., 0., 0., 0., 0., 0., 0.])"
      ]
     },
     "execution_count": 4,
     "metadata": {},
     "output_type": "execute_result"
    },
    {
     "data": {
      "text/plain": [
       "array([[0., 0., 0., 0., 0., 0.],\n",
       "       [0., 0., 0., 0., 0., 0.],\n",
       "       [0., 0., 0., 0., 0., 0.]])"
      ]
     },
     "execution_count": 4,
     "metadata": {},
     "output_type": "execute_result"
    },
    {
     "data": {
      "text/plain": [
       "array([[[1.34320196e-311, 2.47032823e-322],\n",
       "        [0.00000000e+000, 0.00000000e+000],\n",
       "        [7.56587583e-307, 3.69776220e-062]],\n",
       "\n",
       "       [[6.25766624e-091, 1.38240130e-047],\n",
       "        [5.41471658e-067, 7.67240137e-042],\n",
       "        [3.99910963e+252, 5.80391020e+170]]])"
      ]
     },
     "execution_count": 4,
     "metadata": {},
     "output_type": "execute_result"
    }
   ],
   "source": [
    "#funções para criação de arrays\n",
    "\n",
    "np.zeros(10) #array com 10 vezes o número 0\n",
    "np.zeros((3,6)) #array 3 por 6 com o número 0. Observe a preseça de uma tupla no argumento.\n",
    "np.empty((2,3,2)) #array \"vazio\" 2 por 3 repetido 2 vezes."
   ]
  },
  {
   "cell_type": "code",
   "execution_count": 23,
   "metadata": {},
   "outputs": [
    {
     "data": {
      "text/plain": [
       "dtype('float64')"
      ]
     },
     "execution_count": 23,
     "metadata": {},
     "output_type": "execute_result"
    },
    {
     "data": {
      "text/plain": [
       "dtype('int32')"
      ]
     },
     "execution_count": 23,
     "metadata": {},
     "output_type": "execute_result"
    },
    {
     "data": {
      "text/plain": [
       "dtype('int32')"
      ]
     },
     "execution_count": 23,
     "metadata": {},
     "output_type": "execute_result"
    },
    {
     "data": {
      "text/plain": [
       "dtype('float64')"
      ]
     },
     "execution_count": 23,
     "metadata": {},
     "output_type": "execute_result"
    },
    {
     "data": {
      "text/plain": [
       "array([ 3, -2,  0, 12, 10])"
      ]
     },
     "execution_count": 23,
     "metadata": {},
     "output_type": "execute_result"
    },
    {
     "data": {
      "text/plain": [
       "array([ 3.7, -2.6,  0.5, 12.6, 10.1])"
      ]
     },
     "execution_count": 23,
     "metadata": {},
     "output_type": "execute_result"
    },
    {
     "data": {
      "text/plain": [
       "array([ 1.25, -9.6 , 42.  ])"
      ]
     },
     "execution_count": 23,
     "metadata": {},
     "output_type": "execute_result"
    },
    {
     "data": {
      "text/plain": [
       "array([b'1.25', b'-9.6', b'42'], dtype='|S4')"
      ]
     },
     "execution_count": 23,
     "metadata": {},
     "output_type": "execute_result"
    },
    {
     "ename": "TypeError",
     "evalue": "Cannot construct a dtype from an array",
     "output_type": "error",
     "traceback": [
      "\u001b[1;31m---------------------------------------------------------------------------\u001b[0m",
      "\u001b[1;31mTypeError\u001b[0m                                 Traceback (most recent call last)",
      "\u001b[1;32m<ipython-input-23-1a0c5e642c3b>\u001b[0m in \u001b[0;36m<module>\u001b[1;34m\u001b[0m\n\u001b[0;32m     24\u001b[0m \u001b[0mint_array\u001b[0m \u001b[1;33m=\u001b[0m \u001b[0mnp\u001b[0m\u001b[1;33m.\u001b[0m\u001b[0marange\u001b[0m\u001b[1;33m(\u001b[0m\u001b[1;36m10\u001b[0m\u001b[1;33m)\u001b[0m\u001b[1;33m\u001b[0m\u001b[1;33m\u001b[0m\u001b[0m\n\u001b[0;32m     25\u001b[0m \u001b[0mcaliber\u001b[0m \u001b[1;33m=\u001b[0m \u001b[0mnp\u001b[0m\u001b[1;33m.\u001b[0m\u001b[0marray\u001b[0m\u001b[1;33m(\u001b[0m\u001b[1;33m[\u001b[0m\u001b[1;36m.22\u001b[0m\u001b[1;33m,\u001b[0m\u001b[1;36m.270\u001b[0m\u001b[1;33m,\u001b[0m\u001b[1;36m.357\u001b[0m\u001b[1;33m,\u001b[0m\u001b[1;36m.380\u001b[0m\u001b[1;33m,\u001b[0m\u001b[1;36m.44\u001b[0m\u001b[1;33m,\u001b[0m\u001b[1;36m.50\u001b[0m\u001b[1;33m]\u001b[0m\u001b[1;33m,\u001b[0m \u001b[0mdtype\u001b[0m \u001b[1;33m=\u001b[0m \u001b[0mnp\u001b[0m\u001b[1;33m.\u001b[0m\u001b[0mfloat64\u001b[0m\u001b[1;33m)\u001b[0m\u001b[1;33m\u001b[0m\u001b[1;33m\u001b[0m\u001b[0m\n\u001b[1;32m---> 26\u001b[1;33m \u001b[0mint_array\u001b[0m\u001b[1;33m.\u001b[0m\u001b[0mastype\u001b[0m\u001b[1;33m(\u001b[0m\u001b[0mcaliber\u001b[0m\u001b[1;33m)\u001b[0m\u001b[1;33m\u001b[0m\u001b[1;33m\u001b[0m\u001b[0m\n\u001b[0m\u001b[0;32m     27\u001b[0m \u001b[0mint_array\u001b[0m\u001b[1;33m\u001b[0m\u001b[1;33m\u001b[0m\u001b[0m\n",
      "\u001b[1;31mTypeError\u001b[0m: Cannot construct a dtype from an array"
     ]
    }
   ],
   "source": [
    "#tipo de dado / dtype\n",
    "array3 = np.array([1,2,3], dtype = np.float64)\n",
    "array4 = np.array([1,2,3], dtype = np.int32)\n",
    "\n",
    "array3.dtype\n",
    "array4.dtype\n",
    "\n",
    "#transformando o dado de um array\n",
    "arr = np.array([1,2,3,4,5])\n",
    "arr.dtype\n",
    "\n",
    "float_arr = arr.astype(np.float64)\n",
    "float_arr.dtype\n",
    "\n",
    "float_arr2 = np.array([3.7,-2.6,0.5,12.6,10.1])\n",
    "float_arr2.astype(np.int32)\n",
    "float_arr2\n",
    "\n",
    "numeric_string = np.array(['1.25','-9.6','42'], dtype=np.string_)\n",
    "numeric_string.astype(np.float64)\n",
    "numeric_string\n",
    "\n",
    "#podemos passar um vetor como o tipo de dado para outro vetor, assim o np assumirá o tipo de dado do vetor passado\n",
    "int_array = np.arange(10)\n",
    "caliber = np.array([.22,.270,.357,.380,.44,.50], dtype = np.float64)\n",
    "int_array.astype(caliber)\n",
    "int_array"
   ]
  },
  {
   "cell_type": "code",
   "execution_count": 6,
   "metadata": {},
   "outputs": [
    {
     "data": {
      "text/plain": [
       "array([[1., 2., 3.],\n",
       "       [4., 5., 6.]])"
      ]
     },
     "execution_count": 6,
     "metadata": {},
     "output_type": "execute_result"
    },
    {
     "data": {
      "text/plain": [
       "array([[ 1.,  4.,  9.],\n",
       "       [16., 25., 36.]])"
      ]
     },
     "execution_count": 6,
     "metadata": {},
     "output_type": "execute_result"
    },
    {
     "data": {
      "text/plain": [
       "array([[0., 0., 0.],\n",
       "       [0., 0., 0.]])"
      ]
     },
     "execution_count": 6,
     "metadata": {},
     "output_type": "execute_result"
    },
    {
     "data": {
      "text/plain": [
       "array([[1.        , 0.5       , 0.33333333],\n",
       "       [0.25      , 0.2       , 0.16666667]])"
      ]
     },
     "execution_count": 6,
     "metadata": {},
     "output_type": "execute_result"
    },
    {
     "data": {
      "text/plain": [
       "array([[1.        , 1.41421356, 1.73205081],\n",
       "       [2.        , 2.23606798, 2.44948974]])"
      ]
     },
     "execution_count": 6,
     "metadata": {},
     "output_type": "execute_result"
    },
    {
     "data": {
      "text/plain": [
       "array([[False,  True, False],\n",
       "       [ True, False,  True]])"
      ]
     },
     "execution_count": 6,
     "metadata": {},
     "output_type": "execute_result"
    }
   ],
   "source": [
    "#aritmética com array\n",
    "\n",
    "array5 = np.array([[1.,2.,3.],[4.,5.,6.]])\n",
    "array5\n",
    "\n",
    "array5 * array5\n",
    "array5 - array5\n",
    "1/array5\n",
    "array5 ** 0.5\n",
    "\n",
    "#conseguimos comparar vetores\n",
    "array6 = np.array([[0.,4.,1.],[7.,2.,12.]])\n",
    "array6 > array5 #retornará verdadeiro ou falso"
   ]
  },
  {
   "cell_type": "code",
   "execution_count": 7,
   "metadata": {},
   "outputs": [
    {
     "data": {
      "text/plain": [
       "5"
      ]
     },
     "execution_count": 7,
     "metadata": {},
     "output_type": "execute_result"
    },
    {
     "data": {
      "text/plain": [
       "array([5, 6, 7])"
      ]
     },
     "execution_count": 7,
     "metadata": {},
     "output_type": "execute_result"
    },
    {
     "data": {
      "text/plain": [
       "array([7, 8, 9])"
      ]
     },
     "execution_count": 7,
     "metadata": {},
     "output_type": "execute_result"
    },
    {
     "data": {
      "text/plain": [
       "3"
      ]
     },
     "execution_count": 7,
     "metadata": {},
     "output_type": "execute_result"
    },
    {
     "data": {
      "text/plain": [
       "3"
      ]
     },
     "execution_count": 7,
     "metadata": {},
     "output_type": "execute_result"
    },
    {
     "data": {
      "text/plain": [
       "array([[[ 1,  2,  3],\n",
       "        [ 4,  5,  6]],\n",
       "\n",
       "       [[ 7,  8,  9],\n",
       "        [10, 11, 12]]])"
      ]
     },
     "execution_count": 7,
     "metadata": {},
     "output_type": "execute_result"
    },
    {
     "data": {
      "text/plain": [
       "array([7, 8, 9])"
      ]
     },
     "execution_count": 7,
     "metadata": {},
     "output_type": "execute_result"
    }
   ],
   "source": [
    "#indexando e fatiando \n",
    "array7 = np.arange(10)\n",
    "array7[5] #seleciona o elemento 5 do vetor unidimensional\n",
    "array7[5:8]\n",
    "array7[5:8] = 12 #atribuição de valor\n",
    "array_slice = array7[5:8] #podemos armazenar uma fatia em uma variável\n",
    "array_slice[1] = 123 #se alterarmos este array, também alteramos o array original(array7) \n",
    "array_slice[:] = 64 #atribui um valor para todos os elementos do array\n",
    "\n",
    "#se quisermos copiar sem alterar os valores, criando realmente um novo array\n",
    "array7_copy = array7[5:8].copy\n",
    "\n",
    "#caso de multidimensional\n",
    "array8 = np.array([[1,2,3],[4,5,6],[7,8,9]])\n",
    "array8[2] #retorna a localização 2, ou seja, a última lista\n",
    "array8[0][2] #retorna o valor na linha 0 e coluna 2\n",
    "array8[0,2] #retorna o valor na linha 0 e coluna 2\n",
    "\n",
    "#o mesmo serve para grandes arrays multdimensionais\n",
    "array3d = np.array([[[1,2,3],[4,5,6]],[[7,8,9],[10,11,12]]])\n",
    "array3d\n",
    "array3d[1,0] #retorna o \"segundo\" array interno e sua primeira linha"
   ]
  },
  {
   "cell_type": "code",
   "execution_count": 8,
   "metadata": {},
   "outputs": [
    {
     "data": {
      "text/plain": [
       "array([ 0,  1,  2,  3,  4, 64, 64, 64,  8,  9])"
      ]
     },
     "execution_count": 8,
     "metadata": {},
     "output_type": "execute_result"
    },
    {
     "data": {
      "text/plain": [
       "array([ 1,  2,  3,  4, 64])"
      ]
     },
     "execution_count": 8,
     "metadata": {},
     "output_type": "execute_result"
    },
    {
     "data": {
      "text/plain": [
       "array([[1, 2, 3],\n",
       "       [4, 5, 6]])"
      ]
     },
     "execution_count": 8,
     "metadata": {},
     "output_type": "execute_result"
    },
    {
     "data": {
      "text/plain": [
       "array([[2, 3],\n",
       "       [5, 6]])"
      ]
     },
     "execution_count": 8,
     "metadata": {},
     "output_type": "execute_result"
    },
    {
     "data": {
      "text/plain": [
       "array([[1],\n",
       "       [4],\n",
       "       [7]])"
      ]
     },
     "execution_count": 8,
     "metadata": {},
     "output_type": "execute_result"
    }
   ],
   "source": [
    "#indexação com fatias\n",
    "array7\n",
    "array7[1:6] #fatiar do elemento 1 ao 6\n",
    "array8[:2] #fatiar as linhas até a linha de locação 2 (3ª)\n",
    "array8[:2,1:] # #fatiar as linhas até a linha de locação 2 (3ª) e a partir da coluna de locação 1 (2ª)\n",
    "array8[:, :1] #fatiar todas as linhas e até a segunda coluna"
   ]
  },
  {
   "cell_type": "code",
   "execution_count": 9,
   "metadata": {},
   "outputs": [
    {
     "data": {
      "text/plain": [
       "array([ True, False, False,  True, False, False, False])"
      ]
     },
     "execution_count": 9,
     "metadata": {},
     "output_type": "execute_result"
    },
    {
     "data": {
      "text/plain": [
       "array([[-0.68867608, -0.49195341,  0.64170707,  1.22238097],\n",
       "       [-0.19096143, -0.24454015,  0.44804352,  1.38210423]])"
      ]
     },
     "execution_count": 9,
     "metadata": {},
     "output_type": "execute_result"
    },
    {
     "data": {
      "text/plain": [
       "array([[0.64170707, 1.22238097],\n",
       "       [0.44804352, 1.38210423]])"
      ]
     },
     "execution_count": 9,
     "metadata": {},
     "output_type": "execute_result"
    },
    {
     "data": {
      "text/plain": [
       "array([False,  True,  True, False,  True,  True,  True])"
      ]
     },
     "execution_count": 9,
     "metadata": {},
     "output_type": "execute_result"
    },
    {
     "data": {
      "text/plain": [
       "array([[ 0.74076021, -0.39694208, -0.22241213,  0.00550393],\n",
       "       [-0.83548801, -0.34484258,  1.46209863, -0.52024487],\n",
       "       [-0.53343123,  0.49838313, -0.52751485, -0.47167083],\n",
       "       [ 0.32159553, -0.56091282, -0.26337842,  1.25524198],\n",
       "       [-0.58221875,  2.16008278, -0.42717856, -0.36481145]])"
      ]
     },
     "execution_count": 9,
     "metadata": {},
     "output_type": "execute_result"
    },
    {
     "data": {
      "text/plain": [
       "array([[ 0.74076021, -0.39694208, -0.22241213,  0.00550393],\n",
       "       [-0.83548801, -0.34484258,  1.46209863, -0.52024487],\n",
       "       [-0.53343123,  0.49838313, -0.52751485, -0.47167083],\n",
       "       [ 0.32159553, -0.56091282, -0.26337842,  1.25524198],\n",
       "       [-0.58221875,  2.16008278, -0.42717856, -0.36481145]])"
      ]
     },
     "execution_count": 9,
     "metadata": {},
     "output_type": "execute_result"
    },
    {
     "data": {
      "text/plain": [
       "array([[-0.68867608, -0.49195341,  0.64170707,  1.22238097],\n",
       "       [-0.83548801, -0.34484258,  1.46209863, -0.52024487],\n",
       "       [-0.19096143, -0.24454015,  0.44804352,  1.38210423],\n",
       "       [-0.53343123,  0.49838313, -0.52751485, -0.47167083]])"
      ]
     },
     "execution_count": 9,
     "metadata": {},
     "output_type": "execute_result"
    }
   ],
   "source": [
    "#indexação com booleanos\n",
    "names = np.array(['Bob', 'Joe', 'Will', 'Bob','Will','Joe','Joe'])\n",
    "data = np.random.randn(7,4)\n",
    "\n",
    "names == 'Bob' #retorna se os valores em names são ou não iguais a Bob\n",
    "data[names == 'Bob'] #toma os valores de index onde tem 'Bob' em names e imprime esses index em data\n",
    "\n",
    "data[names == 'Bob', 2:] #toma os valores da terceira coluna em diante que têm o mesmo index de linha que 'Bob'.\n",
    "\n",
    "names != 'Bob' #retorna se os valores são ou não diferentes de 'Bob'.\n",
    "data[~(names == 'Bob')] #retorna negando os valores indexados iguais a 'Bob'\n",
    "cond = names == 'Bob'\n",
    "data[~cond] #retorna indexando com uma variável condicionada\n",
    "mask = (names == 'Bob') | (names == 'Will') #não podemos usar o operador 'or' aqui usamos |.Para \"and\" usamos \"&\"\n",
    "data[mask]\n",
    "\n",
    "data[data < 0] = 0 #os index onde há valores negativos receberão 0\n",
    "data[names != 'Joe'] = 7 #os index onde há valores diferentes dos index que 'Joe' receberão 7"
   ]
  },
  {
   "cell_type": "code",
   "execution_count": 10,
   "metadata": {},
   "outputs": [
    {
     "data": {
      "text/plain": [
       "array([[0., 0., 0., 0.],\n",
       "       [1., 1., 1., 1.],\n",
       "       [2., 2., 2., 2.],\n",
       "       [3., 3., 3., 3.],\n",
       "       [4., 4., 4., 4.],\n",
       "       [5., 5., 5., 5.],\n",
       "       [6., 6., 6., 6.],\n",
       "       [7., 7., 7., 7.]])"
      ]
     },
     "execution_count": 10,
     "metadata": {},
     "output_type": "execute_result"
    },
    {
     "data": {
      "text/plain": [
       "array([[4., 4., 4., 4.],\n",
       "       [3., 3., 3., 3.],\n",
       "       [0., 0., 0., 0.],\n",
       "       [6., 6., 6., 6.]])"
      ]
     },
     "execution_count": 10,
     "metadata": {},
     "output_type": "execute_result"
    },
    {
     "data": {
      "text/plain": [
       "array([[5., 5., 5., 5.],\n",
       "       [3., 3., 3., 3.],\n",
       "       [7., 7., 7., 7.]])"
      ]
     },
     "execution_count": 10,
     "metadata": {},
     "output_type": "execute_result"
    },
    {
     "data": {
      "text/plain": [
       "array([[ 0,  1,  2,  3],\n",
       "       [ 4,  5,  6,  7],\n",
       "       [ 8,  9, 10, 11],\n",
       "       [12, 13, 14, 15],\n",
       "       [16, 17, 18, 19],\n",
       "       [20, 21, 22, 23],\n",
       "       [24, 25, 26, 27],\n",
       "       [28, 29, 30, 31]])"
      ]
     },
     "execution_count": 10,
     "metadata": {},
     "output_type": "execute_result"
    },
    {
     "data": {
      "text/plain": [
       "array([[ 4,  7,  5,  6],\n",
       "       [20, 23, 21, 22],\n",
       "       [28, 31, 29, 30],\n",
       "       [ 8, 11,  9, 10]])"
      ]
     },
     "execution_count": 10,
     "metadata": {},
     "output_type": "execute_result"
    }
   ],
   "source": [
    "#indexação sofisticada (indexar com inteiros)\n",
    "array9 = np.empty((8,4))\n",
    "\n",
    "for i in range(8):\n",
    "    array9[i] = i\n",
    "array9\n",
    "\n",
    "array9[[4,3,0,6]] #passamos uma lista para printarmos as linhas numa desejada ordem\n",
    "array9[[-3,-5,7]]\n",
    "\n",
    "array9 = np.arange(32).reshape((8,4))\n",
    "array9\n",
    "array9[[1,5,7,2]][:,[0,3,1,2]] #para indexarmos vários index devemos passar eles separados."
   ]
  },
  {
   "cell_type": "code",
   "execution_count": 11,
   "metadata": {},
   "outputs": [
    {
     "data": {
      "text/plain": [
       "array([[ 0,  5, 10],\n",
       "       [ 1,  6, 11],\n",
       "       [ 2,  7, 12],\n",
       "       [ 3,  8, 13],\n",
       "       [ 4,  9, 14]])"
      ]
     },
     "execution_count": 11,
     "metadata": {},
     "output_type": "execute_result"
    },
    {
     "data": {
      "text/plain": [
       "array([[10.11643194,  0.61764466,  4.25683993],\n",
       "       [ 0.61764466,  2.97051635,  1.63606387],\n",
       "       [ 4.25683993,  1.63606387, 13.65366396]])"
      ]
     },
     "execution_count": 11,
     "metadata": {},
     "output_type": "execute_result"
    },
    {
     "data": {
      "text/plain": [
       "array([[[ 0,  1,  2,  3],\n",
       "        [ 8,  9, 10, 11]],\n",
       "\n",
       "       [[ 4,  5,  6,  7],\n",
       "        [12, 13, 14, 15]]])"
      ]
     },
     "execution_count": 11,
     "metadata": {},
     "output_type": "execute_result"
    },
    {
     "data": {
      "text/plain": [
       "array([[[ 0,  4],\n",
       "        [ 1,  5],\n",
       "        [ 2,  6],\n",
       "        [ 3,  7]],\n",
       "\n",
       "       [[ 8, 12],\n",
       "        [ 9, 13],\n",
       "        [10, 14],\n",
       "        [11, 15]]])"
      ]
     },
     "execution_count": 11,
     "metadata": {},
     "output_type": "execute_result"
    }
   ],
   "source": [
    "#transposição matricial \n",
    "array10 = np.arange(15).reshape((3,5))\n",
    "array10.T #transpões a matriz\n",
    "\n",
    "#produto de matrizes\n",
    "array10 = np.random.randn(6,3) \n",
    "np.dot(array10.T, array10) #calcula o produto\n",
    "\n",
    "#transposição no caso de grandes dimensões\n",
    "array10 = np.arange(16).reshape((2,2,4))\n",
    "array10.transpose((1,0,2)) #esse método coloca o segundo eixo em primeiro, o primeiro em segundo e o último se mantem.\n",
    "\n",
    "#método swapaxes\n",
    "array10.swapaxes(1,2) #transpõe os dados e os dispõe de acordo à ordem argumentada"
   ]
  },
  {
   "cell_type": "markdown",
   "metadata": {},
   "source": [
    "## Funções aplicavéis em todos elementos de um array"
   ]
  },
  {
   "cell_type": "code",
   "execution_count": 12,
   "metadata": {},
   "outputs": [
    {
     "data": {
      "text/plain": [
       "array([0.        , 1.        , 1.41421356, 1.73205081, 2.        ,\n",
       "       2.23606798, 2.44948974, 2.64575131, 2.82842712, 3.        ])"
      ]
     },
     "execution_count": 12,
     "metadata": {},
     "output_type": "execute_result"
    },
    {
     "data": {
      "text/plain": [
       "array([1.00000000e+00, 2.71828183e+00, 7.38905610e+00, 2.00855369e+01,\n",
       "       5.45981500e+01, 1.48413159e+02, 4.03428793e+02, 1.09663316e+03,\n",
       "       2.98095799e+03, 8.10308393e+03])"
      ]
     },
     "execution_count": 12,
     "metadata": {},
     "output_type": "execute_result"
    },
    {
     "data": {
      "text/plain": [
       "array([0.26851609, 0.12154668, 0.19563532, 0.36717458, 1.25572929,\n",
       "       0.83511228, 0.80765653, 1.20912069])"
      ]
     },
     "execution_count": 12,
     "metadata": {},
     "output_type": "execute_result"
    }
   ],
   "source": [
    "#funções uteis\n",
    "array = np.arange(10)\n",
    "\n",
    "np.sqrt(array) #raiz quadrada de todos os elementos\n",
    "np.exp(array) #exponencial de todos os elementos\n",
    "\n",
    "x = np.random.randn(8)\n",
    "y = np.random.rand(8)\n",
    "np.maximum(x, y) #máximo entre x e y\n",
    "\n",
    "#unfuns devolvem vários vetores:\n",
    "\n",
    "array = np.random.rand(7)*5\n",
    "remain, whole = np.modf(array) #coloca a parte inteira e decimal do número em dois vetores"
   ]
  },
  {
   "cell_type": "markdown",
   "metadata": {},
   "source": [
    "## Programação orientada a arrays"
   ]
  },
  {
   "cell_type": "code",
   "execution_count": 13,
   "metadata": {},
   "outputs": [
    {
     "data": {
      "text/plain": [
       "<matplotlib.image.AxesImage at 0x27881ad87c0>"
      ]
     },
     "execution_count": 13,
     "metadata": {},
     "output_type": "execute_result"
    },
    {
     "data": {
      "text/plain": [
       "<matplotlib.colorbar.Colorbar at 0x27881b19100>"
      ]
     },
     "execution_count": 13,
     "metadata": {},
     "output_type": "execute_result"
    },
    {
     "data": {
      "text/plain": [
       "Text(0.5, 1.0, 'Image plot of $\\\\sqrt{x^2+y^2} for a grid of values')"
      ]
     },
     "execution_count": 13,
     "metadata": {},
     "output_type": "execute_result"
    },
    {
     "data": {
      "image/png": "[encoded data removed]",
      "text/plain": [
       "<Figure size 432x288 with 2 Axes>"
      ]
     },
     "metadata": {
      "needs_background": "light"
     },
     "output_type": "display_data"
    }
   ],
   "source": [
    "#orientando arrays\n",
    "\n",
    "points = np.arange(-5, 5, 0.01) #pontos no intervalo [-5,5] ao passo 0.01\n",
    "\n",
    "xs,ys = np.meshgrid(points, points) #criando um grid retangular com x = points e y = points\n",
    "z = np.sqrt(xs ** 2, ys ** 2)\n",
    "\n",
    "plt.imshow(z, cmap=plt.cm.gray); plt.colorbar()\n",
    "plt.title(\"Image plot of $\\sqrt{x^2+y^2} for a grid of values\")"
   ]
  },
  {
   "cell_type": "code",
   "execution_count": 14,
   "metadata": {},
   "outputs": [
    {
     "data": {
      "text/plain": [
       "array([[-2, -2, -2, -2],\n",
       "       [-2,  2,  2,  2],\n",
       "       [-2,  2, -2,  2],\n",
       "       [ 2, -2,  2, -2]])"
      ]
     },
     "execution_count": 14,
     "metadata": {},
     "output_type": "execute_result"
    },
    {
     "data": {
      "text/plain": [
       "array([[-0.14085215, -0.15678697, -0.29992136, -0.2935437 ],\n",
       "       [-0.4584591 ,  2.        ,  2.        ,  2.        ],\n",
       "       [-0.11232029,  2.        , -0.03686591,  2.        ],\n",
       "       [ 2.        , -0.24208576,  2.        , -0.4686248 ]])"
      ]
     },
     "execution_count": 14,
     "metadata": {},
     "output_type": "execute_result"
    }
   ],
   "source": [
    "#lógica condicional como arryas\n",
    "xarr = np.array([1.1,1.2,1.3,1.4,1.5])\n",
    "yarr = np .array([2.1,2.2,2.3,2.4,2.5])\n",
    "cond = np.array([True, False, True, True, False])\n",
    "\n",
    "#utilizando condicional if em list comprehension para testarmos, mas não é rápido!!!!\n",
    "result = [(x if c else y)\n",
    "          for x, y, c in zip(xarr, yarr, cond)]\n",
    "#utilizando a função np.where(), bem mais rápida!!!\n",
    "result = np.where(cond, xarr, yarr) #se cond xarr senão yarr. Os últimos argumentos não precisam ser vetores!\n",
    "\n",
    "arr = np.random.randn(4,4)\n",
    "np.where(arr > 0, 2, -2) #inserindo 2 onde são positivos e -2 onde são negativos\n",
    "np.where(arr > 0, 2, arr) #insere apenas 2 onde é positivo e mantém onde é negativo\n",
    "\n"
   ]
  },
  {
   "cell_type": "code",
   "execution_count": 15,
   "metadata": {},
   "outputs": [
    {
     "data": {
      "text/plain": [
       "<function ndarray.mean>"
      ]
     },
     "execution_count": 15,
     "metadata": {},
     "output_type": "execute_result"
    },
    {
     "data": {
      "text/plain": [
       "0.12813947720966848"
      ]
     },
     "execution_count": 15,
     "metadata": {},
     "output_type": "execute_result"
    },
    {
     "data": {
      "text/plain": [
       "<function ndarray.sum>"
      ]
     },
     "execution_count": 15,
     "metadata": {},
     "output_type": "execute_result"
    },
    {
     "data": {
      "text/plain": [
       "array([-0.15174856, -0.18277894,  0.11469475,  0.16812383,  0.69240631])"
      ]
     },
     "execution_count": 15,
     "metadata": {},
     "output_type": "execute_result"
    },
    {
     "data": {
      "text/plain": [
       "array([ 1.02457903,  0.50757336,  1.7754118 , -0.74477465])"
      ]
     },
     "execution_count": 15,
     "metadata": {},
     "output_type": "execute_result"
    },
    {
     "data": {
      "text/plain": [
       "<function ndarray.cumsum>"
      ]
     },
     "execution_count": 15,
     "metadata": {},
     "output_type": "execute_result"
    },
    {
     "data": {
      "text/plain": [
       "<function ndarray.cumprod>"
      ]
     },
     "execution_count": 15,
     "metadata": {},
     "output_type": "execute_result"
    },
    {
     "data": {
      "text/plain": [
       "array([[ 0,  1,  2],\n",
       "       [ 3,  5,  7],\n",
       "       [ 9, 12, 15]], dtype=int32)"
      ]
     },
     "execution_count": 15,
     "metadata": {},
     "output_type": "execute_result"
    },
    {
     "data": {
      "text/plain": [
       "array([[  0,   0,   0],\n",
       "       [  3,  12,  60],\n",
       "       [  6,  42, 336]], dtype=int32)"
      ]
     },
     "execution_count": 15,
     "metadata": {},
     "output_type": "execute_result"
    }
   ],
   "source": [
    "#matemática e estatístca\n",
    "arr = np.random.randn(5,4)\n",
    "\n",
    "arr.mean #média\n",
    "np.mean(arr) #média\n",
    "arr.sum #somatório\n",
    "\n",
    "arr.mean(axis = 1) #média pela COLUNA selecionada\n",
    "arr.sum(axis = 0) #soma pela LINHA selecionada\n",
    "\n",
    "arr = np.array([0,1,2,3,4,5,6,7])\n",
    "arr.cumsum #soma acumulada\n",
    "arr.cumprod #produto acumulado\n",
    "\n",
    "arr = np.array([[0,1,2],[3,4,5],[6,7,8]])\n",
    "arr.cumsum(axis = 0) #soma pela LINHA\n",
    "arr.cumprod(axis = 1) #produto acumulado pela COLUNA\n"
   ]
  },
  {
   "cell_type": "code",
   "execution_count": 16,
   "metadata": {},
   "outputs": [
    {
     "data": {
      "text/plain": [
       "57"
      ]
     },
     "execution_count": 16,
     "metadata": {},
     "output_type": "execute_result"
    },
    {
     "data": {
      "text/plain": [
       "True"
      ]
     },
     "execution_count": 16,
     "metadata": {},
     "output_type": "execute_result"
    },
    {
     "data": {
      "text/plain": [
       "True"
      ]
     },
     "execution_count": 16,
     "metadata": {},
     "output_type": "execute_result"
    }
   ],
   "source": [
    "#método para array booleano\n",
    "\n",
    "arr = np.random.randn(100)\n",
    "(arr>0).sum() #soma dos positivos\n",
    "\n",
    "bools = np.array([False, False, True, False])\n",
    "bools.any() #verifica se há algum valor True\n",
    "bools.any() #verifica se todos os valores são True"
   ]
  },
  {
   "cell_type": "code",
   "execution_count": 17,
   "metadata": {},
   "outputs": [],
   "source": [
    "#ordenação \n",
    "arr = np.random.randn(6)\n",
    "arr.sort() #ordena in-place\n",
    "\n",
    "arr = np.random.rand(5,3)\n",
    "arr.sort(1) #ordena apenas o eixo selecionado"
   ]
  },
  {
   "cell_type": "code",
   "execution_count": 18,
   "metadata": {},
   "outputs": [
    {
     "data": {
      "text/plain": [
       "array(['Bob', 'Joe', 'Will'], dtype='<U4')"
      ]
     },
     "execution_count": 18,
     "metadata": {},
     "output_type": "execute_result"
    },
    {
     "data": {
      "text/plain": [
       "array([ True, False, False,  True,  True, False,  True])"
      ]
     },
     "execution_count": 18,
     "metadata": {},
     "output_type": "execute_result"
    }
   ],
   "source": [
    "#unicidade\n",
    "names = np.array(['Bob','Joe','Will','Bob','Will','Joe','Joe'])\n",
    "np.unique(names) #retorna os valores de forma unica e ordenada\n",
    "\n",
    "values = np.array([6,0,0,3,2,5,6])\n",
    "np.in1d(values, [2,3,6]) #verifica se os valores passados estão no vetor retornando um vetor booleano"
   ]
  },
  {
   "cell_type": "markdown",
   "metadata": {},
   "source": [
    "## Entrada e saída de arquivos"
   ]
  },
  {
   "cell_type": "code",
   "execution_count": 19,
   "metadata": {},
   "outputs": [
    {
     "data": {
      "text/plain": [
       "array([0, 1, 2, 3, 4, 5, 6, 7, 8, 9])"
      ]
     },
     "execution_count": 19,
     "metadata": {},
     "output_type": "execute_result"
    },
    {
     "ename": "TypeError",
     "evalue": "load() got an unexpected keyword argument 'a'",
     "output_type": "error",
     "traceback": [
      "\u001b[1;31m---------------------------------------------------------------------------\u001b[0m",
      "\u001b[1;31mTypeError\u001b[0m                                 Traceback (most recent call last)",
      "\u001b[1;32m<ipython-input-19-aa9aa4ed1913>\u001b[0m in \u001b[0;36m<module>\u001b[1;34m\u001b[0m\n\u001b[0;32m      6\u001b[0m \u001b[0mnp\u001b[0m\u001b[1;33m.\u001b[0m\u001b[0msavez\u001b[0m\u001b[1;33m(\u001b[0m\u001b[1;34m'array_archive.npz'\u001b[0m\u001b[1;33m,\u001b[0m\u001b[0ma\u001b[0m\u001b[1;33m=\u001b[0m\u001b[0marr\u001b[0m\u001b[1;33m,\u001b[0m\u001b[0mb\u001b[0m\u001b[1;33m=\u001b[0m\u001b[0marr\u001b[0m\u001b[1;33m)\u001b[0m \u001b[1;31m#salva vários arquivos em um sem compactar\u001b[0m\u001b[1;33m\u001b[0m\u001b[1;33m\u001b[0m\u001b[0m\n\u001b[0;32m      7\u001b[0m \u001b[1;33m\u001b[0m\u001b[0m\n\u001b[1;32m----> 8\u001b[1;33m \u001b[0march\u001b[0m \u001b[1;33m=\u001b[0m \u001b[0mnp\u001b[0m\u001b[1;33m.\u001b[0m\u001b[0mload\u001b[0m\u001b[1;33m(\u001b[0m\u001b[1;34m'array_archive.npz'\u001b[0m\u001b[1;33m,\u001b[0m \u001b[0ma\u001b[0m \u001b[1;33m=\u001b[0m\u001b[0marr\u001b[0m\u001b[1;33m,\u001b[0m\u001b[0mb\u001b[0m\u001b[1;33m=\u001b[0m\u001b[0marr\u001b[0m\u001b[1;33m)\u001b[0m\u001b[1;33m\u001b[0m\u001b[1;33m\u001b[0m\u001b[0m\n\u001b[0m\u001b[0;32m      9\u001b[0m \u001b[0march\u001b[0m\u001b[1;33m[\u001b[0m\u001b[1;34m'b'\u001b[0m\u001b[1;33m]\u001b[0m \u001b[1;31m#retorna a parte b do arquivo\u001b[0m\u001b[1;33m\u001b[0m\u001b[1;33m\u001b[0m\u001b[0m\n\u001b[0;32m     10\u001b[0m \u001b[1;33m\u001b[0m\u001b[0m\n",
      "\u001b[1;31mTypeError\u001b[0m: load() got an unexpected keyword argument 'a'"
     ]
    }
   ],
   "source": [
    "#trabalhando com arquivos \n",
    "arr = np.arange(10)\n",
    "\n",
    "np.save('some_array',arr) #salvando um arquivo\n",
    "np.load('some_array.npy') #se não estiver em npy, a extensão será concatenada\n",
    "np.savez('array_archive.npz',a=arr,b=arr) #salva vários arquivos em um sem compactar\n",
    "\n",
    "arch = np.load('array_archive.npz', a =arr,b=arr)\n",
    "arch['b'] #retorna a parte b do arquivo\n",
    "\n",
    "np.savez_compressed('arrays_compressed.npz', a=arr, b=arr) #salva compactado"
   ]
  },
  {
   "cell_type": "markdown",
   "metadata": {},
   "source": [
    "## Algebra linear"
   ]
  },
  {
   "cell_type": "code",
   "execution_count": 20,
   "metadata": {},
   "outputs": [
    {
     "ename": "TypeError",
     "evalue": "array() takes from 1 to 2 positional arguments but 3 were given",
     "output_type": "error",
     "traceback": [
      "\u001b[1;31m---------------------------------------------------------------------------\u001b[0m",
      "\u001b[1;31mTypeError\u001b[0m                                 Traceback (most recent call last)",
      "\u001b[1;32m<ipython-input-20-8282bb057391>\u001b[0m in \u001b[0;36m<module>\u001b[1;34m\u001b[0m\n\u001b[0;32m      1\u001b[0m \u001b[0mx\u001b[0m \u001b[1;33m=\u001b[0m \u001b[0mnp\u001b[0m\u001b[1;33m.\u001b[0m\u001b[0marray\u001b[0m\u001b[1;33m(\u001b[0m\u001b[1;33m[\u001b[0m\u001b[1;33m[\u001b[0m\u001b[1;36m1.\u001b[0m\u001b[1;33m,\u001b[0m\u001b[1;36m2.\u001b[0m\u001b[1;33m,\u001b[0m\u001b[1;36m3.\u001b[0m\u001b[1;33m]\u001b[0m\u001b[1;33m,\u001b[0m\u001b[1;33m[\u001b[0m\u001b[1;36m4.\u001b[0m\u001b[1;33m,\u001b[0m\u001b[1;36m5.\u001b[0m\u001b[1;33m,\u001b[0m\u001b[1;36m6.\u001b[0m\u001b[1;33m]\u001b[0m\u001b[1;33m]\u001b[0m\u001b[1;33m)\u001b[0m\u001b[1;33m\u001b[0m\u001b[1;33m\u001b[0m\u001b[0m\n\u001b[1;32m----> 2\u001b[1;33m \u001b[0my\u001b[0m \u001b[1;33m=\u001b[0m \u001b[0mnp\u001b[0m\u001b[1;33m.\u001b[0m\u001b[0marray\u001b[0m\u001b[1;33m(\u001b[0m\u001b[1;33m[\u001b[0m\u001b[1;36m6.\u001b[0m\u001b[1;33m,\u001b[0m\u001b[1;36m23.\u001b[0m\u001b[1;33m]\u001b[0m\u001b[1;33m,\u001b[0m\u001b[1;33m[\u001b[0m\u001b[1;33m-\u001b[0m\u001b[1;36m1\u001b[0m\u001b[1;33m,\u001b[0m\u001b[1;36m7\u001b[0m\u001b[1;33m]\u001b[0m\u001b[1;33m,\u001b[0m\u001b[1;33m[\u001b[0m\u001b[1;36m8\u001b[0m\u001b[1;33m,\u001b[0m\u001b[1;36m9\u001b[0m\u001b[1;33m]\u001b[0m\u001b[1;33m)\u001b[0m\u001b[1;33m\u001b[0m\u001b[1;33m\u001b[0m\u001b[0m\n\u001b[0m\u001b[0;32m      3\u001b[0m \u001b[1;33m\u001b[0m\u001b[0m\n\u001b[0;32m      4\u001b[0m \u001b[0mx\u001b[0m\u001b[1;33m.\u001b[0m\u001b[0mdot\u001b[0m\u001b[1;33m(\u001b[0m\u001b[0my\u001b[0m\u001b[1;33m)\u001b[0m \u001b[1;31m#produto x e y\u001b[0m\u001b[1;33m\u001b[0m\u001b[1;33m\u001b[0m\u001b[0m\n\u001b[0;32m      5\u001b[0m \u001b[0mnp\u001b[0m\u001b[1;33m.\u001b[0m\u001b[0mdot\u001b[0m\u001b[1;33m(\u001b[0m\u001b[0mx\u001b[0m\u001b[1;33m,\u001b[0m\u001b[0my\u001b[0m\u001b[1;33m)\u001b[0m \u001b[1;31m#produto x e y\u001b[0m\u001b[1;33m\u001b[0m\u001b[1;33m\u001b[0m\u001b[0m\n",
      "\u001b[1;31mTypeError\u001b[0m: array() takes from 1 to 2 positional arguments but 3 were given"
     ]
    }
   ],
   "source": [
    "x = np.array([[1.,2.,3.],[4.,5.,6.]])\n",
    "y = np.array([6.,23.],[-1,7],[8,9])\n",
    "\n",
    "x.dot(y) #produto x e y\n",
    "np.dot(x,y) #produto x e y\n",
    "np.dot(x, np.ones(3))\n",
    "x @ np.ones(3) #o operador @ realiza uma multiplicação\n",
    "\n",
    "X = np.random.randn(5,5)\n",
    "mat = X.T.dot(X)\n",
    "\n",
    "inv(mat) #inversa\n",
    "mat.dot(inv(mat))\n",
    "\n",
    "q, r = qr(mat) #decomposição QR"
   ]
  },
  {
   "cell_type": "markdown",
   "metadata": {},
   "source": [
    "## Pseudoaleatórios"
   ]
  },
  {
   "cell_type": "code",
   "execution_count": 21,
   "metadata": {},
   "outputs": [],
   "source": [
    "#módulo np.random\n",
    "\n",
    "samples = np.random.normal(size = (4,4))"
   ]
  },
  {
   "cell_type": "code",
   "execution_count": null,
   "metadata": {},
   "outputs": [],
   "source": []
  }
 ],
 "metadata": {
  "kernelspec": {
   "display_name": "Python 3",
   "language": "python",
   "name": "python3"
  },
  "language_info": {
   "codemirror_mode": {
    "name": "ipython",
    "version": 3
   },
   "file_extension": ".py",
   "mimetype": "text/x-python",
   "name": "python",
   "nbconvert_exporter": "python",
   "pygments_lexer": "ipython3",
   "version": "3.8.5"
  }
 },
 "nbformat": 4,
 "nbformat_minor": 4
}
