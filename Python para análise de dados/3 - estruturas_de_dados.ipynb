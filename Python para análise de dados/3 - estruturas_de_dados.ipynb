{
 "cells": [
  {
   "cell_type": "markdown",
   "metadata": {
    "scrolled": false
   },
   "source": [
    "### TUPLAS"
   ]
  },
  {
   "cell_type": "code",
   "execution_count": 4,
   "metadata": {},
   "outputs": [],
   "source": [
    "from IPython.core.interactiveshell import InteractiveShell\n",
    "InteractiveShell.ast_node_interactivity = \"all\""
   ]
  },
  {
   "cell_type": "code",
   "execution_count": 5,
   "metadata": {},
   "outputs": [
    {
     "data": {
      "text/plain": [
       "((4, 5, 6), (7, 8))"
      ]
     },
     "execution_count": 5,
     "metadata": {},
     "output_type": "execute_result"
    },
    {
     "data": {
      "text/plain": [
       "(4, 5, 6)"
      ]
     },
     "execution_count": 5,
     "metadata": {},
     "output_type": "execute_result"
    },
    {
     "data": {
      "text/plain": [
       "4"
      ]
     },
     "execution_count": 5,
     "metadata": {},
     "output_type": "execute_result"
    }
   ],
   "source": [
    "#criando uma tupla\n",
    "tup = 4,5,6\n",
    "\n",
    "#tupla mais complexa\n",
    "nested_tup = (4,5,6), (7,8)\n",
    "nested_tup\n",
    "\n",
    "#convertendo uma lista em uma tupla\n",
    "tuple([4,5,6])\n",
    "\n",
    "#uma palavra é uma tupla de strings\n",
    "palavra = tuple('string')\n",
    "\n",
    "#podemos invocar um elemento de uma tupla\n",
    "tup[0] #retorna o primeiro valor de um tupla"
   ]
  },
  {
   "cell_type": "code",
   "execution_count": 6,
   "metadata": {},
   "outputs": [
    {
     "ename": "TypeError",
     "evalue": "'tuple' object does not support item assignment",
     "output_type": "error",
     "traceback": [
      "\u001b[1;31m---------------------------------------------------------------------------\u001b[0m",
      "\u001b[1;31mTypeError\u001b[0m                                 Traceback (most recent call last)",
      "\u001b[1;32m<ipython-input-6-ebd0bd3fb663>\u001b[0m in \u001b[0;36m<module>\u001b[1;34m\u001b[0m\n\u001b[0;32m      1\u001b[0m \u001b[1;31m#tuplas são imutáveis! Não é possível inserir um elemento novo\u001b[0m\u001b[1;33m\u001b[0m\u001b[1;33m\u001b[0m\u001b[1;33m\u001b[0m\u001b[0m\n\u001b[0;32m      2\u001b[0m \u001b[0mimutavel\u001b[0m \u001b[1;33m=\u001b[0m \u001b[0mtuple\u001b[0m\u001b[1;33m(\u001b[0m\u001b[1;33m[\u001b[0m\u001b[1;34m'foo'\u001b[0m\u001b[1;33m,\u001b[0m\u001b[1;33m[\u001b[0m\u001b[1;36m1\u001b[0m\u001b[1;33m,\u001b[0m\u001b[1;36m2\u001b[0m\u001b[1;33m]\u001b[0m\u001b[1;33m,\u001b[0m\u001b[1;32mTrue\u001b[0m\u001b[1;33m]\u001b[0m\u001b[1;33m)\u001b[0m\u001b[1;33m\u001b[0m\u001b[1;33m\u001b[0m\u001b[0m\n\u001b[1;32m----> 3\u001b[1;33m \u001b[0mtup\u001b[0m\u001b[1;33m[\u001b[0m\u001b[1;36m2\u001b[0m\u001b[1;33m]\u001b[0m \u001b[1;33m=\u001b[0m \u001b[1;32mFalse\u001b[0m \u001b[1;31m#o Python não permitirá isso!!!\u001b[0m\u001b[1;33m\u001b[0m\u001b[1;33m\u001b[0m\u001b[0m\n\u001b[0m",
      "\u001b[1;31mTypeError\u001b[0m: 'tuple' object does not support item assignment"
     ]
    }
   ],
   "source": [
    "#tuplas são imutáveis! Não é possível inserir um elemento novo\n",
    "imutavel = tuple(['foo',[1,2],True])\n",
    "tup[2] = False #o Python não permitirá isso!!!"
   ]
  },
  {
   "cell_type": "code",
   "execution_count": null,
   "metadata": {},
   "outputs": [],
   "source": [
    "#se um objeto dentro de uma tupla for mutável (uma lista), podemos adicionar elementos nele com .append\n",
    "imutavel[1].append(3) #adicionando 3 à lista presente na tupla"
   ]
  },
  {
   "cell_type": "code",
   "execution_count": null,
   "metadata": {},
   "outputs": [],
   "source": [
    "#podemos concatenar(inserir uma em outra) tuplas com +\n",
    "(4, None, 'foo') + (6,0) + ('bar',) #a , é necessária\n",
    "\n",
    "('foo', 'bar') * 4 #repetirá 4 vezes a tupla"
   ]
  },
  {
   "cell_type": "code",
   "execution_count": null,
   "metadata": {},
   "outputs": [],
   "source": [
    "#atribuição em tuplas\n",
    "atribuida = 4, 5, (6, 7) #definimos uma tupla\n",
    "a, b, c = atribuida #cada letra na esquerda receberá um elemento na tupla\n",
    "e, f, g, h = atribuida"
   ]
  },
  {
   "cell_type": "code",
   "execution_count": null,
   "metadata": {},
   "outputs": [],
   "source": [
    "#com a atribuição podemos fazer swaps entre valores\n",
    "i, j = 1, 2\n",
    "j, i = i, j #trocamos os valores das variáveis"
   ]
  },
  {
   "cell_type": "code",
   "execution_count": null,
   "metadata": {},
   "outputs": [],
   "source": [
    "#a melhor utilização de um swap é com sequências grandes\n",
    "values = 1, 2, 3, 4, 5, 6\n",
    "k, l, *rest = values #a sintaxe *rest armazena o restante dos valores\n",
    "k, l, *_ = values #por convenção utilizasse *_ no lugar de rest"
   ]
  },
  {
   "cell_type": "markdown",
   "metadata": {},
   "source": [
    "### LISTAS"
   ]
  },
  {
   "cell_type": "markdown",
   "metadata": {},
   "source": [
    "#### Criando uma lista"
   ]
  },
  {
   "cell_type": "code",
   "execution_count": null,
   "metadata": {},
   "outputs": [],
   "source": [
    "a_list = [2, 3, 7, None]\n",
    "tupla = ('foo', 'bar', 'baz')\n",
    "b_list = list(tupla) #transformando um objeto em uma lista, até mesmo uma tupla\n",
    "\n",
    "b_list[1] = 'peekaboo' #a lista insere a string no lugar 1"
   ]
  },
  {
   "cell_type": "code",
   "execution_count": null,
   "metadata": {},
   "outputs": [],
   "source": [
    "#geralmente utilizamos listas unidas a um iterador\n",
    "\n",
    "gen = range(10)\n",
    "list(gen) #transformamos em lista"
   ]
  },
  {
   "cell_type": "code",
   "execution_count": null,
   "metadata": {},
   "outputs": [],
   "source": [
    "#adicionando e removendo valores a uma lista\n",
    "\n",
    "b_list.append('dwarf') #insere um novo valor à lista\n",
    "b_list.insert(1, 'red') #insere um novo valor à posição 1 da lista\n",
    "\n",
    "b_list.pop(2) #remove o elemento 2, é o inverso de insert\n",
    "b_list.remove('foo') #remove o elemento, é o inverso de appende\n",
    "\n",
    "'dwarf' in b_list #verifica se o elemento está na lista"
   ]
  },
  {
   "cell_type": "code",
   "execution_count": null,
   "metadata": {},
   "outputs": [],
   "source": [
    "#adicionando e removendo valores a uma lista\n",
    "\n",
    "b_list.append('dwarf') #insere um novo valor à lista\n",
    "b_list.insert(1, 'red') #insere um novo valor à posição 1 da lista\n",
    "\n",
    "b_list.pop(2) #remove o elemento 2, é o inverso de insert\n",
    "b_list.remove('foo') #remove o elemento, é o inverso de appende\n",
    "\n",
    "'dwarf' in b_list #verifica se o elemento está na lista"
   ]
  },
  {
   "cell_type": "code",
   "execution_count": null,
   "metadata": {},
   "outputs": [],
   "source": [
    "#fatiamento\n",
    "\n",
    "seq = [7, 2, 3, 7, 5, 6, 0, 1]\n",
    "seq[1:5] #fatiamos utilizando os intervalo entre os indexes\n",
    "seq[:5]\n",
    "seq[-4:] #também há contagem negativa\n",
    "seq[::2] #podemos definir um step\n",
    "seq[::-1] #recurso para inversão de lista "
   ]
  },
  {
   "cell_type": "markdown",
   "metadata": {},
   "source": [
    "## Funções interessantes"
   ]
  },
  {
   "cell_type": "code",
   "execution_count": null,
   "metadata": {},
   "outputs": [],
   "source": [
    "#função enumerate\n",
    "'''muitas vezes queremos saber o índice de um item'''"
   ]
  },
  {
   "cell_type": "code",
   "execution_count": null,
   "metadata": {},
   "outputs": [],
   "source": [
    "#utilizando enumerate\n",
    "for i, value in enumerate(collection):\n",
    "\t#alguma instrução útil"
   ]
  },
  {
   "cell_type": "code",
   "execution_count": null,
   "metadata": {},
   "outputs": [],
   "source": [
    "#uma ferramenta útil é calcularmos um dicionário para mapear os valores aos locais:\n",
    "some_list = ['foo', 'bar', 'baz']\n",
    "mapping = {} #um dicionário\n",
    "for i, v in enumerate(some_list):\n",
    "\tmapping[v] = i\n",
    "mapping"
   ]
  },
  {
   "cell_type": "code",
   "execution_count": null,
   "metadata": {},
   "outputs": [],
   "source": [
    "#função sorted\n",
    "''' muitas vezes queremos ordenar uma lista '''"
   ]
  },
  {
   "cell_type": "code",
   "execution_count": null,
   "metadata": {},
   "outputs": [],
   "source": [
    "sorted([7, 1, 2, 6, 0, 3, 2]) #ordena numericamente\n",
    "sorted('horse race') #ordena alfanumericamente"
   ]
  },
  {
   "cell_type": "code",
   "execution_count": null,
   "metadata": {},
   "outputs": [],
   "source": [
    "#função zip\n",
    "''' a função pareia uma séria de elementos(listas, tuplas, etc...) '''"
   ]
  },
  {
   "cell_type": "code",
   "execution_count": null,
   "metadata": {},
   "outputs": [],
   "source": [
    "seq1 = ['foo','bar','baz']\n",
    "seq2 = ['one','two','three']\n",
    "zipped = zip(seq1, seq2)\n",
    "list(zipped) #nos apresentará uma lista dos elementos zipados"
   ]
  },
  {
   "cell_type": "code",
   "execution_count": null,
   "metadata": {},
   "outputs": [],
   "source": [
    "#podemos utilziar isso com enumerate\n",
    "for i, (a,b) in enumerate(zip(seq1,seq2)):\n",
    "    print('{}: {}, {}'.format(i, a, b))"
   ]
  },
  {
   "cell_type": "code",
   "execution_count": null,
   "metadata": {},
   "outputs": [],
   "source": [
    "#podemos desparear uma sequência\n",
    "pitcher = [('Nolan', 'Ryan'), ('Roger', 'Clemens'), ('Schilling', 'Curt')]\n",
    "first_name, last_name = zip(*pitcher)\n",
    "first_name\n",
    "last_name"
   ]
  },
  {
   "cell_type": "code",
   "execution_count": null,
   "metadata": {},
   "outputs": [],
   "source": [
    "#função reversed\n",
    "''' inverte a lista '''"
   ]
  },
  {
   "cell_type": "code",
   "execution_count": null,
   "metadata": {},
   "outputs": [],
   "source": [
    "list(reversed(range(10)))"
   ]
  },
  {
   "cell_type": "markdown",
   "metadata": {},
   "source": [
    "## DICIONARIOS"
   ]
  },
  {
   "cell_type": "code",
   "execution_count": null,
   "metadata": {},
   "outputs": [],
   "source": [
    "empty_dict = {}\n",
    "d1 = {'a': 'valor', 'b': [1,2,3,4]}\n",
    "d1\n",
    "\n",
    "d1[7] = 'an value' #insere valores\n",
    "d1['dummy'] = 'another value' #insere chave-valor\n",
    "d1['b'] #chama pela chave\n",
    "d1[5] = 'some value'\n",
    "del d1[5] #deleta o valor pelo chave\n",
    "ret = d1.pop('dummy') #insere um valor na variável e exclui ele do dicionário\n",
    "\n",
    "list(d1.keys()) #lista as chaves\n",
    "list(d1.values()) #lista os valores\n",
    "\n",
    "d1.update({'b': 'foo', 'c': 12}) #insere dicionario dentro da função update em outro"
   ]
  },
  {
   "cell_type": "code",
   "execution_count": null,
   "metadata": {},
   "outputs": [],
   "source": [
    " #podemos criar um dicionário com uma sequência\n",
    "\n",
    "mapping = {} #temos que criar um dicionário vazio antes\n",
    "key_list = [1,2,3,4]\n",
    "value_list = ['batata','cebola','rucula','alface']\n",
    "\n",
    "for key, value in zip(key_list, value_list):\n",
    "\tmapping[key] = value\n",
    "\n",
    "mapping"
   ]
  },
  {
   "cell_type": "code",
   "execution_count": null,
   "metadata": {},
   "outputs": [],
   "source": [
    "mapping = dict(zip(range(5), reversed(range(5))))\n",
    "mapping"
   ]
  },
  {
   "cell_type": "markdown",
   "metadata": {},
   "source": [
    "## CONJUNTOS"
   ]
  },
  {
   "cell_type": "code",
   "execution_count": null,
   "metadata": {},
   "outputs": [],
   "source": [
    "#criando sets\n",
    "set([2, 2, 2, 1, 3, 3])\n",
    "a = {1, 2, 3, 5, 5}\n",
    "b = {3, 4, 5, 6, 7, 8}"
   ]
  },
  {
   "cell_type": "code",
   "execution_count": null,
   "metadata": {},
   "outputs": [],
   "source": [
    "#operações de conjuntos\n",
    "a.union(b) #união\n",
    "a | b #união\n",
    "\n",
    "a.intersection(b) #interseção\n",
    "a & b #interseção"
   ]
  },
  {
   "cell_type": "markdown",
   "metadata": {},
   "source": [
    "## ABRANGÊNCIAS"
   ]
  },
  {
   "cell_type": "code",
   "execution_count": null,
   "metadata": {},
   "outputs": [],
   "source": [
    "#abragências de listas possuem o padrão\n",
    "expressao for value in collection if condition"
   ]
  },
  {
   "cell_type": "code",
   "execution_count": null,
   "metadata": {},
   "outputs": [],
   "source": [
    "#abrangências de dicionários possuem o padrão\n",
    "dict_comp = {expr-key: expr-value for value in collection}\n",
    "dict_comp"
   ]
  },
  {
   "cell_type": "code",
   "execution_count": null,
   "metadata": {},
   "outputs": [],
   "source": [
    "#abrangêncis em conjuntos possuem o padrão\n",
    "set_comp = {expr for value in collection if condition}\n",
    "set_comp"
   ]
  },
  {
   "cell_type": "code",
   "execution_count": null,
   "metadata": {},
   "outputs": [],
   "source": [
    "strings = ['a', 'as', 'bat', 'car', 'dove', 'python']\n",
    "upper_two = [x.upper for x in strings if len(x) > 2] #criando uma nova lista usando abragência\n",
    "loc_map = {val: index for index, val in enumerate(strings)} #criando um dicionário usando abrangência\n",
    "unique = {len(x) for x in strings} #criando um set usando abrangência"
   ]
  }
 ],
 "metadata": {
  "kernelspec": {
   "display_name": "Python 3",
   "language": "python",
   "name": "python3"
  },
  "language_info": {
   "codemirror_mode": {
    "name": "ipython",
    "version": 3
   },
   "file_extension": ".py",
   "mimetype": "text/x-python",
   "name": "python",
   "nbconvert_exporter": "python",
   "pygments_lexer": "ipython3",
   "version": "3.8.5"
  }
 },
 "nbformat": 4,
 "nbformat_minor": 4
}
